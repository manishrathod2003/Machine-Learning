{
  "nbformat": 4,
  "nbformat_minor": 0,
  "metadata": {
    "colab": {
      "provenance": [],
      "authorship_tag": "ABX9TyMQ7UHnDABEeY7wBUIkZbAy",
      "include_colab_link": true
    },
    "kernelspec": {
      "name": "python3",
      "display_name": "Python 3"
    },
    "language_info": {
      "name": "python"
    }
  },
  "cells": [
    {
      "cell_type": "markdown",
      "metadata": {
        "id": "view-in-github",
        "colab_type": "text"
      },
      "source": [
        "<a href=\"https://colab.research.google.com/github/manishrathod2003/Machine-Learning/blob/main/Day5_03march.ipynb\" target=\"_parent\"><img src=\"https://colab.research.google.com/assets/colab-badge.svg\" alt=\"Open In Colab\"/></a>"
      ]
    },
    {
      "cell_type": "markdown",
      "source": [
        "Assumptions of Linear Regression:\n",
        "- Linearity\n",
        "- Homoscedasticity & Heteroscedasticity\n",
        "- Normality\n",
        "- No multicollinearity, Range: -1 to 1\n",
        "- No auto-correlation"
      ],
      "metadata": {
        "id": "zl4iAcRiaVPe"
      }
    },
    {
      "cell_type": "markdown",
      "source": [
        "p-value < 0.05   --> Error is less than 5%  (Accuracy 95%)\n",
        "\n",
        "p-value is high then significance is less.\n",
        "\n",
        "VIF(Variance Inflation Factor) > 20-50  --> High Multi-Collinear  \n",
        "VIF < 10 ---> Everything is OK.\n",
        "\n",
        "Ordinary Least Squares(OSL Model)"
      ],
      "metadata": {
        "id": "z2O4KqUtfd-i"
      }
    },
    {
      "cell_type": "markdown",
      "source": [
        "Linear Regression  \n",
        "dependent variable --> continuous"
      ],
      "metadata": {
        "id": "iiAxu95JrETm"
      }
    },
    {
      "cell_type": "markdown",
      "source": [
        "Logistic Regression       (Probability Classifier)\n",
        "\n",
        "dependent variable --> categorical\n",
        "\n",
        "S-shape curve --> sigmoid(logis.) --> y=1/(1+e^-x)\n",
        "\n",
        "Threshold"
      ],
      "metadata": {
        "id": "g2gY_nLApghv"
      }
    },
    {
      "cell_type": "markdown",
      "source": [
        "Problem Statement: Given details of users, train a model to predict whether the customer will make a purchase or not?"
      ],
      "metadata": {
        "id": "bVx9LeTwwAu4"
      }
    },
    {
      "cell_type": "code",
      "execution_count": null,
      "metadata": {
        "id": "s7BANzyJaQd6"
      },
      "outputs": [],
      "source": [
        "#Importing Libraries\n",
        "import numpy as np\n",
        "import pandas as pd\n",
        "import matplotlib.pyplot as plt\n",
        "from sklearn.linear_model import LogisticRegression\n",
        "from sklearn.model_selection import train_test_split\n",
        "from sklearn import metrics\n",
        "from sklearn.preprocessing import StandardScaler,LabelEncoder"
      ]
    },
    {
      "cell_type": "code",
      "source": [
        "df=pd.read_csv('/content/Social_Network_Ads.csv')\n",
        "print(df.head())"
      ],
      "metadata": {
        "colab": {
          "base_uri": "https://localhost:8080/"
        },
        "id": "nkGLkXNjxbjw",
        "outputId": "4b0e0299-0668-47bc-ab72-3d8e16a04b8d"
      },
      "execution_count": null,
      "outputs": [
        {
          "output_type": "stream",
          "name": "stdout",
          "text": [
            "    User ID  Gender  Age  EstimatedSalary  Purchased\n",
            "0  15624510    Male   19            19000          0\n",
            "1  15810944    Male   35            20000          0\n",
            "2  15668575  Female   26            43000          0\n",
            "3  15603246  Female   27            57000          0\n",
            "4  15804002    Male   19            76000          0\n"
          ]
        }
      ]
    },
    {
      "cell_type": "code",
      "source": [
        "df.info()"
      ],
      "metadata": {
        "colab": {
          "base_uri": "https://localhost:8080/"
        },
        "id": "sA6yH8JUxjDI",
        "outputId": "57a7cff7-2230-4d62-8b71-d012570266a4"
      },
      "execution_count": null,
      "outputs": [
        {
          "output_type": "stream",
          "name": "stdout",
          "text": [
            "<class 'pandas.core.frame.DataFrame'>\n",
            "RangeIndex: 400 entries, 0 to 399\n",
            "Data columns (total 5 columns):\n",
            " #   Column           Non-Null Count  Dtype \n",
            "---  ------           --------------  ----- \n",
            " 0   User ID          400 non-null    int64 \n",
            " 1   Gender           396 non-null    object\n",
            " 2   Age              400 non-null    int64 \n",
            " 3   EstimatedSalary  400 non-null    int64 \n",
            " 4   Purchased        400 non-null    int64 \n",
            "dtypes: int64(4), object(1)\n",
            "memory usage: 15.8+ KB\n"
          ]
        }
      ]
    },
    {
      "cell_type": "code",
      "source": [
        "#Check for Null Values\n",
        "df.isnull().sum()"
      ],
      "metadata": {
        "colab": {
          "base_uri": "https://localhost:8080/",
          "height": 241
        },
        "id": "VT05owukxlLJ",
        "outputId": "62d65289-3535-4452-eafa-9765fad934e3"
      },
      "execution_count": null,
      "outputs": [
        {
          "output_type": "execute_result",
          "data": {
            "text/plain": [
              "User ID            0\n",
              "Gender             4\n",
              "Age                0\n",
              "EstimatedSalary    0\n",
              "Purchased          0\n",
              "dtype: int64"
            ],
            "text/html": [
              "<div>\n",
              "<style scoped>\n",
              "    .dataframe tbody tr th:only-of-type {\n",
              "        vertical-align: middle;\n",
              "    }\n",
              "\n",
              "    .dataframe tbody tr th {\n",
              "        vertical-align: top;\n",
              "    }\n",
              "\n",
              "    .dataframe thead th {\n",
              "        text-align: right;\n",
              "    }\n",
              "</style>\n",
              "<table border=\"1\" class=\"dataframe\">\n",
              "  <thead>\n",
              "    <tr style=\"text-align: right;\">\n",
              "      <th></th>\n",
              "      <th>0</th>\n",
              "    </tr>\n",
              "  </thead>\n",
              "  <tbody>\n",
              "    <tr>\n",
              "      <th>User ID</th>\n",
              "      <td>0</td>\n",
              "    </tr>\n",
              "    <tr>\n",
              "      <th>Gender</th>\n",
              "      <td>4</td>\n",
              "    </tr>\n",
              "    <tr>\n",
              "      <th>Age</th>\n",
              "      <td>0</td>\n",
              "    </tr>\n",
              "    <tr>\n",
              "      <th>EstimatedSalary</th>\n",
              "      <td>0</td>\n",
              "    </tr>\n",
              "    <tr>\n",
              "      <th>Purchased</th>\n",
              "      <td>0</td>\n",
              "    </tr>\n",
              "  </tbody>\n",
              "</table>\n",
              "</div><br><label><b>dtype:</b> int64</label>"
            ]
          },
          "metadata": {},
          "execution_count": 8
        }
      ]
    },
    {
      "cell_type": "code",
      "source": [
        "df_null=df[df.isna().any(axis=1)]\n",
        "print(df_null)"
      ],
      "metadata": {
        "colab": {
          "base_uri": "https://localhost:8080/"
        },
        "id": "jEZ6EWAGx8Bx",
        "outputId": "7bcf4ef1-1d04-4254-d0c3-d08c735457d3"
      },
      "execution_count": null,
      "outputs": [
        {
          "output_type": "stream",
          "name": "stdout",
          "text": [
            "     User ID Gender  Age  EstimatedSalary  Purchased\n",
            "14  15628972    NaN   18            82000          0\n",
            "18  15704583    NaN   46            28000          1\n",
            "23  15599081    NaN   45            22000          1\n",
            "29  15669656    NaN   31            18000          0\n"
          ]
        }
      ]
    },
    {
      "cell_type": "code",
      "source": [
        "#Perform encoding on categorical feature: Gender\n",
        "le=LabelEncoder()\n",
        "df['Gender']=le.fit_transform(df['Gender'])\n",
        "print(df)"
      ],
      "metadata": {
        "colab": {
          "base_uri": "https://localhost:8080/"
        },
        "id": "FJ56RQ7dyVvW",
        "outputId": "2fbe2ef0-699e-4988-9a8d-319e783d778d"
      },
      "execution_count": null,
      "outputs": [
        {
          "output_type": "stream",
          "name": "stdout",
          "text": [
            "      User ID  Gender  Age  EstimatedSalary  Purchased\n",
            "0    15624510       1   19            19000          0\n",
            "1    15810944       1   35            20000          0\n",
            "2    15668575       0   26            43000          0\n",
            "3    15603246       0   27            57000          0\n",
            "4    15804002       1   19            76000          0\n",
            "..        ...     ...  ...              ...        ...\n",
            "395  15691863       0   46            41000          1\n",
            "396  15706071       1   51            23000          1\n",
            "397  15654296       0   50            20000          1\n",
            "398  15755018       1   36            33000          0\n",
            "399  15594041       0   49            36000          1\n",
            "\n",
            "[400 rows x 5 columns]\n"
          ]
        }
      ]
    },
    {
      "cell_type": "code",
      "source": [
        "print(df.info())"
      ],
      "metadata": {
        "colab": {
          "base_uri": "https://localhost:8080/"
        },
        "id": "5eh12TRcywrI",
        "outputId": "2d1b34a0-faa4-4b53-9227-432928fa2939"
      },
      "execution_count": null,
      "outputs": [
        {
          "output_type": "stream",
          "name": "stdout",
          "text": [
            "<class 'pandas.core.frame.DataFrame'>\n",
            "RangeIndex: 400 entries, 0 to 399\n",
            "Data columns (total 5 columns):\n",
            " #   Column           Non-Null Count  Dtype\n",
            "---  ------           --------------  -----\n",
            " 0   User ID          400 non-null    int64\n",
            " 1   Gender           400 non-null    int64\n",
            " 2   Age              400 non-null    int64\n",
            " 3   EstimatedSalary  400 non-null    int64\n",
            " 4   Purchased        400 non-null    int64\n",
            "dtypes: int64(5)\n",
            "memory usage: 15.8 KB\n",
            "None\n"
          ]
        }
      ]
    },
    {
      "cell_type": "code",
      "source": [
        "df.drop(['User ID'],axis=1,inplace=True)\n",
        "print(df)"
      ],
      "metadata": {
        "colab": {
          "base_uri": "https://localhost:8080/"
        },
        "id": "ODv3klwOy8uv",
        "outputId": "91a44928-6984-458d-b38c-4dc8b132607f"
      },
      "execution_count": null,
      "outputs": [
        {
          "output_type": "stream",
          "name": "stdout",
          "text": [
            "     Gender  Age  EstimatedSalary  Purchased\n",
            "0         1   19            19000          0\n",
            "1         1   35            20000          0\n",
            "2         0   26            43000          0\n",
            "3         0   27            57000          0\n",
            "4         1   19            76000          0\n",
            "..      ...  ...              ...        ...\n",
            "395       0   46            41000          1\n",
            "396       1   51            23000          1\n",
            "397       0   50            20000          1\n",
            "398       1   36            33000          0\n",
            "399       0   49            36000          1\n",
            "\n",
            "[400 rows x 4 columns]\n"
          ]
        }
      ]
    },
    {
      "cell_type": "code",
      "source": [
        "#Scaling Numerical Features\n",
        "sc=StandardScaler()\n",
        "df['Age']=sc.fit_transform(df[['Age']])\n",
        "df['EstimatedSalary']=sc.fit_transform(df[['EstimatedSalary']])\n",
        "print(df)"
      ],
      "metadata": {
        "colab": {
          "base_uri": "https://localhost:8080/"
        },
        "id": "2QPKJ2HhzTOH",
        "outputId": "834b75ee-b597-42ca-82aa-a02909749f17"
      },
      "execution_count": null,
      "outputs": [
        {
          "output_type": "stream",
          "name": "stdout",
          "text": [
            "     Gender       Age  EstimatedSalary  Purchased\n",
            "0         1 -1.781797        -1.490046          0\n",
            "1         1 -0.253587        -1.460681          0\n",
            "2         0 -1.113206        -0.785290          0\n",
            "3         0 -1.017692        -0.374182          0\n",
            "4         1 -1.781797         0.183751          0\n",
            "..      ...       ...              ...        ...\n",
            "395       0  0.797057        -0.844019          1\n",
            "396       1  1.274623        -1.372587          1\n",
            "397       0  1.179110        -1.460681          1\n",
            "398       1 -0.158074        -1.078938          0\n",
            "399       0  1.083596        -0.990844          1\n",
            "\n",
            "[400 rows x 4 columns]\n"
          ]
        }
      ]
    },
    {
      "cell_type": "code",
      "source": [
        "#Separate Independent and Dependent Features\n",
        "x=df.drop(['Purchased'],axis=1)\n",
        "y=df['Purchased']\n",
        "print(x)\n",
        "print(y)"
      ],
      "metadata": {
        "colab": {
          "base_uri": "https://localhost:8080/"
        },
        "id": "G7DYjkywzsb2",
        "outputId": "f6f61e7e-ff1d-4a48-fdd0-3e2bb9287fd8"
      },
      "execution_count": null,
      "outputs": [
        {
          "output_type": "stream",
          "name": "stdout",
          "text": [
            "     Gender       Age  EstimatedSalary\n",
            "0         1 -1.781797        -1.490046\n",
            "1         1 -0.253587        -1.460681\n",
            "2         0 -1.113206        -0.785290\n",
            "3         0 -1.017692        -0.374182\n",
            "4         1 -1.781797         0.183751\n",
            "..      ...       ...              ...\n",
            "395       0  0.797057        -0.844019\n",
            "396       1  1.274623        -1.372587\n",
            "397       0  1.179110        -1.460681\n",
            "398       1 -0.158074        -1.078938\n",
            "399       0  1.083596        -0.990844\n",
            "\n",
            "[400 rows x 3 columns]\n",
            "0      0\n",
            "1      0\n",
            "2      0\n",
            "3      0\n",
            "4      0\n",
            "      ..\n",
            "395    1\n",
            "396    1\n",
            "397    1\n",
            "398    0\n",
            "399    1\n",
            "Name: Purchased, Length: 400, dtype: int64\n"
          ]
        }
      ]
    },
    {
      "cell_type": "code",
      "source": [
        "x=x.values\n",
        "print(x)"
      ],
      "metadata": {
        "colab": {
          "base_uri": "https://localhost:8080/"
        },
        "id": "PLcw0q3kB7tg",
        "outputId": "512399fc-f830-4b06-a4d7-16598f383f27"
      },
      "execution_count": null,
      "outputs": [
        {
          "output_type": "stream",
          "name": "stdout",
          "text": [
            "[[ 1.         -1.78179743 -1.49004624]\n",
            " [ 1.         -0.25358736 -1.46068138]\n",
            " [ 0.         -1.11320552 -0.78528968]\n",
            " ...\n",
            " [ 0.          1.17910958 -1.46068138]\n",
            " [ 1.         -0.15807423 -1.07893824]\n",
            " [ 0.          1.08359645 -0.99084367]]\n"
          ]
        }
      ]
    },
    {
      "cell_type": "markdown",
      "source": [
        "Training ---> Known  \n",
        "Testing ---> Unknown"
      ],
      "metadata": {
        "id": "X36cZknN1Khm"
      }
    },
    {
      "cell_type": "code",
      "source": [
        "#Train-Test Split\n",
        "x_train,x_test,y_train,y_test=train_test_split(x,y,test_size=0.3,random_state=0)\n"
      ],
      "metadata": {
        "id": "HB7ZgdiRz-33"
      },
      "execution_count": null,
      "outputs": []
    },
    {
      "cell_type": "code",
      "source": [
        "print(x_train.shape,y_train.shape)\n",
        "print(x_test.shape,y_test.shape)"
      ],
      "metadata": {
        "colab": {
          "base_uri": "https://localhost:8080/"
        },
        "id": "vpCKZV2vDIC4",
        "outputId": "38b84194-1ce0-47c9-c941-ca56aacd653e"
      },
      "execution_count": null,
      "outputs": [
        {
          "output_type": "stream",
          "name": "stdout",
          "text": [
            "(280, 3) (280,)\n",
            "(120, 3) (120,)\n"
          ]
        }
      ]
    },
    {
      "cell_type": "code",
      "source": [
        "#Modeling\n",
        "lr=LogisticRegression()\n",
        "lr.fit(x_train,y_train)"
      ],
      "metadata": {
        "colab": {
          "base_uri": "https://localhost:8080/",
          "height": 80
        },
        "id": "R1NF-umgDZsQ",
        "outputId": "8e7a5da3-1830-477e-a2d0-896e1e9555e7"
      },
      "execution_count": null,
      "outputs": [
        {
          "output_type": "execute_result",
          "data": {
            "text/plain": [
              "LogisticRegression()"
            ],
            "text/html": [
              "<style>#sk-container-id-2 {\n",
              "  /* Definition of color scheme common for light and dark mode */\n",
              "  --sklearn-color-text: #000;\n",
              "  --sklearn-color-text-muted: #666;\n",
              "  --sklearn-color-line: gray;\n",
              "  /* Definition of color scheme for unfitted estimators */\n",
              "  --sklearn-color-unfitted-level-0: #fff5e6;\n",
              "  --sklearn-color-unfitted-level-1: #f6e4d2;\n",
              "  --sklearn-color-unfitted-level-2: #ffe0b3;\n",
              "  --sklearn-color-unfitted-level-3: chocolate;\n",
              "  /* Definition of color scheme for fitted estimators */\n",
              "  --sklearn-color-fitted-level-0: #f0f8ff;\n",
              "  --sklearn-color-fitted-level-1: #d4ebff;\n",
              "  --sklearn-color-fitted-level-2: #b3dbfd;\n",
              "  --sklearn-color-fitted-level-3: cornflowerblue;\n",
              "\n",
              "  /* Specific color for light theme */\n",
              "  --sklearn-color-text-on-default-background: var(--sg-text-color, var(--theme-code-foreground, var(--jp-content-font-color1, black)));\n",
              "  --sklearn-color-background: var(--sg-background-color, var(--theme-background, var(--jp-layout-color0, white)));\n",
              "  --sklearn-color-border-box: var(--sg-text-color, var(--theme-code-foreground, var(--jp-content-font-color1, black)));\n",
              "  --sklearn-color-icon: #696969;\n",
              "\n",
              "  @media (prefers-color-scheme: dark) {\n",
              "    /* Redefinition of color scheme for dark theme */\n",
              "    --sklearn-color-text-on-default-background: var(--sg-text-color, var(--theme-code-foreground, var(--jp-content-font-color1, white)));\n",
              "    --sklearn-color-background: var(--sg-background-color, var(--theme-background, var(--jp-layout-color0, #111)));\n",
              "    --sklearn-color-border-box: var(--sg-text-color, var(--theme-code-foreground, var(--jp-content-font-color1, white)));\n",
              "    --sklearn-color-icon: #878787;\n",
              "  }\n",
              "}\n",
              "\n",
              "#sk-container-id-2 {\n",
              "  color: var(--sklearn-color-text);\n",
              "}\n",
              "\n",
              "#sk-container-id-2 pre {\n",
              "  padding: 0;\n",
              "}\n",
              "\n",
              "#sk-container-id-2 input.sk-hidden--visually {\n",
              "  border: 0;\n",
              "  clip: rect(1px 1px 1px 1px);\n",
              "  clip: rect(1px, 1px, 1px, 1px);\n",
              "  height: 1px;\n",
              "  margin: -1px;\n",
              "  overflow: hidden;\n",
              "  padding: 0;\n",
              "  position: absolute;\n",
              "  width: 1px;\n",
              "}\n",
              "\n",
              "#sk-container-id-2 div.sk-dashed-wrapped {\n",
              "  border: 1px dashed var(--sklearn-color-line);\n",
              "  margin: 0 0.4em 0.5em 0.4em;\n",
              "  box-sizing: border-box;\n",
              "  padding-bottom: 0.4em;\n",
              "  background-color: var(--sklearn-color-background);\n",
              "}\n",
              "\n",
              "#sk-container-id-2 div.sk-container {\n",
              "  /* jupyter's `normalize.less` sets `[hidden] { display: none; }`\n",
              "     but bootstrap.min.css set `[hidden] { display: none !important; }`\n",
              "     so we also need the `!important` here to be able to override the\n",
              "     default hidden behavior on the sphinx rendered scikit-learn.org.\n",
              "     See: https://github.com/scikit-learn/scikit-learn/issues/21755 */\n",
              "  display: inline-block !important;\n",
              "  position: relative;\n",
              "}\n",
              "\n",
              "#sk-container-id-2 div.sk-text-repr-fallback {\n",
              "  display: none;\n",
              "}\n",
              "\n",
              "div.sk-parallel-item,\n",
              "div.sk-serial,\n",
              "div.sk-item {\n",
              "  /* draw centered vertical line to link estimators */\n",
              "  background-image: linear-gradient(var(--sklearn-color-text-on-default-background), var(--sklearn-color-text-on-default-background));\n",
              "  background-size: 2px 100%;\n",
              "  background-repeat: no-repeat;\n",
              "  background-position: center center;\n",
              "}\n",
              "\n",
              "/* Parallel-specific style estimator block */\n",
              "\n",
              "#sk-container-id-2 div.sk-parallel-item::after {\n",
              "  content: \"\";\n",
              "  width: 100%;\n",
              "  border-bottom: 2px solid var(--sklearn-color-text-on-default-background);\n",
              "  flex-grow: 1;\n",
              "}\n",
              "\n",
              "#sk-container-id-2 div.sk-parallel {\n",
              "  display: flex;\n",
              "  align-items: stretch;\n",
              "  justify-content: center;\n",
              "  background-color: var(--sklearn-color-background);\n",
              "  position: relative;\n",
              "}\n",
              "\n",
              "#sk-container-id-2 div.sk-parallel-item {\n",
              "  display: flex;\n",
              "  flex-direction: column;\n",
              "}\n",
              "\n",
              "#sk-container-id-2 div.sk-parallel-item:first-child::after {\n",
              "  align-self: flex-end;\n",
              "  width: 50%;\n",
              "}\n",
              "\n",
              "#sk-container-id-2 div.sk-parallel-item:last-child::after {\n",
              "  align-self: flex-start;\n",
              "  width: 50%;\n",
              "}\n",
              "\n",
              "#sk-container-id-2 div.sk-parallel-item:only-child::after {\n",
              "  width: 0;\n",
              "}\n",
              "\n",
              "/* Serial-specific style estimator block */\n",
              "\n",
              "#sk-container-id-2 div.sk-serial {\n",
              "  display: flex;\n",
              "  flex-direction: column;\n",
              "  align-items: center;\n",
              "  background-color: var(--sklearn-color-background);\n",
              "  padding-right: 1em;\n",
              "  padding-left: 1em;\n",
              "}\n",
              "\n",
              "\n",
              "/* Toggleable style: style used for estimator/Pipeline/ColumnTransformer box that is\n",
              "clickable and can be expanded/collapsed.\n",
              "- Pipeline and ColumnTransformer use this feature and define the default style\n",
              "- Estimators will overwrite some part of the style using the `sk-estimator` class\n",
              "*/\n",
              "\n",
              "/* Pipeline and ColumnTransformer style (default) */\n",
              "\n",
              "#sk-container-id-2 div.sk-toggleable {\n",
              "  /* Default theme specific background. It is overwritten whether we have a\n",
              "  specific estimator or a Pipeline/ColumnTransformer */\n",
              "  background-color: var(--sklearn-color-background);\n",
              "}\n",
              "\n",
              "/* Toggleable label */\n",
              "#sk-container-id-2 label.sk-toggleable__label {\n",
              "  cursor: pointer;\n",
              "  display: flex;\n",
              "  width: 100%;\n",
              "  margin-bottom: 0;\n",
              "  padding: 0.5em;\n",
              "  box-sizing: border-box;\n",
              "  text-align: center;\n",
              "  align-items: start;\n",
              "  justify-content: space-between;\n",
              "  gap: 0.5em;\n",
              "}\n",
              "\n",
              "#sk-container-id-2 label.sk-toggleable__label .caption {\n",
              "  font-size: 0.6rem;\n",
              "  font-weight: lighter;\n",
              "  color: var(--sklearn-color-text-muted);\n",
              "}\n",
              "\n",
              "#sk-container-id-2 label.sk-toggleable__label-arrow:before {\n",
              "  /* Arrow on the left of the label */\n",
              "  content: \"▸\";\n",
              "  float: left;\n",
              "  margin-right: 0.25em;\n",
              "  color: var(--sklearn-color-icon);\n",
              "}\n",
              "\n",
              "#sk-container-id-2 label.sk-toggleable__label-arrow:hover:before {\n",
              "  color: var(--sklearn-color-text);\n",
              "}\n",
              "\n",
              "/* Toggleable content - dropdown */\n",
              "\n",
              "#sk-container-id-2 div.sk-toggleable__content {\n",
              "  max-height: 0;\n",
              "  max-width: 0;\n",
              "  overflow: hidden;\n",
              "  text-align: left;\n",
              "  /* unfitted */\n",
              "  background-color: var(--sklearn-color-unfitted-level-0);\n",
              "}\n",
              "\n",
              "#sk-container-id-2 div.sk-toggleable__content.fitted {\n",
              "  /* fitted */\n",
              "  background-color: var(--sklearn-color-fitted-level-0);\n",
              "}\n",
              "\n",
              "#sk-container-id-2 div.sk-toggleable__content pre {\n",
              "  margin: 0.2em;\n",
              "  border-radius: 0.25em;\n",
              "  color: var(--sklearn-color-text);\n",
              "  /* unfitted */\n",
              "  background-color: var(--sklearn-color-unfitted-level-0);\n",
              "}\n",
              "\n",
              "#sk-container-id-2 div.sk-toggleable__content.fitted pre {\n",
              "  /* unfitted */\n",
              "  background-color: var(--sklearn-color-fitted-level-0);\n",
              "}\n",
              "\n",
              "#sk-container-id-2 input.sk-toggleable__control:checked~div.sk-toggleable__content {\n",
              "  /* Expand drop-down */\n",
              "  max-height: 200px;\n",
              "  max-width: 100%;\n",
              "  overflow: auto;\n",
              "}\n",
              "\n",
              "#sk-container-id-2 input.sk-toggleable__control:checked~label.sk-toggleable__label-arrow:before {\n",
              "  content: \"▾\";\n",
              "}\n",
              "\n",
              "/* Pipeline/ColumnTransformer-specific style */\n",
              "\n",
              "#sk-container-id-2 div.sk-label input.sk-toggleable__control:checked~label.sk-toggleable__label {\n",
              "  color: var(--sklearn-color-text);\n",
              "  background-color: var(--sklearn-color-unfitted-level-2);\n",
              "}\n",
              "\n",
              "#sk-container-id-2 div.sk-label.fitted input.sk-toggleable__control:checked~label.sk-toggleable__label {\n",
              "  background-color: var(--sklearn-color-fitted-level-2);\n",
              "}\n",
              "\n",
              "/* Estimator-specific style */\n",
              "\n",
              "/* Colorize estimator box */\n",
              "#sk-container-id-2 div.sk-estimator input.sk-toggleable__control:checked~label.sk-toggleable__label {\n",
              "  /* unfitted */\n",
              "  background-color: var(--sklearn-color-unfitted-level-2);\n",
              "}\n",
              "\n",
              "#sk-container-id-2 div.sk-estimator.fitted input.sk-toggleable__control:checked~label.sk-toggleable__label {\n",
              "  /* fitted */\n",
              "  background-color: var(--sklearn-color-fitted-level-2);\n",
              "}\n",
              "\n",
              "#sk-container-id-2 div.sk-label label.sk-toggleable__label,\n",
              "#sk-container-id-2 div.sk-label label {\n",
              "  /* The background is the default theme color */\n",
              "  color: var(--sklearn-color-text-on-default-background);\n",
              "}\n",
              "\n",
              "/* On hover, darken the color of the background */\n",
              "#sk-container-id-2 div.sk-label:hover label.sk-toggleable__label {\n",
              "  color: var(--sklearn-color-text);\n",
              "  background-color: var(--sklearn-color-unfitted-level-2);\n",
              "}\n",
              "\n",
              "/* Label box, darken color on hover, fitted */\n",
              "#sk-container-id-2 div.sk-label.fitted:hover label.sk-toggleable__label.fitted {\n",
              "  color: var(--sklearn-color-text);\n",
              "  background-color: var(--sklearn-color-fitted-level-2);\n",
              "}\n",
              "\n",
              "/* Estimator label */\n",
              "\n",
              "#sk-container-id-2 div.sk-label label {\n",
              "  font-family: monospace;\n",
              "  font-weight: bold;\n",
              "  display: inline-block;\n",
              "  line-height: 1.2em;\n",
              "}\n",
              "\n",
              "#sk-container-id-2 div.sk-label-container {\n",
              "  text-align: center;\n",
              "}\n",
              "\n",
              "/* Estimator-specific */\n",
              "#sk-container-id-2 div.sk-estimator {\n",
              "  font-family: monospace;\n",
              "  border: 1px dotted var(--sklearn-color-border-box);\n",
              "  border-radius: 0.25em;\n",
              "  box-sizing: border-box;\n",
              "  margin-bottom: 0.5em;\n",
              "  /* unfitted */\n",
              "  background-color: var(--sklearn-color-unfitted-level-0);\n",
              "}\n",
              "\n",
              "#sk-container-id-2 div.sk-estimator.fitted {\n",
              "  /* fitted */\n",
              "  background-color: var(--sklearn-color-fitted-level-0);\n",
              "}\n",
              "\n",
              "/* on hover */\n",
              "#sk-container-id-2 div.sk-estimator:hover {\n",
              "  /* unfitted */\n",
              "  background-color: var(--sklearn-color-unfitted-level-2);\n",
              "}\n",
              "\n",
              "#sk-container-id-2 div.sk-estimator.fitted:hover {\n",
              "  /* fitted */\n",
              "  background-color: var(--sklearn-color-fitted-level-2);\n",
              "}\n",
              "\n",
              "/* Specification for estimator info (e.g. \"i\" and \"?\") */\n",
              "\n",
              "/* Common style for \"i\" and \"?\" */\n",
              "\n",
              ".sk-estimator-doc-link,\n",
              "a:link.sk-estimator-doc-link,\n",
              "a:visited.sk-estimator-doc-link {\n",
              "  float: right;\n",
              "  font-size: smaller;\n",
              "  line-height: 1em;\n",
              "  font-family: monospace;\n",
              "  background-color: var(--sklearn-color-background);\n",
              "  border-radius: 1em;\n",
              "  height: 1em;\n",
              "  width: 1em;\n",
              "  text-decoration: none !important;\n",
              "  margin-left: 0.5em;\n",
              "  text-align: center;\n",
              "  /* unfitted */\n",
              "  border: var(--sklearn-color-unfitted-level-1) 1pt solid;\n",
              "  color: var(--sklearn-color-unfitted-level-1);\n",
              "}\n",
              "\n",
              ".sk-estimator-doc-link.fitted,\n",
              "a:link.sk-estimator-doc-link.fitted,\n",
              "a:visited.sk-estimator-doc-link.fitted {\n",
              "  /* fitted */\n",
              "  border: var(--sklearn-color-fitted-level-1) 1pt solid;\n",
              "  color: var(--sklearn-color-fitted-level-1);\n",
              "}\n",
              "\n",
              "/* On hover */\n",
              "div.sk-estimator:hover .sk-estimator-doc-link:hover,\n",
              ".sk-estimator-doc-link:hover,\n",
              "div.sk-label-container:hover .sk-estimator-doc-link:hover,\n",
              ".sk-estimator-doc-link:hover {\n",
              "  /* unfitted */\n",
              "  background-color: var(--sklearn-color-unfitted-level-3);\n",
              "  color: var(--sklearn-color-background);\n",
              "  text-decoration: none;\n",
              "}\n",
              "\n",
              "div.sk-estimator.fitted:hover .sk-estimator-doc-link.fitted:hover,\n",
              ".sk-estimator-doc-link.fitted:hover,\n",
              "div.sk-label-container:hover .sk-estimator-doc-link.fitted:hover,\n",
              ".sk-estimator-doc-link.fitted:hover {\n",
              "  /* fitted */\n",
              "  background-color: var(--sklearn-color-fitted-level-3);\n",
              "  color: var(--sklearn-color-background);\n",
              "  text-decoration: none;\n",
              "}\n",
              "\n",
              "/* Span, style for the box shown on hovering the info icon */\n",
              ".sk-estimator-doc-link span {\n",
              "  display: none;\n",
              "  z-index: 9999;\n",
              "  position: relative;\n",
              "  font-weight: normal;\n",
              "  right: .2ex;\n",
              "  padding: .5ex;\n",
              "  margin: .5ex;\n",
              "  width: min-content;\n",
              "  min-width: 20ex;\n",
              "  max-width: 50ex;\n",
              "  color: var(--sklearn-color-text);\n",
              "  box-shadow: 2pt 2pt 4pt #999;\n",
              "  /* unfitted */\n",
              "  background: var(--sklearn-color-unfitted-level-0);\n",
              "  border: .5pt solid var(--sklearn-color-unfitted-level-3);\n",
              "}\n",
              "\n",
              ".sk-estimator-doc-link.fitted span {\n",
              "  /* fitted */\n",
              "  background: var(--sklearn-color-fitted-level-0);\n",
              "  border: var(--sklearn-color-fitted-level-3);\n",
              "}\n",
              "\n",
              ".sk-estimator-doc-link:hover span {\n",
              "  display: block;\n",
              "}\n",
              "\n",
              "/* \"?\"-specific style due to the `<a>` HTML tag */\n",
              "\n",
              "#sk-container-id-2 a.estimator_doc_link {\n",
              "  float: right;\n",
              "  font-size: 1rem;\n",
              "  line-height: 1em;\n",
              "  font-family: monospace;\n",
              "  background-color: var(--sklearn-color-background);\n",
              "  border-radius: 1rem;\n",
              "  height: 1rem;\n",
              "  width: 1rem;\n",
              "  text-decoration: none;\n",
              "  /* unfitted */\n",
              "  color: var(--sklearn-color-unfitted-level-1);\n",
              "  border: var(--sklearn-color-unfitted-level-1) 1pt solid;\n",
              "}\n",
              "\n",
              "#sk-container-id-2 a.estimator_doc_link.fitted {\n",
              "  /* fitted */\n",
              "  border: var(--sklearn-color-fitted-level-1) 1pt solid;\n",
              "  color: var(--sklearn-color-fitted-level-1);\n",
              "}\n",
              "\n",
              "/* On hover */\n",
              "#sk-container-id-2 a.estimator_doc_link:hover {\n",
              "  /* unfitted */\n",
              "  background-color: var(--sklearn-color-unfitted-level-3);\n",
              "  color: var(--sklearn-color-background);\n",
              "  text-decoration: none;\n",
              "}\n",
              "\n",
              "#sk-container-id-2 a.estimator_doc_link.fitted:hover {\n",
              "  /* fitted */\n",
              "  background-color: var(--sklearn-color-fitted-level-3);\n",
              "}\n",
              "</style><div id=\"sk-container-id-2\" class=\"sk-top-container\"><div class=\"sk-text-repr-fallback\"><pre>LogisticRegression()</pre><b>In a Jupyter environment, please rerun this cell to show the HTML representation or trust the notebook. <br />On GitHub, the HTML representation is unable to render, please try loading this page with nbviewer.org.</b></div><div class=\"sk-container\" hidden><div class=\"sk-item\"><div class=\"sk-estimator fitted sk-toggleable\"><input class=\"sk-toggleable__control sk-hidden--visually\" id=\"sk-estimator-id-2\" type=\"checkbox\" checked><label for=\"sk-estimator-id-2\" class=\"sk-toggleable__label fitted sk-toggleable__label-arrow\"><div><div>LogisticRegression</div></div><div><a class=\"sk-estimator-doc-link fitted\" rel=\"noreferrer\" target=\"_blank\" href=\"https://scikit-learn.org/1.6/modules/generated/sklearn.linear_model.LogisticRegression.html\">?<span>Documentation for LogisticRegression</span></a><span class=\"sk-estimator-doc-link fitted\">i<span>Fitted</span></span></div></label><div class=\"sk-toggleable__content fitted\"><pre>LogisticRegression()</pre></div> </div></div></div></div>"
            ]
          },
          "metadata": {},
          "execution_count": 39
        }
      ]
    },
    {
      "cell_type": "code",
      "source": [
        "#Predictions\n",
        "y_pred=lr.predict(x_train)    #Predictions on known values\n",
        "print(y_pred)"
      ],
      "metadata": {
        "colab": {
          "base_uri": "https://localhost:8080/"
        },
        "id": "FHctt8oiDmFD",
        "outputId": "657e3b97-cf6f-4399-ccc0-f67ef57cd217"
      },
      "execution_count": null,
      "outputs": [
        {
          "output_type": "stream",
          "name": "stdout",
          "text": [
            "[0 1 1 1 0 0 1 1 1 0 0 1 0 1 1 0 1 0 0 0 0 0 0 1 0 1 0 1 1 0 0 0 0 0 1 0 1\n",
            " 0 0 1 0 0 0 1 0 0 0 0 0 0 0 0 0 0 1 1 0 0 1 1 0 0 0 1 0 1 0 0 1 1 0 1 1 0\n",
            " 0 0 1 1 1 0 0 0 1 1 1 1 1 0 1 0 0 0 0 0 0 0 0 0 0 0 1 0 0 0 1 0 0 0 0 0 1\n",
            " 0 1 0 0 0 0 0 0 0 0 0 1 0 1 0 0 0 0 0 0 0 0 0 0 0 0 0 0 0 0 1 0 1 1 0 0 0\n",
            " 0 0 1 1 1 0 1 0 1 0 1 0 0 0 1 0 0 1 0 0 0 1 1 0 1 0 1 0 0 0 0 0 1 1 0 0 0\n",
            " 0 0 1 0 0 0 0 0 0 1 1 1 0 0 0 0 0 0 1 1 0 0 0 0 1 0 0 0 0 1 0 1 0 1 0 0 0\n",
            " 1 0 0 0 1 0 1 0 0 0 0 0 1 0 0 0 0 0 1 1 0 0 1 0 0 0 0 0 1 0 1 0 0 0 0 0 1\n",
            " 0 1 0 0 0 0 0 0 1 1 1 1 0 0 0 0 0 0 0 0 0]\n"
          ]
        }
      ]
    },
    {
      "cell_type": "markdown",
      "source": [
        "How to Evaluate Classification Algorithms\n",
        "- Confusion Metrics\n",
        " - True Positive (TP): Correctly predicted positive instances\n",
        " - True Negative (TN): Correctly predicted negative instances\n",
        " - False Positive (FP): Incorrectly predicted positive instances (Type I Error)\n",
        " - False Negative (FN): Incorrectly predicted negative instances (Type II Error)\n",
        "\n",
        "Accuracy = (TP+TN)/Total Observations(TP+TN+FP+FN)\n",
        "\n",
        "Precision = TP/(TP+FP)\n",
        "\n",
        "Recall = TP/(TP+FN)\n",
        "\n",
        "F1-Score is a harmonic mean of Precision and Recall.  \n",
        "F1-Score = 2 * (Precision*Recall)/(Precision+Recall)\n",
        "\n",
        "Support = The number of actual occurrences of each class in the dataset."
      ],
      "metadata": {
        "id": "0Qw8_hTmFE7V"
      }
    },
    {
      "cell_type": "code",
      "source": [
        "print(lr.predict_proba(x_train))"
      ],
      "metadata": {
        "colab": {
          "base_uri": "https://localhost:8080/"
        },
        "id": "VhhIZihcKahg",
        "outputId": "ff0a074d-58bf-4645-af6c-c2ed465732b4"
      },
      "execution_count": null,
      "outputs": [
        {
          "output_type": "stream",
          "name": "stdout",
          "text": [
            "[[0.99347971 0.00652029]\n",
            " [0.00835792 0.99164208]\n",
            " [0.46611656 0.53388344]\n",
            " [0.31304712 0.68695288]\n",
            " [0.71090067 0.28909933]\n",
            " [0.85428188 0.14571812]\n",
            " [0.41125536 0.58874464]\n",
            " [0.05188825 0.94811175]\n",
            " [0.45825869 0.54174131]\n",
            " [0.54971627 0.45028373]\n",
            " [0.99559105 0.00440895]\n",
            " [0.05318262 0.94681738]\n",
            " [0.9951052  0.0048948 ]\n",
            " [0.07388508 0.92611492]\n",
            " [0.21597867 0.78402133]\n",
            " [0.96159827 0.03840173]\n",
            " [0.44256612 0.55743388]\n",
            " [0.90654029 0.09345971]\n",
            " [0.52825156 0.47174844]\n",
            " [0.67648445 0.32351555]\n",
            " [0.90556886 0.09443114]\n",
            " [0.9895031  0.0104969 ]\n",
            " [0.89321918 0.10678082]\n",
            " [0.41406344 0.58593656]\n",
            " [0.85208178 0.14791822]\n",
            " [0.43331337 0.56668663]\n",
            " [0.58714006 0.41285994]\n",
            " [0.01970499 0.98029501]\n",
            " [0.24135949 0.75864051]\n",
            " [0.77950422 0.22049578]\n",
            " [0.80206405 0.19793595]\n",
            " [0.80980887 0.19019113]\n",
            " [0.75887371 0.24112629]\n",
            " [0.74708307 0.25291693]\n",
            " [0.01022718 0.98977282]\n",
            " [0.9895031  0.0104969 ]\n",
            " [0.03665916 0.96334084]\n",
            " [0.53170795 0.46829205]\n",
            " [0.95126765 0.04873235]\n",
            " [0.08734171 0.91265829]\n",
            " [0.84623364 0.15376636]\n",
            " [0.99168454 0.00831546]\n",
            " [0.98350545 0.01649455]\n",
            " [0.41070109 0.58929891]\n",
            " [0.92884612 0.07115388]\n",
            " [0.92040828 0.07959172]\n",
            " [0.8140201  0.1859799 ]\n",
            " [0.7680377  0.2319623 ]\n",
            " [0.75519008 0.24480992]\n",
            " [0.95062037 0.04937963]\n",
            " [0.85602204 0.14397796]\n",
            " [0.73223933 0.26776067]\n",
            " [0.91689183 0.08310817]\n",
            " [0.60292571 0.39707429]\n",
            " [0.34979284 0.65020716]\n",
            " [0.04600835 0.95399165]\n",
            " [0.94168297 0.05831703]\n",
            " [0.96122678 0.03877322]\n",
            " [0.02060315 0.97939685]\n",
            " [0.39843492 0.60156508]\n",
            " [0.89382095 0.10617905]\n",
            " [0.70468778 0.29531222]\n",
            " [0.7838493  0.2161507 ]\n",
            " [0.47355609 0.52644391]\n",
            " [0.56306913 0.43693087]\n",
            " [0.15393221 0.84606779]\n",
            " [0.97071552 0.02928448]\n",
            " [0.93164882 0.06835118]\n",
            " [0.10874322 0.89125678]\n",
            " [0.03378414 0.96621586]\n",
            " [0.99789692 0.00210308]\n",
            " [0.42458153 0.57541847]\n",
            " [0.43292733 0.56707267]\n",
            " [0.64331565 0.35668435]\n",
            " [0.98938207 0.01061793]\n",
            " [0.53266944 0.46733056]\n",
            " [0.37449495 0.62550505]\n",
            " [0.09291468 0.90708532]\n",
            " [0.35577004 0.64422996]\n",
            " [0.68069596 0.31930404]\n",
            " [0.97376048 0.02623952]\n",
            " [0.68884746 0.31115254]\n",
            " [0.00282937 0.99717063]\n",
            " [0.20457909 0.79542091]\n",
            " [0.33176878 0.66823122]\n",
            " [0.11566965 0.88433035]\n",
            " [0.01438651 0.98561349]\n",
            " [0.94159656 0.05840344]\n",
            " [0.01914647 0.98085353]\n",
            " [0.62958113 0.37041887]\n",
            " [0.98061873 0.01938127]\n",
            " [0.65137437 0.34862563]\n",
            " [0.53170795 0.46829205]\n",
            " [0.94393652 0.05606348]\n",
            " [0.75884199 0.24115801]\n",
            " [0.96225422 0.03774578]\n",
            " [0.98770857 0.01229143]\n",
            " [0.79702534 0.20297466]\n",
            " [0.99320562 0.00679438]\n",
            " [0.5558421  0.4441579 ]\n",
            " [0.46127152 0.53872848]\n",
            " [0.79414073 0.20585927]\n",
            " [0.99422864 0.00577136]\n",
            " [0.51839583 0.48160417]\n",
            " [0.02874639 0.97125361]\n",
            " [0.99530464 0.00469536]\n",
            " [0.72326167 0.27673833]\n",
            " [0.79122585 0.20877415]\n",
            " [0.99574406 0.00425594]\n",
            " [0.97556415 0.02443585]\n",
            " [0.19313651 0.80686349]\n",
            " [0.85817329 0.14182671]\n",
            " [0.0679416  0.9320584 ]\n",
            " [0.51747486 0.48252514]\n",
            " [0.6712726  0.3287274 ]\n",
            " [0.74926594 0.25073406]\n",
            " [0.99874821 0.00125179]\n",
            " [0.9459734  0.0540266 ]\n",
            " [0.70094689 0.29905311]\n",
            " [0.98327599 0.01672401]\n",
            " [0.57044528 0.42955472]\n",
            " [0.67513669 0.32486331]\n",
            " [0.38342328 0.61657672]\n",
            " [0.79537236 0.20462764]\n",
            " [0.18258046 0.81741954]\n",
            " [0.67567665 0.32432335]\n",
            " [0.72171303 0.27828697]\n",
            " [0.98793874 0.01206126]\n",
            " [0.92465    0.07535   ]\n",
            " [0.88703714 0.11296286]\n",
            " [0.58769498 0.41230502]\n",
            " [0.66111897 0.33888103]\n",
            " [0.57456838 0.42543162]\n",
            " [0.70596634 0.29403366]\n",
            " [0.5508924  0.4491076 ]\n",
            " [0.51308795 0.48691205]\n",
            " [0.69561921 0.30438079]\n",
            " [0.99789655 0.00210345]\n",
            " [0.74711582 0.25288418]\n",
            " [0.82194176 0.17805824]\n",
            " [0.67817254 0.32182746]\n",
            " [0.37161741 0.62838259]\n",
            " [0.60204229 0.39795771]\n",
            " [0.4592176  0.5407824 ]\n",
            " [0.02853633 0.97146367]\n",
            " [0.9798568  0.0201432 ]\n",
            " [0.68286845 0.31713155]\n",
            " [0.78058941 0.21941059]\n",
            " [0.99718509 0.00281491]\n",
            " [0.927251   0.072749  ]\n",
            " [0.19749794 0.80250206]\n",
            " [0.18686767 0.81313233]\n",
            " [0.08503236 0.91496764]\n",
            " [0.72125294 0.27874706]\n",
            " [0.07446477 0.92553523]\n",
            " [0.8948992  0.1051008 ]\n",
            " [0.02305321 0.97694679]\n",
            " [0.98593665 0.01406335]\n",
            " [0.28133984 0.71866016]\n",
            " [0.98488157 0.01511843]\n",
            " [0.55618745 0.44381255]\n",
            " [0.97226206 0.02773794]\n",
            " [0.09675745 0.90324255]\n",
            " [0.99686228 0.00313772]\n",
            " [0.94426118 0.05573882]\n",
            " [0.13744315 0.86255685]\n",
            " [0.9950189  0.0049811 ]\n",
            " [0.74079474 0.25920526]\n",
            " [0.86932901 0.13067099]\n",
            " [0.03910997 0.96089003]\n",
            " [0.08082535 0.91917465]\n",
            " [0.87634506 0.12365494]\n",
            " [0.20860642 0.79139358]\n",
            " [0.98822212 0.01177788]\n",
            " [0.32769016 0.67230984]\n",
            " [0.93275885 0.06724115]\n",
            " [0.95874511 0.04125489]\n",
            " [0.61555171 0.38444829]\n",
            " [0.9851769  0.0148231 ]\n",
            " [0.99825934 0.00174066]\n",
            " [0.16666894 0.83333106]\n",
            " [0.25870864 0.74129136]\n",
            " [0.79017913 0.20982087]\n",
            " [0.6363531  0.3636469 ]\n",
            " [0.99444906 0.00555094]\n",
            " [0.62399296 0.37600704]\n",
            " [0.93387354 0.06612646]\n",
            " [0.32395153 0.67604847]\n",
            " [0.93315446 0.06684554]\n",
            " [0.70013672 0.29986328]\n",
            " [0.97781359 0.02218641]\n",
            " [0.93744641 0.06255359]\n",
            " [0.6165062  0.3834938 ]\n",
            " [0.59942689 0.40057311]\n",
            " [0.04299265 0.95700735]\n",
            " [0.44469239 0.55530761]\n",
            " [0.00719967 0.99280033]\n",
            " [0.95025654 0.04974346]\n",
            " [0.86497894 0.13502106]\n",
            " [0.99327171 0.00672829]\n",
            " [0.95557797 0.04442203]\n",
            " [0.62399296 0.37600704]\n",
            " [0.91553018 0.08446982]\n",
            " [0.01674497 0.98325503]\n",
            " [0.0567572  0.9432428 ]\n",
            " [0.6313806  0.3686194 ]\n",
            " [0.95706686 0.04293314]\n",
            " [0.71966245 0.28033755]\n",
            " [0.6880563  0.3119437 ]\n",
            " [0.0971584  0.9028416 ]\n",
            " [0.80172785 0.19827215]\n",
            " [0.99449154 0.00550846]\n",
            " [0.70673144 0.29326856]\n",
            " [0.6281049  0.3718951 ]\n",
            " [0.11069948 0.88930052]\n",
            " [0.93010054 0.06989946]\n",
            " [0.09124047 0.90875953]\n",
            " [0.68884746 0.31115254]\n",
            " [0.06745411 0.93254589]\n",
            " [0.55466845 0.44533155]\n",
            " [0.98609402 0.01390598]\n",
            " [0.68286845 0.31713155]\n",
            " [0.36658771 0.63341229]\n",
            " [0.85940863 0.14059137]\n",
            " [0.97385897 0.02614103]\n",
            " [0.96443082 0.03556918]\n",
            " [0.0346252  0.9653748 ]\n",
            " [0.98422469 0.01577531]\n",
            " [0.19277995 0.80722005]\n",
            " [0.97122039 0.02877961]\n",
            " [0.93638785 0.06361215]\n",
            " [0.91926925 0.08073075]\n",
            " [0.72445665 0.27554335]\n",
            " [0.62399296 0.37600704]\n",
            " [0.26141202 0.73858798]\n",
            " [0.7950277  0.2049723 ]\n",
            " [0.99838235 0.00161765]\n",
            " [0.98889151 0.01110849]\n",
            " [0.91505323 0.08494677]\n",
            " [0.70883833 0.29116167]\n",
            " [0.47298531 0.52701469]\n",
            " [0.48938281 0.51061719]\n",
            " [0.86227033 0.13772967]\n",
            " [0.66202244 0.33797756]\n",
            " [0.06834322 0.93165678]\n",
            " [0.99338921 0.00661079]\n",
            " [0.98673646 0.01326354]\n",
            " [0.8410682  0.1589318 ]\n",
            " [0.89212577 0.10787423]\n",
            " [0.99752816 0.00247184]\n",
            " [0.0261779  0.9738221 ]\n",
            " [0.68884746 0.31115254]\n",
            " [0.30175575 0.69824425]\n",
            " [0.99835979 0.00164021]\n",
            " [0.63223867 0.36776133]\n",
            " [0.62539458 0.37460542]\n",
            " [0.99211206 0.00788794]\n",
            " [0.75700476 0.24299524]\n",
            " [0.17090774 0.82909226]\n",
            " [0.87636383 0.12363617]\n",
            " [0.4726366  0.5273634 ]\n",
            " [0.99104437 0.00895563]\n",
            " [0.99133267 0.00866733]\n",
            " [0.66820351 0.33179649]\n",
            " [0.94978106 0.05021894]\n",
            " [0.96003124 0.03996876]\n",
            " [0.94223988 0.05776012]\n",
            " [0.14836794 0.85163206]\n",
            " [0.13400362 0.86599638]\n",
            " [0.11385013 0.88614987]\n",
            " [0.00961992 0.99038008]\n",
            " [0.87785942 0.12214058]\n",
            " [0.6165062  0.3834938 ]\n",
            " [0.92285675 0.07714325]\n",
            " [0.82850195 0.17149805]\n",
            " [0.59444435 0.40555565]\n",
            " [0.97122039 0.02877961]\n",
            " [0.85600068 0.14399932]\n",
            " [0.98164592 0.01835408]\n",
            " [0.89692948 0.10307052]]\n"
          ]
        }
      ]
    },
    {
      "cell_type": "code",
      "source": [
        "#Confusion Metrics\n",
        "cn=metrics.confusion_matrix(y_train,y_pred)\n",
        "print(cn)\n",
        "print(\"Train Accuracy:\",metrics.accuracy_score(y_train,y_pred))\n",
        "print(metrics.classification_report(y_train,y_pred))"
      ],
      "metadata": {
        "colab": {
          "base_uri": "https://localhost:8080/"
        },
        "id": "fTxSrhb3D6TC",
        "outputId": "7b1e15b8-1261-4578-9933-df11738cea38"
      },
      "execution_count": null,
      "outputs": [
        {
          "output_type": "stream",
          "name": "stdout",
          "text": [
            "[[164  14]\n",
            " [ 31  71]]\n",
            "Train Accuracy: 0.8392857142857143\n",
            "              precision    recall  f1-score   support\n",
            "\n",
            "           0       0.84      0.92      0.88       178\n",
            "           1       0.84      0.70      0.76       102\n",
            "\n",
            "    accuracy                           0.84       280\n",
            "   macro avg       0.84      0.81      0.82       280\n",
            "weighted avg       0.84      0.84      0.84       280\n",
            "\n"
          ]
        }
      ]
    },
    {
      "cell_type": "code",
      "source": [
        "y_pred=lr.predict(x_test)   #Predictions on Unknown values\n",
        "print(y_pred)"
      ],
      "metadata": {
        "colab": {
          "base_uri": "https://localhost:8080/"
        },
        "id": "Yo2iu1x1Dxvy",
        "outputId": "7c0a52db-8f2d-4f8e-a8ec-cd11ec4128b8"
      },
      "execution_count": null,
      "outputs": [
        {
          "output_type": "stream",
          "name": "stdout",
          "text": [
            "[0 0 0 0 0 0 0 1 0 1 0 0 0 0 0 0 0 0 1 0 0 1 0 1 0 1 0 0 0 0 0 0 1 0 0 0 0\n",
            " 0 0 1 0 0 0 0 1 0 0 1 0 1 1 0 0 0 1 0 0 0 1 0 0 1 0 0 0 1 0 0 0 0 1 0 0 0\n",
            " 0 0 0 0 1 1 1 1 0 0 1 0 0 1 0 0 0 1 0 0 0 0 0 1 1 1 0 0 0 0 1 1 0 0 0 0 0\n",
            " 0 1 1 1 1 1 0 1 1]\n"
          ]
        }
      ]
    },
    {
      "cell_type": "code",
      "source": [
        "cn=metrics.confusion_matrix(y_test,y_pred)\n",
        "print(cn)\n",
        "print(\"Train Accuracy:\",metrics.accuracy_score(y_test,y_pred))\n",
        "print(metrics.classification_report(y_test,y_pred))"
      ],
      "metadata": {
        "colab": {
          "base_uri": "https://localhost:8080/"
        },
        "id": "vLn8YonjJJQ_",
        "outputId": "c5b15b6a-39b9-4662-d7bc-974a5c66c246"
      },
      "execution_count": null,
      "outputs": [
        {
          "output_type": "stream",
          "name": "stdout",
          "text": [
            "[[75  4]\n",
            " [ 9 32]]\n",
            "Train Accuracy: 0.8916666666666667\n",
            "              precision    recall  f1-score   support\n",
            "\n",
            "           0       0.89      0.95      0.92        79\n",
            "           1       0.89      0.78      0.83        41\n",
            "\n",
            "    accuracy                           0.89       120\n",
            "   macro avg       0.89      0.86      0.88       120\n",
            "weighted avg       0.89      0.89      0.89       120\n",
            "\n"
          ]
        }
      ]
    },
    {
      "cell_type": "code",
      "source": [
        "print(lr.predict([[1,20,40000]]))"
      ],
      "metadata": {
        "colab": {
          "base_uri": "https://localhost:8080/"
        },
        "id": "13KW6TyZJ5FK",
        "outputId": "afe7c3b9-252a-466e-8948-9c26bf26cfa6"
      },
      "execution_count": null,
      "outputs": [
        {
          "output_type": "stream",
          "name": "stdout",
          "text": [
            "[1]\n"
          ]
        }
      ]
    },
    {
      "cell_type": "code",
      "source": [
        "print(lr.predict([[0,34,80000]]))"
      ],
      "metadata": {
        "colab": {
          "base_uri": "https://localhost:8080/"
        },
        "id": "bKZjMBjQKEKb",
        "outputId": "0993ec07-96d8-4dd3-9b38-fbfe62075437"
      },
      "execution_count": null,
      "outputs": [
        {
          "output_type": "stream",
          "name": "stdout",
          "text": [
            "[1]\n"
          ]
        }
      ]
    },
    {
      "cell_type": "code",
      "source": [
        "y_scores_lr = lr.predict_proba(x_train)\n",
        "\n",
        "precisions_lr, recalls_lr, thresholds_lr = metrics.precision_recall_curve(y_train, y_scores_lr[:,1])\n",
        "\n",
        "plt.figure(figsize=(10,7))\n",
        "plt.plot(thresholds_lr, precisions_lr[:-1], \"b--\", label=\"Precision\")\n",
        "plt.plot(thresholds_lr, recalls_lr[:-1], \"g-\", label=\"Recall\")\n",
        "\n",
        "plt.xlabel(\"Thresholds\")\n",
        "plt.legend(loc=\"upper left\")\n",
        "plt.ylim([0,1])\n",
        "plt.show()"
      ],
      "metadata": {
        "colab": {
          "base_uri": "https://localhost:8080/",
          "height": 624
        },
        "id": "vsD8GlbgKK6s",
        "outputId": "49679ac5-34fa-4558-923c-d7c27f1f3f28"
      },
      "execution_count": null,
      "outputs": [
        {
          "output_type": "display_data",
          "data": {
            "text/plain": [
              "<Figure size 1000x700 with 1 Axes>"
            ],
            "image/png": "[encoded data removed]"
          },
          "metadata": {}
        }
      ]
    },
    {
      "cell_type": "code",
      "source": [
        "optimal_threshold = .40\n",
        "\n",
        "y_pred_train = lr.predict_proba(x_train)\n",
        "\n",
        "y_pred_train = y_pred_train[:,1] >= optimal_threshold\n",
        "\n",
        "y_pred_test = lr.predict_proba(x_test)\n",
        "\n",
        "y_pred_test = y_pred_test[:,1] >= optimal_threshold\n",
        "\n",
        "print(\"Train Accuracy:\",metrics.accuracy_score(y_train,y_pred_train))\n",
        "print(\"Test Accuracy:\",metrics.accuracy_score(y_test,y_pred_test))"
      ],
      "metadata": {
        "colab": {
          "base_uri": "https://localhost:8080/"
        },
        "id": "N89olmVOTT_N",
        "outputId": "52cc88e5-ea6c-4858-e21c-7f23e525c699"
      },
      "execution_count": null,
      "outputs": [
        {
          "output_type": "stream",
          "name": "stdout",
          "text": [
            "Train Accuracy: 0.8428571428571429\n",
            "Test Accuracy: 0.875\n"
          ]
        }
      ]
    },
    {
      "cell_type": "code",
      "source": [
        "print(metrics.classification_report(y_train,y_pred_train))"
      ],
      "metadata": {
        "id": "bG1gamL9VgQt",
        "outputId": "6d6d4370-790c-41ab-eeb7-61ccf5c6ac24",
        "colab": {
          "base_uri": "https://localhost:8080/"
        }
      },
      "execution_count": null,
      "outputs": [
        {
          "output_type": "stream",
          "name": "stdout",
          "text": [
            "              precision    recall  f1-score   support\n",
            "\n",
            "           0       0.88      0.87      0.88       178\n",
            "           1       0.78      0.79      0.79       102\n",
            "\n",
            "    accuracy                           0.84       280\n",
            "   macro avg       0.83      0.83      0.83       280\n",
            "weighted avg       0.84      0.84      0.84       280\n",
            "\n"
          ]
        }
      ]
    }
  ]
}