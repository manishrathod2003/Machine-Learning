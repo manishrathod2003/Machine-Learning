{
  "nbformat": 4,
  "nbformat_minor": 0,
  "metadata": {
    "colab": {
      "provenance": [],
      "authorship_tag": "ABX9TyPsTGNSKwv11n6ORs5z4z43",
      "include_colab_link": true
    },
    "kernelspec": {
      "name": "python3",
      "display_name": "Python 3"
    },
    "language_info": {
      "name": "python"
    }
  },
  "cells": [
    {
      "cell_type": "markdown",
      "metadata": {
        "id": "view-in-github",
        "colab_type": "text"
      },
      "source": [
        "<a href=\"https://colab.research.google.com/github/manishrathod2003/Machine-Learning/blob/main/Day3_27feb.ipynb\" target=\"_parent\"><img src=\"https://colab.research.google.com/assets/colab-badge.svg\" alt=\"Open In Colab\"/></a>"
      ]
    },
    {
      "cell_type": "markdown",
      "source": [
        "# **Data Cleaning Using Pandas**"
      ],
      "metadata": {
        "id": "s9hsE4Yj_UPo"
      }
    },
    {
      "cell_type": "markdown",
      "source": [
        "Data Types:-\n",
        "1. Categorical: Nominal & Ordinal\n",
        "2. Numerical: Discrete & Continuous - Interval & Ratio"
      ],
      "metadata": {
        "id": "nLnKIdppzpdP"
      }
    },
    {
      "cell_type": "markdown",
      "source": [
        "Data Cleaning:\n",
        "1. Treating Null Values\n",
        "2. Duplicates\n",
        "3. Wrong Format of data\n",
        "4. Handling Wrong Data(Outliers)"
      ],
      "metadata": {
        "id": "q8rWoS-n3sTE"
      }
    },
    {
      "cell_type": "code",
      "execution_count": null,
      "metadata": {
        "colab": {
          "base_uri": "https://localhost:8080/"
        },
        "id": "BrOmmsejzSgI",
        "outputId": "98ef81f7-1eae-4201-d84b-33537b9d6ac0"
      },
      "outputs": [
        {
          "output_type": "stream",
          "name": "stdout",
          "text": [
            "   Duration         Date  Pulse  Maxpulse  Calories Gender\n",
            "0        60  2020/12/01'    110       130     409.1      M\n",
            "1        60  2020/12/02'    117       145     479.0      F\n",
            "2        60  2020/12/03'    103       135     340.0      F\n",
            "3        45  2020/12/04'    109       175     282.4      F\n",
            "4        45  2020/12/05'    117       148     406.0    NaN\n"
          ]
        }
      ],
      "source": [
        "import pandas as pd\n",
        "df=pd.read_excel('/content/dirtydata.xlsx')\n",
        "print(df.head())"
      ]
    },
    {
      "cell_type": "code",
      "source": [
        "#Detect Null Values\n",
        "df.info()"
      ],
      "metadata": {
        "colab": {
          "base_uri": "https://localhost:8080/"
        },
        "id": "XxALzugO6TSv",
        "outputId": "259b46ce-01f1-47a2-9ff1-4a613f49879f"
      },
      "execution_count": null,
      "outputs": [
        {
          "output_type": "stream",
          "name": "stdout",
          "text": [
            "<class 'pandas.core.frame.DataFrame'>\n",
            "RangeIndex: 36 entries, 0 to 35\n",
            "Data columns (total 6 columns):\n",
            " #   Column    Non-Null Count  Dtype  \n",
            "---  ------    --------------  -----  \n",
            " 0   Duration  36 non-null     int64  \n",
            " 1   Date      35 non-null     object \n",
            " 2   Pulse     36 non-null     int64  \n",
            " 3   Maxpulse  36 non-null     int64  \n",
            " 4   Calories  34 non-null     float64\n",
            " 5   Gender    31 non-null     object \n",
            "dtypes: float64(1), int64(3), object(2)\n",
            "memory usage: 1.8+ KB\n"
          ]
        }
      ]
    },
    {
      "cell_type": "code",
      "source": [
        "print(df.isnull())"
      ],
      "metadata": {
        "colab": {
          "base_uri": "https://localhost:8080/"
        },
        "id": "auFh4MJN7GzF",
        "outputId": "d12e62bc-16f5-4a48-b0a0-aea15e546431"
      },
      "execution_count": null,
      "outputs": [
        {
          "output_type": "stream",
          "name": "stdout",
          "text": [
            "    Duration   Date  Pulse  Maxpulse  Calories  Gender\n",
            "0      False  False  False     False     False   False\n",
            "1      False  False  False     False     False   False\n",
            "2      False  False  False     False     False   False\n",
            "3      False  False  False     False     False   False\n",
            "4      False  False  False     False     False    True\n",
            "5      False  False  False     False     False   False\n",
            "6      False  False  False     False     False   False\n",
            "7      False  False  False     False     False   False\n",
            "8      False  False  False     False     False    True\n",
            "9      False  False  False     False     False   False\n",
            "10     False  False  False     False     False   False\n",
            "11     False  False  False     False     False   False\n",
            "12     False  False  False     False     False   False\n",
            "13     False  False  False     False     False   False\n",
            "14     False  False  False     False     False   False\n",
            "15     False  False  False     False     False   False\n",
            "16     False  False  False     False     False   False\n",
            "17     False  False  False     False     False   False\n",
            "18     False  False  False     False     False   False\n",
            "19     False  False  False     False     False   False\n",
            "20     False  False  False     False      True   False\n",
            "21     False  False  False     False     False   False\n",
            "22     False  False  False     False     False   False\n",
            "23     False  False  False     False     False   False\n",
            "24     False   True  False     False     False   False\n",
            "25     False  False  False     False     False    True\n",
            "26     False  False  False     False     False   False\n",
            "27     False  False  False     False     False   False\n",
            "28     False  False  False     False     False   False\n",
            "29     False  False  False     False     False   False\n",
            "30     False  False  False     False      True    True\n",
            "31     False  False  False     False     False   False\n",
            "32     False  False  False     False     False   False\n",
            "33     False  False  False     False     False   False\n",
            "34     False  False  False     False     False   False\n",
            "35     False  False  False     False     False    True\n"
          ]
        }
      ]
    },
    {
      "cell_type": "code",
      "source": [
        "print(df.isnull().sum())"
      ],
      "metadata": {
        "colab": {
          "base_uri": "https://localhost:8080/"
        },
        "id": "Z69HURKj7KDP",
        "outputId": "687a77f7-4755-4e2e-b8fb-5889d7cc51eb"
      },
      "execution_count": null,
      "outputs": [
        {
          "output_type": "stream",
          "name": "stdout",
          "text": [
            "Duration    0\n",
            "Date        1\n",
            "Pulse       0\n",
            "Maxpulse    0\n",
            "Calories    2\n",
            "Gender      5\n",
            "dtype: int64\n"
          ]
        }
      ]
    },
    {
      "cell_type": "code",
      "source": [
        "print(df.isna().sum())"
      ],
      "metadata": {
        "colab": {
          "base_uri": "https://localhost:8080/"
        },
        "id": "hCSdd0G07Trt",
        "outputId": "1dbc77ae-1af9-409b-9a74-6f290741025a"
      },
      "execution_count": null,
      "outputs": [
        {
          "output_type": "stream",
          "name": "stdout",
          "text": [
            "Duration    0\n",
            "Date        1\n",
            "Pulse       0\n",
            "Maxpulse    0\n",
            "Calories    2\n",
            "Gender      5\n",
            "dtype: int64\n"
          ]
        }
      ]
    },
    {
      "cell_type": "code",
      "source": [
        "print(df.isna())"
      ],
      "metadata": {
        "colab": {
          "base_uri": "https://localhost:8080/"
        },
        "id": "5-uWEghI7Yjs",
        "outputId": "684737a2-3494-4220-d23c-924e97ffdf7f"
      },
      "execution_count": null,
      "outputs": [
        {
          "output_type": "stream",
          "name": "stdout",
          "text": [
            "    Duration   Date  Pulse  Maxpulse  Calories  Gender\n",
            "0      False  False  False     False     False   False\n",
            "1      False  False  False     False     False   False\n",
            "2      False  False  False     False     False   False\n",
            "3      False  False  False     False     False   False\n",
            "4      False  False  False     False     False    True\n",
            "5      False  False  False     False     False   False\n",
            "6      False  False  False     False     False   False\n",
            "7      False  False  False     False     False   False\n",
            "8      False  False  False     False     False    True\n",
            "9      False  False  False     False     False   False\n",
            "10     False  False  False     False     False   False\n",
            "11     False  False  False     False     False   False\n",
            "12     False  False  False     False     False   False\n",
            "13     False  False  False     False     False   False\n",
            "14     False  False  False     False     False   False\n",
            "15     False  False  False     False     False   False\n",
            "16     False  False  False     False     False   False\n",
            "17     False  False  False     False     False   False\n",
            "18     False  False  False     False     False   False\n",
            "19     False  False  False     False     False   False\n",
            "20     False  False  False     False      True   False\n",
            "21     False  False  False     False     False   False\n",
            "22     False  False  False     False     False   False\n",
            "23     False  False  False     False     False   False\n",
            "24     False   True  False     False     False   False\n",
            "25     False  False  False     False     False    True\n",
            "26     False  False  False     False     False   False\n",
            "27     False  False  False     False     False   False\n",
            "28     False  False  False     False     False   False\n",
            "29     False  False  False     False     False   False\n",
            "30     False  False  False     False      True    True\n",
            "31     False  False  False     False     False   False\n",
            "32     False  False  False     False     False   False\n",
            "33     False  False  False     False     False   False\n",
            "34     False  False  False     False     False   False\n",
            "35     False  False  False     False     False    True\n"
          ]
        }
      ]
    },
    {
      "cell_type": "markdown",
      "source": [
        "## Treatment of Null Values: Removal, Replacement(Imputaion), KNN(k-nearest neighbour)(advanced)"
      ],
      "metadata": {
        "id": "tlDDB8et8xNI"
      }
    },
    {
      "cell_type": "code",
      "source": [
        "# Removal\n",
        "df.dropna(inplace=True)\n",
        "print(df.isna().sum())"
      ],
      "metadata": {
        "colab": {
          "base_uri": "https://localhost:8080/"
        },
        "id": "UK_aE0M58iCj",
        "outputId": "353802e7-1bae-4b35-df8f-0e9a24c07131"
      },
      "execution_count": null,
      "outputs": [
        {
          "output_type": "stream",
          "name": "stdout",
          "text": [
            "Duration    0\n",
            "Date        0\n",
            "Pulse       0\n",
            "Maxpulse    0\n",
            "Calories    0\n",
            "Gender      0\n",
            "dtype: int64\n"
          ]
        }
      ]
    },
    {
      "cell_type": "code",
      "source": [
        "print(df.info())"
      ],
      "metadata": {
        "colab": {
          "base_uri": "https://localhost:8080/"
        },
        "id": "Rccangvz8qNp",
        "outputId": "c623a182-776f-4ac7-c27a-42b7f0e0bd08"
      },
      "execution_count": null,
      "outputs": [
        {
          "output_type": "stream",
          "name": "stdout",
          "text": [
            "<class 'pandas.core.frame.DataFrame'>\n",
            "Index: 29 entries, 0 to 34\n",
            "Data columns (total 6 columns):\n",
            " #   Column    Non-Null Count  Dtype  \n",
            "---  ------    --------------  -----  \n",
            " 0   Duration  29 non-null     int64  \n",
            " 1   Date      29 non-null     object \n",
            " 2   Pulse     29 non-null     int64  \n",
            " 3   Maxpulse  29 non-null     int64  \n",
            " 4   Calories  29 non-null     float64\n",
            " 5   Gender    29 non-null     object \n",
            "dtypes: float64(1), int64(3), object(2)\n",
            "memory usage: 1.6+ KB\n",
            "None\n"
          ]
        }
      ]
    },
    {
      "cell_type": "code",
      "source": [
        "print(df)"
      ],
      "metadata": {
        "colab": {
          "base_uri": "https://localhost:8080/"
        },
        "id": "NNW1A6hV9G0y",
        "outputId": "1ce5781f-ab05-4ea7-835b-ead3d329e3d1"
      },
      "execution_count": null,
      "outputs": [
        {
          "output_type": "stream",
          "name": "stdout",
          "text": [
            "    Duration         Date  Pulse  Maxpulse  Calories Gender\n",
            "0         60  2020/12/01'    110       130     409.1      M\n",
            "1         60  2020/12/02'    117       145     479.0      F\n",
            "2         60  2020/12/03'    103       135     340.0      F\n",
            "3         45  2020/12/04'    109       175     282.4      F\n",
            "5         60  2020/12/06'    102       127     300.0      M\n",
            "6         60  2020/12/06'    102       127     300.0      M\n",
            "7        450  2020/12/08'    104       134     253.3      M\n",
            "9         60  2020/12/06'    102       127     300.0      M\n",
            "10        60  2020/12/10'     98       124     269.0      F\n",
            "11        60  2020/12/11'    103       147     329.3      F\n",
            "12        60  2020/12/12'    100       120     250.7      M\n",
            "13        60  2020/12/12'    100       120     250.7      F\n",
            "14        60  2020/12/13'    106       128     345.3      M\n",
            "15        60  2020/12/12'    100       120     250.7      F\n",
            "16        60  2020/12/14'    104       132     379.3      F\n",
            "17        60  2020/12/15'     98       123     275.0      F\n",
            "18        60  2020/12/16'     98       120     215.2      M\n",
            "19        60  2020/12/17'    100       120     300.0      M\n",
            "21        60  2020/12/19'    103       123     323.0      F\n",
            "22        45  2020/12/20'     97       125     243.0      F\n",
            "23        60  2020/12/21'    108       131     364.2      F\n",
            "26        45  2020/12/24'    105       132     246.0      M\n",
            "27        60  2020/12/25'    102       126     334.5      M\n",
            "28        60     20201226    100       120     250.0      M\n",
            "29        60  2020/12/27'     92       118     241.0      F\n",
            "31        60  2020/12/29'    100       132     280.0      M\n",
            "32        60  2020/12/30'    102       129     380.3      F\n",
            "33        60  2020/12/31'     92       115     243.0      F\n",
            "34        60  2020/12/30'    102       129     380.3      F\n"
          ]
        }
      ]
    },
    {
      "cell_type": "code",
      "source": [
        "#Replacement/Imputaion:\n",
        "df=pd.read_excel('/content/dirtydata.xlsx')\n",
        "print(df)"
      ],
      "metadata": {
        "colab": {
          "base_uri": "https://localhost:8080/"
        },
        "id": "CFB8Yfd29QM4",
        "outputId": "328e6ddb-7814-43a7-ca1c-b96d1ef6a7a7"
      },
      "execution_count": null,
      "outputs": [
        {
          "output_type": "stream",
          "name": "stdout",
          "text": [
            "    Duration         Date  Pulse  Maxpulse  Calories Gender\n",
            "0         60  2020/12/01'    110       130     409.1      M\n",
            "1         60  2020/12/02'    117       145     479.0      F\n",
            "2         60  2020/12/03'    103       135     340.0      F\n",
            "3         45  2020/12/04'    109       175     282.4      F\n",
            "4         45  2020/12/05'    117       148     406.0    NaN\n",
            "5         60  2020/12/06'    102       127     300.0      M\n",
            "6         60  2020/12/06'    102       127     300.0      M\n",
            "7        450  2020/12/08'    104       134     253.3      M\n",
            "8         30  2020/12/09'    109       133     195.1    NaN\n",
            "9         60  2020/12/06'    102       127     300.0      M\n",
            "10        60  2020/12/10'     98       124     269.0      F\n",
            "11        60  2020/12/11'    103       147     329.3      F\n",
            "12        60  2020/12/12'    100       120     250.7      M\n",
            "13        60  2020/12/12'    100       120     250.7      F\n",
            "14        60  2020/12/13'    106       128     345.3      M\n",
            "15        60  2020/12/12'    100       120     250.7      F\n",
            "16        60  2020/12/14'    104       132     379.3      F\n",
            "17        60  2020/12/15'     98       123     275.0      F\n",
            "18        60  2020/12/16'     98       120     215.2      M\n",
            "19        60  2020/12/17'    100       120     300.0      M\n",
            "20        45  2020/12/18'     90       112       NaN      F\n",
            "21        60  2020/12/19'    103       123     323.0      F\n",
            "22        45  2020/12/20'     97       125     243.0      F\n",
            "23        60  2020/12/21'    108       131     364.2      F\n",
            "24        45          NaN    100       119     282.0      M\n",
            "25        60  2020/12/23'    130       101     300.0    NaN\n",
            "26        45  2020/12/24'    105       132     246.0      M\n",
            "27        60  2020/12/25'    102       126     334.5      M\n",
            "28        60     20201226    100       120     250.0      M\n",
            "29        60  2020/12/27'     92       118     241.0      F\n",
            "30        60  2020/12/28'    103       132       NaN    NaN\n",
            "31        60  2020/12/29'    100       132     280.0      M\n",
            "32        60  2020/12/30'    102       129     380.3      F\n",
            "33        60  2020/12/31'     92       115     243.0      F\n",
            "34        60  2020/12/30'    102       129     380.3      F\n",
            "35        60  2020/12/27'     92       118     241.0    NaN\n"
          ]
        }
      ]
    },
    {
      "cell_type": "code",
      "source": [
        "print(df.describe())"
      ],
      "metadata": {
        "colab": {
          "base_uri": "https://localhost:8080/"
        },
        "id": "jLPRvn169qwd",
        "outputId": "eff85142-a6f7-4cd3-8c80-96258208003b"
      },
      "execution_count": null,
      "outputs": [
        {
          "output_type": "stream",
          "name": "stdout",
          "text": [
            "         Duration       Pulse    Maxpulse    Calories\n",
            "count   36.000000   36.000000   36.000000   34.000000\n",
            "mean    67.500000  102.777778  127.694444  301.129412\n",
            "std     65.970773    7.544577   12.358501   63.683819\n",
            "min     30.000000   90.000000  101.000000  195.100000\n",
            "25%     60.000000  100.000000  120.000000  250.700000\n",
            "50%     60.000000  102.000000  127.000000  291.200000\n",
            "75%     60.000000  104.250000  132.000000  338.625000\n",
            "max    450.000000  130.000000  175.000000  479.000000\n"
          ]
        }
      ]
    },
    {
      "cell_type": "code",
      "source": [
        "df['Calories'].fillna(100,inplace=True)\n",
        "print(df)\n",
        "print(df.describe())"
      ],
      "metadata": {
        "colab": {
          "base_uri": "https://localhost:8080/"
        },
        "id": "RKcHyHZY9yM4",
        "outputId": "cadd1838-d675-4bbb-efc0-dae4f926d295"
      },
      "execution_count": null,
      "outputs": [
        {
          "output_type": "stream",
          "name": "stdout",
          "text": [
            "    Duration         Date  Pulse  Maxpulse  Calories Gender\n",
            "0         60  2020/12/01'    110       130     409.1      M\n",
            "1         60  2020/12/02'    117       145     479.0      F\n",
            "2         60  2020/12/03'    103       135     340.0      F\n",
            "3         45  2020/12/04'    109       175     282.4      F\n",
            "4         45  2020/12/05'    117       148     406.0    NaN\n",
            "5         60  2020/12/06'    102       127     300.0      M\n",
            "6         60  2020/12/06'    102       127     300.0      M\n",
            "7        450  2020/12/08'    104       134     253.3      M\n",
            "8         30  2020/12/09'    109       133     195.1    NaN\n",
            "9         60  2020/12/06'    102       127     300.0      M\n",
            "10        60  2020/12/10'     98       124     269.0      F\n",
            "11        60  2020/12/11'    103       147     329.3      F\n",
            "12        60  2020/12/12'    100       120     250.7      M\n",
            "13        60  2020/12/12'    100       120     250.7      F\n",
            "14        60  2020/12/13'    106       128     345.3      M\n",
            "15        60  2020/12/12'    100       120     250.7      F\n",
            "16        60  2020/12/14'    104       132     379.3      F\n",
            "17        60  2020/12/15'     98       123     275.0      F\n",
            "18        60  2020/12/16'     98       120     215.2      M\n",
            "19        60  2020/12/17'    100       120     300.0      M\n",
            "20        45  2020/12/18'     90       112     100.0      F\n",
            "21        60  2020/12/19'    103       123     323.0      F\n",
            "22        45  2020/12/20'     97       125     243.0      F\n",
            "23        60  2020/12/21'    108       131     364.2      F\n",
            "24        45          NaN    100       119     282.0      M\n",
            "25        60  2020/12/23'    130       101     300.0    NaN\n",
            "26        45  2020/12/24'    105       132     246.0      M\n",
            "27        60  2020/12/25'    102       126     334.5      M\n",
            "28        60     20201226    100       120     250.0      M\n",
            "29        60  2020/12/27'     92       118     241.0      F\n",
            "30        60  2020/12/28'    103       132     100.0    NaN\n",
            "31        60  2020/12/29'    100       132     280.0      M\n",
            "32        60  2020/12/30'    102       129     380.3      F\n",
            "33        60  2020/12/31'     92       115     243.0      F\n",
            "34        60  2020/12/30'    102       129     380.3      F\n",
            "35        60  2020/12/27'     92       118     241.0    NaN\n",
            "         Duration       Pulse    Maxpulse    Calories\n",
            "count   36.000000   36.000000   36.000000   36.000000\n",
            "mean    67.500000  102.777778  127.694444  289.955556\n",
            "std     65.970773    7.544577   12.358501   77.505216\n",
            "min     30.000000   90.000000  101.000000  100.000000\n",
            "25%     60.000000  100.000000  120.000000  249.000000\n",
            "50%     60.000000  102.000000  127.000000  282.200000\n",
            "75%     60.000000  104.250000  132.000000  335.875000\n",
            "max    450.000000  130.000000  175.000000  479.000000\n"
          ]
        },
        {
          "output_type": "stream",
          "name": "stderr",
          "text": [
            "<ipython-input-19-1d10011e9bca>:1: FutureWarning: A value is trying to be set on a copy of a DataFrame or Series through chained assignment using an inplace method.\n",
            "The behavior will change in pandas 3.0. This inplace method will never work because the intermediate object on which we are setting values always behaves as a copy.\n",
            "\n",
            "For example, when doing 'df[col].method(value, inplace=True)', try using 'df.method({col: value}, inplace=True)' or df[col] = df[col].method(value) instead, to perform the operation inplace on the original object.\n",
            "\n",
            "\n",
            "  df['Calories'].fillna(100,inplace=True)\n"
          ]
        }
      ]
    },
    {
      "cell_type": "code",
      "source": [
        "#Trearting null values using central tendency\n",
        "df=pd.read_excel('/content/dirtydata.xlsx')\n",
        "print(df.isna().sum())"
      ],
      "metadata": {
        "colab": {
          "base_uri": "https://localhost:8080/"
        },
        "id": "mQJYFWPbAAzu",
        "outputId": "9b1ac600-21b7-43d4-a65f-14d1aa77b8cb"
      },
      "execution_count": null,
      "outputs": [
        {
          "output_type": "stream",
          "name": "stdout",
          "text": [
            "Duration    0\n",
            "Date        1\n",
            "Pulse       0\n",
            "Maxpulse    0\n",
            "Calories    2\n",
            "Gender      5\n",
            "dtype: int64\n"
          ]
        }
      ]
    },
    {
      "cell_type": "code",
      "source": [
        "print('Before Imputation')\n",
        "print(df.describe())"
      ],
      "metadata": {
        "colab": {
          "base_uri": "https://localhost:8080/"
        },
        "id": "XYX6dTCmAwD4",
        "outputId": "c0219402-1d9c-4ed0-f576-e4eaec8dfbab"
      },
      "execution_count": null,
      "outputs": [
        {
          "output_type": "stream",
          "name": "stdout",
          "text": [
            "Before Imputation\n",
            "         Duration       Pulse    Maxpulse    Calories\n",
            "count   36.000000   36.000000   36.000000   34.000000\n",
            "mean    67.500000  102.777778  127.694444  301.129412\n",
            "std     65.970773    7.544577   12.358501   63.683819\n",
            "min     30.000000   90.000000  101.000000  195.100000\n",
            "25%     60.000000  100.000000  120.000000  250.700000\n",
            "50%     60.000000  102.000000  127.000000  291.200000\n",
            "75%     60.000000  104.250000  132.000000  338.625000\n",
            "max    450.000000  130.000000  175.000000  479.000000\n"
          ]
        }
      ]
    },
    {
      "cell_type": "code",
      "source": [
        "df['Calories'].fillna(df['Calories'].mean(),inplace=True)\n",
        "print('After Imputation')\n",
        "print(df.describe())"
      ],
      "metadata": {
        "colab": {
          "base_uri": "https://localhost:8080/"
        },
        "id": "9xGaVcKWBAon",
        "outputId": "ac853c88-74d8-45ac-8605-c238f5557db6"
      },
      "execution_count": null,
      "outputs": [
        {
          "output_type": "stream",
          "name": "stdout",
          "text": [
            "After Imputation\n",
            "         Duration       Pulse    Maxpulse    Calories\n",
            "count   36.000000   36.000000   36.000000   36.000000\n",
            "mean    67.500000  102.777778  127.694444  301.129412\n",
            "std     65.970773    7.544577   12.358501   61.837518\n",
            "min     30.000000   90.000000  101.000000  195.100000\n",
            "25%     60.000000  100.000000  120.000000  250.700000\n",
            "50%     60.000000  102.000000  127.000000  300.000000\n",
            "75%     60.000000  104.250000  132.000000  335.875000\n",
            "max    450.000000  130.000000  175.000000  479.000000\n"
          ]
        },
        {
          "output_type": "stream",
          "name": "stderr",
          "text": [
            "<ipython-input-24-882bff9829d3>:1: FutureWarning: A value is trying to be set on a copy of a DataFrame or Series through chained assignment using an inplace method.\n",
            "The behavior will change in pandas 3.0. This inplace method will never work because the intermediate object on which we are setting values always behaves as a copy.\n",
            "\n",
            "For example, when doing 'df[col].method(value, inplace=True)', try using 'df.method({col: value}, inplace=True)' or df[col] = df[col].method(value) instead, to perform the operation inplace on the original object.\n",
            "\n",
            "\n",
            "  df['Calories'].fillna(df['Calories'].mean(),inplace=True)\n"
          ]
        }
      ]
    },
    {
      "cell_type": "code",
      "source": [
        "print(df)"
      ],
      "metadata": {
        "colab": {
          "base_uri": "https://localhost:8080/"
        },
        "id": "lhCPUZzKBaEd",
        "outputId": "ec6d2509-24d2-4488-9d0c-4566c1ddff28"
      },
      "execution_count": null,
      "outputs": [
        {
          "output_type": "stream",
          "name": "stdout",
          "text": [
            "    Duration         Date  Pulse  Maxpulse    Calories Gender\n",
            "0         60  2020/12/01'    110       130  409.100000      M\n",
            "1         60  2020/12/02'    117       145  479.000000      F\n",
            "2         60  2020/12/03'    103       135  340.000000      F\n",
            "3         45  2020/12/04'    109       175  282.400000      F\n",
            "4         45  2020/12/05'    117       148  406.000000    NaN\n",
            "5         60  2020/12/06'    102       127  300.000000      M\n",
            "6         60  2020/12/06'    102       127  300.000000      M\n",
            "7        450  2020/12/08'    104       134  253.300000      M\n",
            "8         30  2020/12/09'    109       133  195.100000    NaN\n",
            "9         60  2020/12/06'    102       127  300.000000      M\n",
            "10        60  2020/12/10'     98       124  269.000000      F\n",
            "11        60  2020/12/11'    103       147  329.300000      F\n",
            "12        60  2020/12/12'    100       120  250.700000      M\n",
            "13        60  2020/12/12'    100       120  250.700000      F\n",
            "14        60  2020/12/13'    106       128  345.300000      M\n",
            "15        60  2020/12/12'    100       120  250.700000      F\n",
            "16        60  2020/12/14'    104       132  379.300000      F\n",
            "17        60  2020/12/15'     98       123  275.000000      F\n",
            "18        60  2020/12/16'     98       120  215.200000      M\n",
            "19        60  2020/12/17'    100       120  300.000000      M\n",
            "20        45  2020/12/18'     90       112  301.129412      F\n",
            "21        60  2020/12/19'    103       123  323.000000      F\n",
            "22        45  2020/12/20'     97       125  243.000000      F\n",
            "23        60  2020/12/21'    108       131  364.200000      F\n",
            "24        45          NaN    100       119  282.000000      M\n",
            "25        60  2020/12/23'    130       101  300.000000    NaN\n",
            "26        45  2020/12/24'    105       132  246.000000      M\n",
            "27        60  2020/12/25'    102       126  334.500000      M\n",
            "28        60     20201226    100       120  250.000000      M\n",
            "29        60  2020/12/27'     92       118  241.000000      F\n",
            "30        60  2020/12/28'    103       132  301.129412    NaN\n",
            "31        60  2020/12/29'    100       132  280.000000      M\n",
            "32        60  2020/12/30'    102       129  380.300000      F\n",
            "33        60  2020/12/31'     92       115  243.000000      F\n",
            "34        60  2020/12/30'    102       129  380.300000      F\n",
            "35        60  2020/12/27'     92       118  241.000000    NaN\n"
          ]
        }
      ]
    },
    {
      "cell_type": "code",
      "source": [
        "print(df.isna().sum())"
      ],
      "metadata": {
        "colab": {
          "base_uri": "https://localhost:8080/"
        },
        "id": "uV9ZvhOOBnUW",
        "outputId": "7ceb10f5-a351-4064-9653-5e8d2ffbb78d"
      },
      "execution_count": null,
      "outputs": [
        {
          "output_type": "stream",
          "name": "stdout",
          "text": [
            "Duration    0\n",
            "Date        1\n",
            "Pulse       0\n",
            "Maxpulse    0\n",
            "Calories    0\n",
            "Gender      5\n",
            "dtype: int64\n"
          ]
        }
      ]
    },
    {
      "cell_type": "code",
      "source": [
        "df['Gender'].value_counts()"
      ],
      "metadata": {
        "colab": {
          "base_uri": "https://localhost:8080/",
          "height": 178
        },
        "id": "1Pij8cDSB4ot",
        "outputId": "121f487e-0e50-42b7-faa2-b45a50f0b755"
      },
      "execution_count": null,
      "outputs": [
        {
          "output_type": "execute_result",
          "data": {
            "text/plain": [
              "Gender\n",
              "F    17\n",
              "M    14\n",
              "Name: count, dtype: int64"
            ],
            "text/html": [
              "<div>\n",
              "<style scoped>\n",
              "    .dataframe tbody tr th:only-of-type {\n",
              "        vertical-align: middle;\n",
              "    }\n",
              "\n",
              "    .dataframe tbody tr th {\n",
              "        vertical-align: top;\n",
              "    }\n",
              "\n",
              "    .dataframe thead th {\n",
              "        text-align: right;\n",
              "    }\n",
              "</style>\n",
              "<table border=\"1\" class=\"dataframe\">\n",
              "  <thead>\n",
              "    <tr style=\"text-align: right;\">\n",
              "      <th></th>\n",
              "      <th>count</th>\n",
              "    </tr>\n",
              "    <tr>\n",
              "      <th>Gender</th>\n",
              "      <th></th>\n",
              "    </tr>\n",
              "  </thead>\n",
              "  <tbody>\n",
              "    <tr>\n",
              "      <th>F</th>\n",
              "      <td>17</td>\n",
              "    </tr>\n",
              "    <tr>\n",
              "      <th>M</th>\n",
              "      <td>14</td>\n",
              "    </tr>\n",
              "  </tbody>\n",
              "</table>\n",
              "</div><br><label><b>dtype:</b> int64</label>"
            ]
          },
          "metadata": {},
          "execution_count": 27
        }
      ]
    },
    {
      "cell_type": "code",
      "source": [
        "df['Gender'].fillna(df['Gender'].mode()[0],inplace=True)"
      ],
      "metadata": {
        "colab": {
          "base_uri": "https://localhost:8080/"
        },
        "id": "rlciJRAMCNPl",
        "outputId": "35ca3d6b-e03b-4c18-8d4c-4dc57da400d7"
      },
      "execution_count": null,
      "outputs": [
        {
          "output_type": "stream",
          "name": "stderr",
          "text": [
            "<ipython-input-30-cb233414b794>:1: FutureWarning: A value is trying to be set on a copy of a DataFrame or Series through chained assignment using an inplace method.\n",
            "The behavior will change in pandas 3.0. This inplace method will never work because the intermediate object on which we are setting values always behaves as a copy.\n",
            "\n",
            "For example, when doing 'df[col].method(value, inplace=True)', try using 'df.method({col: value}, inplace=True)' or df[col] = df[col].method(value) instead, to perform the operation inplace on the original object.\n",
            "\n",
            "\n",
            "  df['Gender'].fillna(df['Gender'].mode()[0],inplace=True)\n"
          ]
        }
      ]
    },
    {
      "cell_type": "code",
      "source": [
        "df.isnull().sum()"
      ],
      "metadata": {
        "colab": {
          "base_uri": "https://localhost:8080/",
          "height": 273
        },
        "id": "qFcGWWGsCub7",
        "outputId": "b0944493-a9fd-4a14-a09f-528e780917ae"
      },
      "execution_count": null,
      "outputs": [
        {
          "output_type": "execute_result",
          "data": {
            "text/plain": [
              "Duration    0\n",
              "Date        1\n",
              "Pulse       0\n",
              "Maxpulse    0\n",
              "Calories    0\n",
              "Gender      0\n",
              "dtype: int64"
            ],
            "text/html": [
              "<div>\n",
              "<style scoped>\n",
              "    .dataframe tbody tr th:only-of-type {\n",
              "        vertical-align: middle;\n",
              "    }\n",
              "\n",
              "    .dataframe tbody tr th {\n",
              "        vertical-align: top;\n",
              "    }\n",
              "\n",
              "    .dataframe thead th {\n",
              "        text-align: right;\n",
              "    }\n",
              "</style>\n",
              "<table border=\"1\" class=\"dataframe\">\n",
              "  <thead>\n",
              "    <tr style=\"text-align: right;\">\n",
              "      <th></th>\n",
              "      <th>0</th>\n",
              "    </tr>\n",
              "  </thead>\n",
              "  <tbody>\n",
              "    <tr>\n",
              "      <th>Duration</th>\n",
              "      <td>0</td>\n",
              "    </tr>\n",
              "    <tr>\n",
              "      <th>Date</th>\n",
              "      <td>1</td>\n",
              "    </tr>\n",
              "    <tr>\n",
              "      <th>Pulse</th>\n",
              "      <td>0</td>\n",
              "    </tr>\n",
              "    <tr>\n",
              "      <th>Maxpulse</th>\n",
              "      <td>0</td>\n",
              "    </tr>\n",
              "    <tr>\n",
              "      <th>Calories</th>\n",
              "      <td>0</td>\n",
              "    </tr>\n",
              "    <tr>\n",
              "      <th>Gender</th>\n",
              "      <td>0</td>\n",
              "    </tr>\n",
              "  </tbody>\n",
              "</table>\n",
              "</div><br><label><b>dtype:</b> int64</label>"
            ]
          },
          "metadata": {},
          "execution_count": 31
        }
      ]
    },
    {
      "cell_type": "code",
      "source": [
        "df['Gender'].value_counts()"
      ],
      "metadata": {
        "colab": {
          "base_uri": "https://localhost:8080/",
          "height": 178
        },
        "id": "m9zqM1bmDNHe",
        "outputId": "0138fce4-71f8-448c-b14b-5b129ba81725"
      },
      "execution_count": null,
      "outputs": [
        {
          "output_type": "execute_result",
          "data": {
            "text/plain": [
              "Gender\n",
              "F    22\n",
              "M    14\n",
              "Name: count, dtype: int64"
            ],
            "text/html": [
              "<div>\n",
              "<style scoped>\n",
              "    .dataframe tbody tr th:only-of-type {\n",
              "        vertical-align: middle;\n",
              "    }\n",
              "\n",
              "    .dataframe tbody tr th {\n",
              "        vertical-align: top;\n",
              "    }\n",
              "\n",
              "    .dataframe thead th {\n",
              "        text-align: right;\n",
              "    }\n",
              "</style>\n",
              "<table border=\"1\" class=\"dataframe\">\n",
              "  <thead>\n",
              "    <tr style=\"text-align: right;\">\n",
              "      <th></th>\n",
              "      <th>count</th>\n",
              "    </tr>\n",
              "    <tr>\n",
              "      <th>Gender</th>\n",
              "      <th></th>\n",
              "    </tr>\n",
              "  </thead>\n",
              "  <tbody>\n",
              "    <tr>\n",
              "      <th>F</th>\n",
              "      <td>22</td>\n",
              "    </tr>\n",
              "    <tr>\n",
              "      <th>M</th>\n",
              "      <td>14</td>\n",
              "    </tr>\n",
              "  </tbody>\n",
              "</table>\n",
              "</div><br><label><b>dtype:</b> int64</label>"
            ]
          },
          "metadata": {},
          "execution_count": 32
        }
      ]
    },
    {
      "cell_type": "code",
      "source": [
        "df.dropna(inplace=True)\n",
        "print(df.isnull().sum())"
      ],
      "metadata": {
        "colab": {
          "base_uri": "https://localhost:8080/"
        },
        "id": "LqeLltq0DVhM",
        "outputId": "3f868f58-d69a-423e-c578-d9f4db1d497d"
      },
      "execution_count": null,
      "outputs": [
        {
          "output_type": "stream",
          "name": "stdout",
          "text": [
            "Duration    0\n",
            "Date        0\n",
            "Pulse       0\n",
            "Maxpulse    0\n",
            "Calories    0\n",
            "Gender      0\n",
            "dtype: int64\n"
          ]
        }
      ]
    },
    {
      "cell_type": "markdown",
      "source": [
        "## **Dealing with Duplicates**"
      ],
      "metadata": {
        "id": "9wWiU4Z1Hhoj"
      }
    },
    {
      "cell_type": "code",
      "source": [
        "#Detecting Duplicates\n",
        "df.duplicated()"
      ],
      "metadata": {
        "colab": {
          "base_uri": "https://localhost:8080/",
          "height": 1000
        },
        "id": "nJOW24yYHhTx",
        "outputId": "0db6c881-e53a-4acc-cae3-309ac4a3b74d"
      },
      "execution_count": null,
      "outputs": [
        {
          "output_type": "execute_result",
          "data": {
            "text/plain": [
              "0     False\n",
              "1     False\n",
              "2     False\n",
              "3     False\n",
              "4     False\n",
              "5     False\n",
              "6      True\n",
              "7     False\n",
              "8     False\n",
              "9      True\n",
              "10    False\n",
              "11    False\n",
              "12    False\n",
              "13    False\n",
              "14    False\n",
              "15     True\n",
              "16    False\n",
              "17    False\n",
              "18    False\n",
              "19    False\n",
              "20    False\n",
              "21    False\n",
              "22    False\n",
              "23    False\n",
              "25    False\n",
              "26    False\n",
              "27    False\n",
              "28    False\n",
              "29    False\n",
              "30    False\n",
              "31    False\n",
              "32    False\n",
              "33    False\n",
              "34     True\n",
              "35     True\n",
              "dtype: bool"
            ],
            "text/html": [
              "<div>\n",
              "<style scoped>\n",
              "    .dataframe tbody tr th:only-of-type {\n",
              "        vertical-align: middle;\n",
              "    }\n",
              "\n",
              "    .dataframe tbody tr th {\n",
              "        vertical-align: top;\n",
              "    }\n",
              "\n",
              "    .dataframe thead th {\n",
              "        text-align: right;\n",
              "    }\n",
              "</style>\n",
              "<table border=\"1\" class=\"dataframe\">\n",
              "  <thead>\n",
              "    <tr style=\"text-align: right;\">\n",
              "      <th></th>\n",
              "      <th>0</th>\n",
              "    </tr>\n",
              "  </thead>\n",
              "  <tbody>\n",
              "    <tr>\n",
              "      <th>0</th>\n",
              "      <td>False</td>\n",
              "    </tr>\n",
              "    <tr>\n",
              "      <th>1</th>\n",
              "      <td>False</td>\n",
              "    </tr>\n",
              "    <tr>\n",
              "      <th>2</th>\n",
              "      <td>False</td>\n",
              "    </tr>\n",
              "    <tr>\n",
              "      <th>3</th>\n",
              "      <td>False</td>\n",
              "    </tr>\n",
              "    <tr>\n",
              "      <th>4</th>\n",
              "      <td>False</td>\n",
              "    </tr>\n",
              "    <tr>\n",
              "      <th>5</th>\n",
              "      <td>False</td>\n",
              "    </tr>\n",
              "    <tr>\n",
              "      <th>6</th>\n",
              "      <td>True</td>\n",
              "    </tr>\n",
              "    <tr>\n",
              "      <th>7</th>\n",
              "      <td>False</td>\n",
              "    </tr>\n",
              "    <tr>\n",
              "      <th>8</th>\n",
              "      <td>False</td>\n",
              "    </tr>\n",
              "    <tr>\n",
              "      <th>9</th>\n",
              "      <td>True</td>\n",
              "    </tr>\n",
              "    <tr>\n",
              "      <th>10</th>\n",
              "      <td>False</td>\n",
              "    </tr>\n",
              "    <tr>\n",
              "      <th>11</th>\n",
              "      <td>False</td>\n",
              "    </tr>\n",
              "    <tr>\n",
              "      <th>12</th>\n",
              "      <td>False</td>\n",
              "    </tr>\n",
              "    <tr>\n",
              "      <th>13</th>\n",
              "      <td>False</td>\n",
              "    </tr>\n",
              "    <tr>\n",
              "      <th>14</th>\n",
              "      <td>False</td>\n",
              "    </tr>\n",
              "    <tr>\n",
              "      <th>15</th>\n",
              "      <td>True</td>\n",
              "    </tr>\n",
              "    <tr>\n",
              "      <th>16</th>\n",
              "      <td>False</td>\n",
              "    </tr>\n",
              "    <tr>\n",
              "      <th>17</th>\n",
              "      <td>False</td>\n",
              "    </tr>\n",
              "    <tr>\n",
              "      <th>18</th>\n",
              "      <td>False</td>\n",
              "    </tr>\n",
              "    <tr>\n",
              "      <th>19</th>\n",
              "      <td>False</td>\n",
              "    </tr>\n",
              "    <tr>\n",
              "      <th>20</th>\n",
              "      <td>False</td>\n",
              "    </tr>\n",
              "    <tr>\n",
              "      <th>21</th>\n",
              "      <td>False</td>\n",
              "    </tr>\n",
              "    <tr>\n",
              "      <th>22</th>\n",
              "      <td>False</td>\n",
              "    </tr>\n",
              "    <tr>\n",
              "      <th>23</th>\n",
              "      <td>False</td>\n",
              "    </tr>\n",
              "    <tr>\n",
              "      <th>25</th>\n",
              "      <td>False</td>\n",
              "    </tr>\n",
              "    <tr>\n",
              "      <th>26</th>\n",
              "      <td>False</td>\n",
              "    </tr>\n",
              "    <tr>\n",
              "      <th>27</th>\n",
              "      <td>False</td>\n",
              "    </tr>\n",
              "    <tr>\n",
              "      <th>28</th>\n",
              "      <td>False</td>\n",
              "    </tr>\n",
              "    <tr>\n",
              "      <th>29</th>\n",
              "      <td>False</td>\n",
              "    </tr>\n",
              "    <tr>\n",
              "      <th>30</th>\n",
              "      <td>False</td>\n",
              "    </tr>\n",
              "    <tr>\n",
              "      <th>31</th>\n",
              "      <td>False</td>\n",
              "    </tr>\n",
              "    <tr>\n",
              "      <th>32</th>\n",
              "      <td>False</td>\n",
              "    </tr>\n",
              "    <tr>\n",
              "      <th>33</th>\n",
              "      <td>False</td>\n",
              "    </tr>\n",
              "    <tr>\n",
              "      <th>34</th>\n",
              "      <td>True</td>\n",
              "    </tr>\n",
              "    <tr>\n",
              "      <th>35</th>\n",
              "      <td>True</td>\n",
              "    </tr>\n",
              "  </tbody>\n",
              "</table>\n",
              "</div><br><label><b>dtype:</b> bool</label>"
            ]
          },
          "metadata": {},
          "execution_count": 34
        }
      ]
    },
    {
      "cell_type": "code",
      "source": [
        "df.duplicated().sum()"
      ],
      "metadata": {
        "colab": {
          "base_uri": "https://localhost:8080/"
        },
        "id": "H92r6yHfEhxd",
        "outputId": "05da7705-d2ee-44d3-87dc-19b998a7b9f9"
      },
      "execution_count": null,
      "outputs": [
        {
          "output_type": "execute_result",
          "data": {
            "text/plain": [
              "5"
            ]
          },
          "metadata": {},
          "execution_count": 35
        }
      ]
    },
    {
      "cell_type": "code",
      "source": [
        "print(df)\n",
        "print(df.shape)"
      ],
      "metadata": {
        "colab": {
          "base_uri": "https://localhost:8080/"
        },
        "id": "vWdmweVRItOV",
        "outputId": "84eaf124-a005-4979-e30d-51b38dfc5297"
      },
      "execution_count": null,
      "outputs": [
        {
          "output_type": "stream",
          "name": "stdout",
          "text": [
            "    Duration         Date  Pulse  Maxpulse    Calories Gender\n",
            "0         60  2020/12/01'    110       130  409.100000      M\n",
            "1         60  2020/12/02'    117       145  479.000000      F\n",
            "2         60  2020/12/03'    103       135  340.000000      F\n",
            "3         45  2020/12/04'    109       175  282.400000      F\n",
            "4         45  2020/12/05'    117       148  406.000000      F\n",
            "5         60  2020/12/06'    102       127  300.000000      M\n",
            "6         60  2020/12/06'    102       127  300.000000      M\n",
            "7        450  2020/12/08'    104       134  253.300000      M\n",
            "8         30  2020/12/09'    109       133  195.100000      F\n",
            "9         60  2020/12/06'    102       127  300.000000      M\n",
            "10        60  2020/12/10'     98       124  269.000000      F\n",
            "11        60  2020/12/11'    103       147  329.300000      F\n",
            "12        60  2020/12/12'    100       120  250.700000      M\n",
            "13        60  2020/12/12'    100       120  250.700000      F\n",
            "14        60  2020/12/13'    106       128  345.300000      M\n",
            "15        60  2020/12/12'    100       120  250.700000      F\n",
            "16        60  2020/12/14'    104       132  379.300000      F\n",
            "17        60  2020/12/15'     98       123  275.000000      F\n",
            "18        60  2020/12/16'     98       120  215.200000      M\n",
            "19        60  2020/12/17'    100       120  300.000000      M\n",
            "20        45  2020/12/18'     90       112  301.129412      F\n",
            "21        60  2020/12/19'    103       123  323.000000      F\n",
            "22        45  2020/12/20'     97       125  243.000000      F\n",
            "23        60  2020/12/21'    108       131  364.200000      F\n",
            "25        60  2020/12/23'    130       101  300.000000      F\n",
            "26        45  2020/12/24'    105       132  246.000000      M\n",
            "27        60  2020/12/25'    102       126  334.500000      M\n",
            "28        60     20201226    100       120  250.000000      M\n",
            "29        60  2020/12/27'     92       118  241.000000      F\n",
            "30        60  2020/12/28'    103       132  301.129412      F\n",
            "31        60  2020/12/29'    100       132  280.000000      M\n",
            "32        60  2020/12/30'    102       129  380.300000      F\n",
            "33        60  2020/12/31'     92       115  243.000000      F\n",
            "34        60  2020/12/30'    102       129  380.300000      F\n",
            "35        60  2020/12/27'     92       118  241.000000      F\n",
            "(35, 6)\n"
          ]
        }
      ]
    },
    {
      "cell_type": "code",
      "source": [
        "#Remove Duplicates\n",
        "df.drop_duplicates(inplace=True)\n",
        "print(df.shape)"
      ],
      "metadata": {
        "colab": {
          "base_uri": "https://localhost:8080/"
        },
        "id": "pdGff57JI5kf",
        "outputId": "15a6e9ee-3eee-47fd-f357-406b55a288c7"
      },
      "execution_count": null,
      "outputs": [
        {
          "output_type": "stream",
          "name": "stdout",
          "text": [
            "(30, 6)\n"
          ]
        }
      ]
    },
    {
      "cell_type": "markdown",
      "source": [
        "## Treating Wrong Format"
      ],
      "metadata": {
        "id": "KpEw0Kz_Jn3D"
      }
    },
    {
      "cell_type": "code",
      "source": [
        "df.info()"
      ],
      "metadata": {
        "colab": {
          "base_uri": "https://localhost:8080/"
        },
        "id": "lEW0GBOnJei7",
        "outputId": "b57d30d7-ebf8-4e7f-8c7b-d8cbbc648501"
      },
      "execution_count": null,
      "outputs": [
        {
          "output_type": "stream",
          "name": "stdout",
          "text": [
            "<class 'pandas.core.frame.DataFrame'>\n",
            "Index: 30 entries, 0 to 33\n",
            "Data columns (total 6 columns):\n",
            " #   Column    Non-Null Count  Dtype  \n",
            "---  ------    --------------  -----  \n",
            " 0   Duration  30 non-null     int64  \n",
            " 1   Date      30 non-null     object \n",
            " 2   Pulse     30 non-null     int64  \n",
            " 3   Maxpulse  30 non-null     int64  \n",
            " 4   Calories  30 non-null     float64\n",
            " 5   Gender    30 non-null     object \n",
            "dtypes: float64(1), int64(3), object(2)\n",
            "memory usage: 1.6+ KB\n"
          ]
        }
      ]
    },
    {
      "cell_type": "code",
      "source": [
        "df['Date']=pd.to_datetime(df['Date'])\n",
        "print(df.info())"
      ],
      "metadata": {
        "colab": {
          "base_uri": "https://localhost:8080/",
          "height": 475
        },
        "id": "Yh_XpuOEJ_U6",
        "outputId": "42ab9aa5-8f53-4c8d-8a3e-854e30f2e7fb"
      },
      "execution_count": null,
      "outputs": [
        {
          "output_type": "error",
          "ename": "ValueError",
          "evalue": "time data \"20201226\" doesn't match format \"%Y/%m/%d'\", at position 24. You might want to try:\n    - passing `format` if your strings have a consistent format;\n    - passing `format='ISO8601'` if your strings are all ISO8601 but not necessarily in exactly the same format;\n    - passing `format='mixed'`, and the format will be inferred for each element individually. You might want to use `dayfirst` alongside this.",
          "traceback": [
            "\u001b[0;31m---------------------------------------------------------------------------\u001b[0m",
            "\u001b[0;31mValueError\u001b[0m                                Traceback (most recent call last)",
            "\u001b[0;32m<ipython-input-41-9cddfa4eb6e2>\u001b[0m in \u001b[0;36m<cell line: 0>\u001b[0;34m()\u001b[0m\n\u001b[0;32m----> 1\u001b[0;31m \u001b[0mdf\u001b[0m\u001b[0;34m[\u001b[0m\u001b[0;34m'Date'\u001b[0m\u001b[0;34m]\u001b[0m\u001b[0;34m=\u001b[0m\u001b[0mpd\u001b[0m\u001b[0;34m.\u001b[0m\u001b[0mto_datetime\u001b[0m\u001b[0;34m(\u001b[0m\u001b[0mdf\u001b[0m\u001b[0;34m[\u001b[0m\u001b[0;34m'Date'\u001b[0m\u001b[0;34m]\u001b[0m\u001b[0;34m)\u001b[0m\u001b[0;34m\u001b[0m\u001b[0;34m\u001b[0m\u001b[0m\n\u001b[0m\u001b[1;32m      2\u001b[0m \u001b[0mprint\u001b[0m\u001b[0;34m(\u001b[0m\u001b[0mdf\u001b[0m\u001b[0;34m.\u001b[0m\u001b[0minfo\u001b[0m\u001b[0;34m(\u001b[0m\u001b[0;34m)\u001b[0m\u001b[0;34m)\u001b[0m\u001b[0;34m\u001b[0m\u001b[0;34m\u001b[0m\u001b[0m\n",
            "\u001b[0;32m/usr/local/lib/python3.11/dist-packages/pandas/core/tools/datetimes.py\u001b[0m in \u001b[0;36mto_datetime\u001b[0;34m(arg, errors, dayfirst, yearfirst, utc, format, exact, unit, infer_datetime_format, origin, cache)\u001b[0m\n\u001b[1;32m   1065\u001b[0m             \u001b[0mresult\u001b[0m \u001b[0;34m=\u001b[0m \u001b[0marg\u001b[0m\u001b[0;34m.\u001b[0m\u001b[0mmap\u001b[0m\u001b[0;34m(\u001b[0m\u001b[0mcache_array\u001b[0m\u001b[0;34m)\u001b[0m\u001b[0;34m\u001b[0m\u001b[0;34m\u001b[0m\u001b[0m\n\u001b[1;32m   1066\u001b[0m         \u001b[0;32melse\u001b[0m\u001b[0;34m:\u001b[0m\u001b[0;34m\u001b[0m\u001b[0;34m\u001b[0m\u001b[0m\n\u001b[0;32m-> 1067\u001b[0;31m             \u001b[0mvalues\u001b[0m \u001b[0;34m=\u001b[0m \u001b[0mconvert_listlike\u001b[0m\u001b[0;34m(\u001b[0m\u001b[0marg\u001b[0m\u001b[0;34m.\u001b[0m\u001b[0m_values\u001b[0m\u001b[0;34m,\u001b[0m \u001b[0mformat\u001b[0m\u001b[0;34m)\u001b[0m\u001b[0;34m\u001b[0m\u001b[0;34m\u001b[0m\u001b[0m\n\u001b[0m\u001b[1;32m   1068\u001b[0m             \u001b[0mresult\u001b[0m \u001b[0;34m=\u001b[0m \u001b[0marg\u001b[0m\u001b[0;34m.\u001b[0m\u001b[0m_constructor\u001b[0m\u001b[0;34m(\u001b[0m\u001b[0mvalues\u001b[0m\u001b[0;34m,\u001b[0m \u001b[0mindex\u001b[0m\u001b[0;34m=\u001b[0m\u001b[0marg\u001b[0m\u001b[0;34m.\u001b[0m\u001b[0mindex\u001b[0m\u001b[0;34m,\u001b[0m \u001b[0mname\u001b[0m\u001b[0;34m=\u001b[0m\u001b[0marg\u001b[0m\u001b[0;34m.\u001b[0m\u001b[0mname\u001b[0m\u001b[0;34m)\u001b[0m\u001b[0;34m\u001b[0m\u001b[0;34m\u001b[0m\u001b[0m\n\u001b[1;32m   1069\u001b[0m     \u001b[0;32melif\u001b[0m \u001b[0misinstance\u001b[0m\u001b[0;34m(\u001b[0m\u001b[0marg\u001b[0m\u001b[0;34m,\u001b[0m \u001b[0;34m(\u001b[0m\u001b[0mABCDataFrame\u001b[0m\u001b[0;34m,\u001b[0m \u001b[0mabc\u001b[0m\u001b[0;34m.\u001b[0m\u001b[0mMutableMapping\u001b[0m\u001b[0;34m)\u001b[0m\u001b[0;34m)\u001b[0m\u001b[0;34m:\u001b[0m\u001b[0;34m\u001b[0m\u001b[0;34m\u001b[0m\u001b[0m\n",
            "\u001b[0;32m/usr/local/lib/python3.11/dist-packages/pandas/core/tools/datetimes.py\u001b[0m in \u001b[0;36m_convert_listlike_datetimes\u001b[0;34m(arg, format, name, utc, unit, errors, dayfirst, yearfirst, exact)\u001b[0m\n\u001b[1;32m    431\u001b[0m     \u001b[0;31m# `format` could be inferred, or user didn't ask for mixed-format parsing.\u001b[0m\u001b[0;34m\u001b[0m\u001b[0;34m\u001b[0m\u001b[0m\n\u001b[1;32m    432\u001b[0m     \u001b[0;32mif\u001b[0m \u001b[0mformat\u001b[0m \u001b[0;32mis\u001b[0m \u001b[0;32mnot\u001b[0m \u001b[0;32mNone\u001b[0m \u001b[0;32mand\u001b[0m \u001b[0mformat\u001b[0m \u001b[0;34m!=\u001b[0m \u001b[0;34m\"mixed\"\u001b[0m\u001b[0;34m:\u001b[0m\u001b[0;34m\u001b[0m\u001b[0;34m\u001b[0m\u001b[0m\n\u001b[0;32m--> 433\u001b[0;31m         \u001b[0;32mreturn\u001b[0m \u001b[0m_array_strptime_with_fallback\u001b[0m\u001b[0;34m(\u001b[0m\u001b[0marg\u001b[0m\u001b[0;34m,\u001b[0m \u001b[0mname\u001b[0m\u001b[0;34m,\u001b[0m \u001b[0mutc\u001b[0m\u001b[0;34m,\u001b[0m \u001b[0mformat\u001b[0m\u001b[0;34m,\u001b[0m \u001b[0mexact\u001b[0m\u001b[0;34m,\u001b[0m \u001b[0merrors\u001b[0m\u001b[0;34m)\u001b[0m\u001b[0;34m\u001b[0m\u001b[0;34m\u001b[0m\u001b[0m\n\u001b[0m\u001b[1;32m    434\u001b[0m \u001b[0;34m\u001b[0m\u001b[0m\n\u001b[1;32m    435\u001b[0m     result, tz_parsed = objects_to_datetime64(\n",
            "\u001b[0;32m/usr/local/lib/python3.11/dist-packages/pandas/core/tools/datetimes.py\u001b[0m in \u001b[0;36m_array_strptime_with_fallback\u001b[0;34m(arg, name, utc, fmt, exact, errors)\u001b[0m\n\u001b[1;32m    465\u001b[0m     \u001b[0mCall\u001b[0m \u001b[0marray_strptime\u001b[0m\u001b[0;34m,\u001b[0m \u001b[0;32mwith\u001b[0m \u001b[0mfallback\u001b[0m \u001b[0mbehavior\u001b[0m \u001b[0mdepending\u001b[0m \u001b[0mon\u001b[0m \u001b[0;34m'errors'\u001b[0m\u001b[0;34m.\u001b[0m\u001b[0;34m\u001b[0m\u001b[0;34m\u001b[0m\u001b[0m\n\u001b[1;32m    466\u001b[0m     \"\"\"\n\u001b[0;32m--> 467\u001b[0;31m     \u001b[0mresult\u001b[0m\u001b[0;34m,\u001b[0m \u001b[0mtz_out\u001b[0m \u001b[0;34m=\u001b[0m \u001b[0marray_strptime\u001b[0m\u001b[0;34m(\u001b[0m\u001b[0marg\u001b[0m\u001b[0;34m,\u001b[0m \u001b[0mfmt\u001b[0m\u001b[0;34m,\u001b[0m \u001b[0mexact\u001b[0m\u001b[0;34m=\u001b[0m\u001b[0mexact\u001b[0m\u001b[0;34m,\u001b[0m \u001b[0merrors\u001b[0m\u001b[0;34m=\u001b[0m\u001b[0merrors\u001b[0m\u001b[0;34m,\u001b[0m \u001b[0mutc\u001b[0m\u001b[0;34m=\u001b[0m\u001b[0mutc\u001b[0m\u001b[0;34m)\u001b[0m\u001b[0;34m\u001b[0m\u001b[0;34m\u001b[0m\u001b[0m\n\u001b[0m\u001b[1;32m    468\u001b[0m     \u001b[0;32mif\u001b[0m \u001b[0mtz_out\u001b[0m \u001b[0;32mis\u001b[0m \u001b[0;32mnot\u001b[0m \u001b[0;32mNone\u001b[0m\u001b[0;34m:\u001b[0m\u001b[0;34m\u001b[0m\u001b[0;34m\u001b[0m\u001b[0m\n\u001b[1;32m    469\u001b[0m         \u001b[0munit\u001b[0m \u001b[0;34m=\u001b[0m \u001b[0mnp\u001b[0m\u001b[0;34m.\u001b[0m\u001b[0mdatetime_data\u001b[0m\u001b[0;34m(\u001b[0m\u001b[0mresult\u001b[0m\u001b[0;34m.\u001b[0m\u001b[0mdtype\u001b[0m\u001b[0;34m)\u001b[0m\u001b[0;34m[\u001b[0m\u001b[0;36m0\u001b[0m\u001b[0;34m]\u001b[0m\u001b[0;34m\u001b[0m\u001b[0;34m\u001b[0m\u001b[0m\n",
            "\u001b[0;32mstrptime.pyx\u001b[0m in \u001b[0;36mpandas._libs.tslibs.strptime.array_strptime\u001b[0;34m()\u001b[0m\n",
            "\u001b[0;32mstrptime.pyx\u001b[0m in \u001b[0;36mpandas._libs.tslibs.strptime.array_strptime\u001b[0;34m()\u001b[0m\n",
            "\u001b[0;32mstrptime.pyx\u001b[0m in \u001b[0;36mpandas._libs.tslibs.strptime._parse_with_format\u001b[0;34m()\u001b[0m\n",
            "\u001b[0;31mValueError\u001b[0m: time data \"20201226\" doesn't match format \"%Y/%m/%d'\", at position 24. You might want to try:\n    - passing `format` if your strings have a consistent format;\n    - passing `format='ISO8601'` if your strings are all ISO8601 but not necessarily in exactly the same format;\n    - passing `format='mixed'`, and the format will be inferred for each element individually. You might want to use `dayfirst` alongside this."
          ]
        }
      ]
    },
    {
      "cell_type": "code",
      "source": [
        "df.drop(28,axis=0,inplace=True)\n",
        "print(df)"
      ],
      "metadata": {
        "colab": {
          "base_uri": "https://localhost:8080/"
        },
        "id": "-PJUr819KgS4",
        "outputId": "25e31d79-8ebf-4f69-bbfd-fc0f8043a0d7"
      },
      "execution_count": null,
      "outputs": [
        {
          "output_type": "stream",
          "name": "stdout",
          "text": [
            "    Duration         Date  Pulse  Maxpulse    Calories Gender\n",
            "0         60  2020/12/01'    110       130  409.100000      M\n",
            "1         60  2020/12/02'    117       145  479.000000      F\n",
            "2         60  2020/12/03'    103       135  340.000000      F\n",
            "3         45  2020/12/04'    109       175  282.400000      F\n",
            "4         45  2020/12/05'    117       148  406.000000      F\n",
            "5         60  2020/12/06'    102       127  300.000000      M\n",
            "7        450  2020/12/08'    104       134  253.300000      M\n",
            "8         30  2020/12/09'    109       133  195.100000      F\n",
            "10        60  2020/12/10'     98       124  269.000000      F\n",
            "11        60  2020/12/11'    103       147  329.300000      F\n",
            "12        60  2020/12/12'    100       120  250.700000      M\n",
            "13        60  2020/12/12'    100       120  250.700000      F\n",
            "14        60  2020/12/13'    106       128  345.300000      M\n",
            "16        60  2020/12/14'    104       132  379.300000      F\n",
            "17        60  2020/12/15'     98       123  275.000000      F\n",
            "18        60  2020/12/16'     98       120  215.200000      M\n",
            "19        60  2020/12/17'    100       120  300.000000      M\n",
            "20        45  2020/12/18'     90       112  301.129412      F\n",
            "21        60  2020/12/19'    103       123  323.000000      F\n",
            "22        45  2020/12/20'     97       125  243.000000      F\n",
            "23        60  2020/12/21'    108       131  364.200000      F\n",
            "25        60  2020/12/23'    130       101  300.000000      F\n",
            "26        45  2020/12/24'    105       132  246.000000      M\n",
            "27        60  2020/12/25'    102       126  334.500000      M\n",
            "29        60  2020/12/27'     92       118  241.000000      F\n",
            "30        60  2020/12/28'    103       132  301.129412      F\n",
            "31        60  2020/12/29'    100       132  280.000000      M\n",
            "32        60  2020/12/30'    102       129  380.300000      F\n",
            "33        60  2020/12/31'     92       115  243.000000      F\n"
          ]
        }
      ]
    },
    {
      "cell_type": "code",
      "source": [
        "df['Date']=pd.to_datetime(df['Date'])\n",
        "print(df.info())"
      ],
      "metadata": {
        "colab": {
          "base_uri": "https://localhost:8080/"
        },
        "id": "f5NP01KPLXJ5",
        "outputId": "3a6ec339-f703-4581-d095-bded208a7812"
      },
      "execution_count": null,
      "outputs": [
        {
          "output_type": "stream",
          "name": "stdout",
          "text": [
            "<class 'pandas.core.frame.DataFrame'>\n",
            "Index: 29 entries, 0 to 33\n",
            "Data columns (total 6 columns):\n",
            " #   Column    Non-Null Count  Dtype         \n",
            "---  ------    --------------  -----         \n",
            " 0   Duration  29 non-null     int64         \n",
            " 1   Date      29 non-null     datetime64[ns]\n",
            " 2   Pulse     29 non-null     int64         \n",
            " 3   Maxpulse  29 non-null     int64         \n",
            " 4   Calories  29 non-null     float64       \n",
            " 5   Gender    29 non-null     object        \n",
            "dtypes: datetime64[ns](1), float64(1), int64(3), object(1)\n",
            "memory usage: 1.6+ KB\n",
            "None\n"
          ]
        }
      ]
    },
    {
      "cell_type": "code",
      "source": [
        "df.to_excel('cleaneddata.xlsx',index=False)"
      ],
      "metadata": {
        "id": "3Uby7OCqLsDX"
      },
      "execution_count": null,
      "outputs": []
    },
    {
      "cell_type": "markdown",
      "source": [
        "# Pre-processing"
      ],
      "metadata": {
        "id": "E0lc5sR3ZVwf"
      }
    },
    {
      "cell_type": "markdown",
      "source": [
        "Handing Categorical Values\n",
        "- get_dummies()\n",
        "- LabelEncoder()\n",
        "- OneHotEncoder()"
      ],
      "metadata": {
        "id": "98CUh7y5XPbs"
      }
    },
    {
      "cell_type": "markdown",
      "source": [
        "Handling Numerical Values\n",
        "1. Scaling the data\n",
        "- StandardScalar: Z-Score\n",
        "- MinMaxScalar\n",
        "- RobustScalar"
      ],
      "metadata": {
        "id": "ZuPQnfLFagju"
      }
    },
    {
      "cell_type": "markdown",
      "source": [
        "Homework : Z-Transform\n",
        "\n",
        "Z-Score\n",
        "\n",
        "sklearn"
      ],
      "metadata": {
        "id": "hBnMsL19bWUw"
      }
    },
    {
      "cell_type": "code",
      "source": [
        "loan_df = pd.read_csv('/content/loans.csv')\n",
        "print(loan_df.head())"
      ],
      "metadata": {
        "colab": {
          "base_uri": "https://localhost:8080/"
        },
        "id": "0D6TtMJldUps",
        "outputId": "d702bf1c-2416-4182-e341-99a3505387a6"
      },
      "execution_count": null,
      "outputs": [
        {
          "output_type": "stream",
          "name": "stdout",
          "text": [
            "   client_id loan_type  loan_amount  repaid  loan_id  loan_start    loan_end  \\\n",
            "0      46109      home        13672       0    10243  16-04-2002  20-12-2003   \n",
            "1      46109    credit         9794       0    10984  21-10-2003  17-07-2005   \n",
            "2      46109      home        12734       1    10990  01-02-2006  05-07-2007   \n",
            "3      46109      cash        12518       1    10596  08-12-2010  05-05-2013   \n",
            "4      46109    credit        14049       1    11415  07-07-2010  21-05-2012   \n",
            "\n",
            "   rate  \n",
            "0  2.15  \n",
            "1  1.25  \n",
            "2  0.68  \n",
            "3  1.24  \n",
            "4  3.13  \n"
          ]
        }
      ]
    },
    {
      "cell_type": "code",
      "source": [
        "loan_df.info()"
      ],
      "metadata": {
        "colab": {
          "base_uri": "https://localhost:8080/"
        },
        "id": "7dNFHBrjezq4",
        "outputId": "573b4aac-69af-4c63-a2d3-17d8a285451e"
      },
      "execution_count": null,
      "outputs": [
        {
          "output_type": "stream",
          "name": "stdout",
          "text": [
            "<class 'pandas.core.frame.DataFrame'>\n",
            "RangeIndex: 443 entries, 0 to 442\n",
            "Data columns (total 8 columns):\n",
            " #   Column       Non-Null Count  Dtype  \n",
            "---  ------       --------------  -----  \n",
            " 0   client_id    443 non-null    int64  \n",
            " 1   loan_type    443 non-null    object \n",
            " 2   loan_amount  443 non-null    int64  \n",
            " 3   repaid       443 non-null    int64  \n",
            " 4   loan_id      443 non-null    int64  \n",
            " 5   loan_start   443 non-null    object \n",
            " 6   loan_end     443 non-null    object \n",
            " 7   rate         443 non-null    float64\n",
            "dtypes: float64(1), int64(4), object(3)\n",
            "memory usage: 27.8+ KB\n"
          ]
        }
      ]
    },
    {
      "cell_type": "code",
      "source": [
        "#StandardScalar : Z-Score,MinMax\n",
        "df_num=loan_df[['loan_amount','rate']]\n",
        "print(df_num)"
      ],
      "metadata": {
        "colab": {
          "base_uri": "https://localhost:8080/"
        },
        "id": "FsfxzOECe040",
        "outputId": "21cb27f9-becd-467e-c29e-eef54480d010"
      },
      "execution_count": null,
      "outputs": [
        {
          "output_type": "stream",
          "name": "stdout",
          "text": [
            "     loan_amount  rate\n",
            "0          13672  2.15\n",
            "1           9794  1.25\n",
            "2          12734  0.68\n",
            "3          12518  1.24\n",
            "4          14049  3.13\n",
            "..           ...   ...\n",
            "438        12963  2.46\n",
            "439         1728  5.27\n",
            "440         9329  5.65\n",
            "441         4197  4.50\n",
            "442         3643  0.13\n",
            "\n",
            "[443 rows x 2 columns]\n"
          ]
        }
      ]
    },
    {
      "cell_type": "code",
      "source": [
        "from sklearn.preprocessing import StandardScaler\n",
        "scaler=StandardScaler()      #creating standardscalar\n",
        "df_num_scaled=scaler.fit_transform(df_num)\n",
        "print(df_num_scaled)"
      ],
      "metadata": {
        "colab": {
          "base_uri": "https://localhost:8080/"
        },
        "id": "F1P90QK2f_m0",
        "outputId": "1fb4acfd-f733-455e-8663-c1cfa4bbb93d"
      },
      "execution_count": null,
      "outputs": [
        {
          "output_type": "stream",
          "name": "stdout",
          "text": [
            "[[ 1.36502962e+00 -4.45676908e-01]\n",
            " [ 4.34647423e-01 -8.21544457e-01]\n",
            " [ 1.13999132e+00 -1.05959390e+00]\n",
            " [ 1.08817014e+00 -8.25720763e-01]\n",
            " [ 1.45547678e+00 -3.63989115e-02]\n",
            " [-2.51263533e-01 -5.33379336e-01]\n",
            " [-4.33117505e-01  2.61555546e+00]\n",
            " [ 1.12127812e+00  3.85408004e-01]\n",
            " [ 7.38856969e-01  9.45033020e-01]\n",
            " [-9.43412224e-01  4.35523677e-01]\n",
            " [-1.52688038e+00  1.36683993e+00]\n",
            " [ 1.01648330e-01 -1.13476741e+00]\n",
            " [ 2.57831622e-01 -9.84420394e-01]\n",
            " [-1.06960640e+00  1.15384832e+00]\n",
            " [ 6.88715175e-01 -1.65864400e-01]\n",
            " [-1.54338725e-01 -8.04839232e-01]\n",
            " [ 9.52619355e-01  3.45982920e-02]\n",
            " [ 5.00143642e-01 -4.05752176e-02]\n",
            " [ 9.66054477e-01 -1.01365454e+00]\n",
            " [-1.78094813e+00  3.89584310e-01]\n",
            " [ 1.20620728e+00 -5.33379336e-01]\n",
            " [-9.91154890e-01 -1.00530192e+00]\n",
            " [ 1.04767198e-01 -9.96949312e-01]\n",
            " [ 9.15672770e-01  1.37936885e+00]\n",
            " [ 5.85312719e-01 -1.32270119e+00]\n",
            " [ 1.67667646e+00 -1.28093813e+00]\n",
            " [-9.23979280e-01  3.56173861e-01]\n",
            " [-8.45527765e-01  1.59887475e-01]\n",
            " [ 4.55087135e-02 -7.54723559e-01]\n",
            " [ 1.67067864e+00  1.14967202e+00]\n",
            " [ 1.35207432e+00 -2.45214216e-01]\n",
            " [-2.21034509e-01  4.22994758e-01]\n",
            " [ 3.83306064e-01 -6.58668519e-01]\n",
            " [ 8.28104565e-01  2.62456798e-02]\n",
            " [ 7.19663938e-01  9.28327795e-01]\n",
            " [ 8.67210366e-01  4.85639350e-01]\n",
            " [ 1.46147460e+00 -8.34073375e-01]\n",
            " [ 6.08584269e-01 -8.67483824e-01]\n",
            " [ 1.53680725e+00  2.93529270e-01]\n",
            " [ 8.91728597e-02 -1.15564894e+00]\n",
            " [-1.00051149e+00 -9.21775803e-01]\n",
            " [-1.20803614e+00  3.03736237e+00]\n",
            " [-1.11566968e+00 -9.76067782e-01]\n",
            " [-9.66923688e-01 -1.19323570e+00]\n",
            " [ 1.51329578e+00  2.26708372e-01]\n",
            " [ 1.10328465e+00 -5.33379336e-01]\n",
            " [ 7.16065244e-01 -2.91153583e-01]\n",
            " [ 1.53949340e-01 -8.50778599e-01]\n",
            " [ 1.53944629e+00 -8.38249681e-01]\n",
            " [-7.34208183e-01  1.07449851e+00]\n",
            " [-2.58940745e-01 -9.67715170e-01]\n",
            " [-8.37610639e-01 -1.65864400e-01]\n",
            " [ 4.27929862e-01  2.44850321e+00]\n",
            " [ 3.16610281e-01 -6.33610683e-01]\n",
            " [-1.69409966e+00 -2.66095747e-01]\n",
            " [ 7.60928955e-01  1.36266363e+00]\n",
            " [ 1.18797390e+00 -7.17136804e-01]\n",
            " [ 7.27820976e-01 -8.96717966e-01]\n",
            " [ 6.69522144e-01  1.37519255e+00]\n",
            " [-1.72049008e+00 -1.16400156e+00]\n",
            " [-1.19004268e+00  2.16033809e+00]\n",
            " [ 3.11812023e-01 -2.38699933e-02]\n",
            " [ 1.44540043e+00  3.06058188e-01]\n",
            " [-4.89257121e-01  1.52136326e+00]\n",
            " [-9.95233409e-01 -7.67252477e-01]\n",
            " [-2.30870937e-01  5.23226105e-01]\n",
            " [ 2.95977772e-01 -7.16476891e-03]\n",
            " [-2.39267888e-01 -1.10553327e+00]\n",
            " [ 1.46315399e+00 -6.98093603e-02]\n",
            " [ 1.58507685e-01 -8.04839232e-01]\n",
            " [ 1.04186695e+00  1.21649292e+00]\n",
            " [ 8.86883223e-01 -3.66327093e-01]\n",
            " [-1.28456836e+00 -3.22226055e-02]\n",
            " [ 9.06556080e-01 -9.71891476e-01]\n",
            " [-3.52746686e-01  2.52367672e+00]\n",
            " [ 8.10158214e-02  9.57561938e-01]\n",
            " [-1.52951942e+00 -4.12266460e-01]\n",
            " [-6.28646511e-01 -3.07858807e-01]\n",
            " [-1.29872322e+00 -9.80244088e-01]\n",
            " [ 2.97177336e-01 -9.76067782e-01]\n",
            " [ 9.75411080e-01 -1.20576462e+00]\n",
            " [ 8.20667265e-01  9.40856714e-01]\n",
            " [-1.32079520e+00 -5.83495009e-01]\n",
            " [-1.38653133e+00  1.74688379e+00]\n",
            " [ 5.85312719e-01  2.59885023e+00]\n",
            " [-6.67512399e-01  1.04526437e+00]\n",
            " [ 4.70154531e-01 -3.45445562e-01]\n",
            " [ 6.83004382e-02 -1.55173811e-02]\n",
            " [ 1.42284862e+00 -1.10553327e+00]\n",
            " [-1.62428501e+00 -6.41963295e-01]\n",
            " [-9.49410046e-01 -9.88596700e-01]\n",
            " [-1.25889768e+00 -7.71428784e-01]\n",
            " [ 1.11336099e+00  3.64526473e-01]\n",
            " [ 4.61277754e-01 -9.67715170e-01]\n",
            " [-6.51918061e-01  4.81463044e-01]\n",
            " [ 6.36654077e-01  5.73341778e-01]\n",
            " [ 8.36021690e-01  5.60812859e-01]\n",
            " [-6.03455657e-01 -6.83726356e-01]\n",
            " [ 1.37126735e+00 -2.98846282e-03]\n",
            " [-3.86574404e-01  1.17055355e+00]\n",
            " [ 1.20524763e+00  7.44570327e-01]\n",
            " [ 3.88104322e-01 -1.23917507e+00]\n",
            " [-9.29497276e-01  2.13945656e+00]\n",
            " [ 8.79206011e-01  2.79513662e+00]\n",
            " [ 1.58167096e+00 -1.05124129e+00]\n",
            " [ 1.10688334e+00 -1.09300435e+00]\n",
            " [-1.36949752e+00 -9.25952109e-01]\n",
            " [-3.59464247e-01 -8.67483824e-01]\n",
            " [-1.45490651e+00 -6.98093603e-02]\n",
            " [-1.22770900e+00  1.47358556e-01]\n",
            " [-8.44328200e-01 -3.24564032e-01]\n",
            " [-1.11111134e+00 -1.07212282e+00]\n",
            " [ 5.88671499e-01 -7.83957702e-01]\n",
            " [-9.85396980e-01  4.31347371e-01]\n",
            " [-1.24858142e+00 -4.12266460e-01]\n",
            " [ 1.23139813e+00  7.23688797e-01]\n",
            " [ 5.63960471e-01 -1.26423290e+00]\n",
            " [-1.69817818e+00 -6.67021131e-01]\n",
            " [ 1.20164894e+00  3.18587106e-01]\n",
            " [-1.96803307e-01  2.24804052e+00]\n",
            " [ 3.78987632e-01  5.14873492e-01]\n",
            " [-1.05713093e+00 -1.44982870e-01]\n",
            " [ 9.26948676e-01 -1.82569625e-01]\n",
            " [-1.06576780e+00  2.45685582e+00]\n",
            " [ 2.77984305e-01 -4.83263663e-01]\n",
            " [-1.23610595e+00 -1.20994092e+00]\n",
            " [ 9.42543014e-01  4.10465840e-01]\n",
            " [-6.37523288e-01 -1.61688094e-01]\n",
            " [-7.06858113e-01 -2.15980073e-01]\n",
            " [ 6.45051029e-01  2.18355760e-01]\n",
            " [-1.33495006e+00 -9.38481027e-01]\n",
            " [ 1.56895557e+00  2.18355760e-01]\n",
            " [-1.71089356e+00 -1.06794652e+00]\n",
            " [-5.22605013e-01  3.85408004e-01]\n",
            " [-1.50480839e+00 -1.21411723e+00]\n",
            " [-1.01442644e+00  3.87745981e-02]\n",
            " [-1.61900693e+00  5.69165472e-01]\n",
            " [-1.15952662e-01 -2.07627461e-01]\n",
            " [ 1.63613118e+00 -2.41037910e-01]\n",
            " [-1.72960677e+00  1.84293883e+00]\n",
            " [ 2.86141343e-01  8.94917347e-01]\n",
            " [ 1.25035125e+00  4.52228901e-01]\n",
            " [-1.54487384e+00 -9.48671968e-02]\n",
            " [ 4.88147998e-01 -5.54260867e-01]\n",
            " [ 1.42433522e-01  1.14549571e+00]\n",
            " [-6.66552748e-01 -2.32685298e-01]\n",
            " [-4.12484996e-01 -1.06794652e+00]\n",
            " [-1.02666200e+00  1.63412352e+00]\n",
            " [-1.21163484e+00  1.59887475e-01]\n",
            " [-4.64066267e-01 -1.57511788e-01]\n",
            " [ 7.11266987e-01 -1.06377021e+00]\n",
            " [-8.38090465e-01 -3.95561235e-01]\n",
            " [ 9.28867979e-01  1.06196959e+00]\n",
            " [ 1.17693791e+00 -8.59131211e-01]\n",
            " [-1.29896313e+00 -6.08552846e-01]\n",
            " [-3.94971355e-01  7.40394021e-01]\n",
            " [-3.64742331e-01 -9.25952109e-01]\n",
            " [ 5.03262510e-01  1.11626157e+00]\n",
            " [-5.39878741e-01 -6.12729152e-01]\n",
            " [ 9.33426324e-01  3.87745981e-02]\n",
            " [ 1.62773423e+00 -6.83726356e-01]\n",
            " [ 1.27794124e+00 -2.32685298e-01]\n",
            " [ 8.09391359e-01 -9.67715170e-01]\n",
            " [-6.58875535e-01 -9.84420394e-01]\n",
            " [-1.01706548e+00  1.78864685e+00]\n",
            " [-3.91132749e-01 -5.37555642e-01]\n",
            " [ 3.37482702e-01 -7.58899865e-01]\n",
            " [-1.75503754e+00  7.90509694e-01]\n",
            " [-9.90914977e-01 -4.66558439e-01]\n",
            " [-1.46234381e+00 -1.90922237e-01]\n",
            " [-5.86134813e-02  4.48052595e-01]\n",
            " [-9.96385857e-02  6.02575920e-01]\n",
            " [-3.52506773e-01  2.18121962e+00]\n",
            " [-6.55516755e-01  9.57561938e-01]\n",
            " [ 6.75999792e-01 -4.20619072e-01]\n",
            " [-7.26770883e-01 -1.27676182e+00]\n",
            " [-9.86116719e-01 -1.10553327e+00]\n",
            " [-1.72096990e+00  1.62577091e+00]\n",
            " [ 1.01571645e+00  1.09955635e+00]\n",
            " [-1.78809840e-01  1.16220094e+00]\n",
            " [-3.50587470e-01  1.23319814e+00]\n",
            " [ 1.10592369e+00 -8.29897069e-01]\n",
            " [-1.58325991e+00  1.03273545e+00]\n",
            " [ 1.62125658e+00 -8.21544457e-01]\n",
            " [-5.19246232e-01 -8.34073375e-01]\n",
            " [-1.75695684e+00 -7.08784192e-01]\n",
            " [-4.06200145e-02 -4.49853215e-01]\n",
            " [-1.80682027e-02  6.90278348e-01]\n",
            " [-1.24402308e+00  7.98862307e-01]\n",
            " [ 1.72902459e-01 -1.08882805e+00]\n",
            " [-9.28537625e-01  9.28327795e-01]\n",
            " [ 7.39816621e-01 -7.54723559e-01]\n",
            " [ 6.83197178e-01  7.36217715e-01]\n",
            " [ 1.44516052e+00 -1.70040706e-01]\n",
            " [-5.86901668e-01 -1.12641480e+00]\n",
            " [-3.99289787e-01  3.20441461e+00]\n",
            " [ 7.00470907e-01  1.46707128e+00]\n",
            " [-1.63580083e+00 -1.13476741e+00]\n",
            " [ 1.26714516e+00 -1.01783084e+00]\n",
            " [ 1.94734532e-01 -6.62844825e-01]\n",
            " [-6.49518932e-01 -7.38018335e-01]\n",
            " [ 1.05434242e+00 -1.13059111e+00]\n",
            " [-7.50042434e-01 -8.67483824e-01]\n",
            " [ 5.46686743e-01 -1.03453607e+00]\n",
            " [ 1.31512773e+00 -4.54029521e-01]\n",
            " [ 1.14622906e+00  9.24151489e-01]\n",
            " [-1.17540799e+00  1.41695561e+00]\n",
            " [-4.40314891e-01  9.54045545e-03]\n",
            " [-1.23202743e+00 -7.92310314e-01]\n",
            " [-1.57654234e+00 -9.90435029e-02]\n",
            " [-1.05209276e+00 -1.99274849e-01]\n",
            " [-4.47032452e-01 -3.62150787e-01]\n",
            " [ 2.58358564e-02 -1.55173811e-02]\n",
            " [ 1.35807214e+00 -8.00662926e-01]\n",
            " [-5.27403271e-01 -5.20850418e-01]\n",
            " [-4.81819821e-01 -2.95329889e-01]\n",
            " [ 1.28278661e-01 -1.07629913e+00]\n",
            " [-1.13750175e+00 -1.05541760e+00]\n",
            " [ 9.22917273e-02  1.47124759e+00]\n",
            " [-1.83081156e-02  1.93297923e-01]\n",
            " [ 9.85487421e-01 -8.09015538e-01]\n",
            " [ 3.63633207e-01 -3.99737541e-01]\n",
            " [-1.22483005e+00 -1.02618346e+00]\n",
            " [-1.64251839e+00  9.82619775e-01]\n",
            " [ 1.41661089e+00  7.23688797e-01]\n",
            " [-9.91154890e-01 -1.18488309e+00]\n",
            " [-1.65835264e+00 -9.46833639e-01]\n",
            " [-1.36925761e+00  2.47356105e+00]\n",
            " [ 1.50537866e+00 -1.20158831e+00]\n",
            " [ 3.01015943e-01 -1.33940641e+00]\n",
            " [-1.28408853e+00  3.18587106e-01]\n",
            " [-7.24131842e-01  3.97936922e-01]\n",
            " [-1.49953031e+00 -5.75142397e-01]\n",
            " [ 1.39165995e+00 -1.09718066e+00]\n",
            " [-4.75582086e-01  1.32090057e+00]\n",
            " [ 1.09656709e+00 -9.90435029e-02]\n",
            " [-1.34406675e+00  1.54642110e+00]\n",
            " [ 1.63181275e+00  7.48746634e-01]\n",
            " [ 1.36550944e+00 -4.45676908e-01]\n",
            " [ 9.40143885e-01  2.30650881e+00]\n",
            " [-8.98068688e-01  2.97705576e-01]\n",
            " [-1.50888691e+00 -7.33842029e-01]\n",
            " [-1.65134805e-01  6.35986369e-01]\n",
            " [ 6.28497039e-01  5.10697186e-01]\n",
            " [-1.24858142e+00 -1.23499876e+00]\n",
            " [ 5.77442709e-02 -4.28971684e-01]\n",
            " [ 1.41061306e+00  1.20814030e+00]\n",
            " [ 1.36766866e+00  3.56173861e-01]\n",
            " [-8.97588862e-01 -2.57743134e-01]\n",
            " [ 1.59318677e+00  1.33760579e+00]\n",
            " [-4.72703132e-01  5.90047002e-01]\n",
            " [ 6.03786011e-01 -8.00662926e-01]\n",
            " [ 1.61237981e+00 -8.46602293e-01]\n",
            " [ 2.71746570e-01  3.10234494e-01]\n",
            " [-7.83150413e-01 -1.99274849e-01]\n",
            " [ 1.64452813e+00 -1.20994092e+00]\n",
            " [ 1.24315387e+00 -8.67483824e-01]\n",
            " [-1.82168620e-01  7.82157082e-01]\n",
            " [ 1.61669824e+00  1.47960020e+00]\n",
            " [ 6.12902701e-01  8.88902712e-02]\n",
            " [-8.83194088e-01  1.93297923e-01]\n",
            " [ 3.38682267e-01  1.21231661e+00]\n",
            " [-8.41449245e-01  1.40442669e+00]\n",
            " [-2.34469631e-01  2.50697150e+00]\n",
            " [-3.22997487e-01 -1.61688094e-01]\n",
            " [ 1.56588382e-01  7.32041409e-01]\n",
            " [-6.00816615e-01  1.64063781e-01]\n",
            " [ 1.46867198e+00  2.39237290e-01]\n",
            " [ 5.12859026e-01 -3.32916644e-01]\n",
            " [-1.43451391e+00 -8.21544457e-01]\n",
            " [ 3.71790246e-01 -1.31434858e+00]\n",
            " [-6.95102382e-01 -1.03219809e-01]\n",
            " [-4.44633323e-01 -1.90922237e-01]\n",
            " [-1.80009404e-01  1.55711169e-01]\n",
            " [-2.78613603e-01  3.47821249e-01]\n",
            " [-7.32288880e-01  2.62456798e-02]\n",
            " [-1.62212579e+00  9.61738244e-01]\n",
            " [ 1.10088552e+00  1.40025038e+00]\n",
            " [-1.10511351e+00 -1.22246984e+00]\n",
            " [ 7.65967126e-01  1.63829983e+00]\n",
            " [-8.05462312e-01  8.61506898e-01]\n",
            " [-4.19922296e-01  1.50883434e+00]\n",
            " [-8.64480883e-01 -5.72804420e-02]\n",
            " [ 7.35978014e-01  1.13948108e-01]\n",
            " [ 1.03370991e+00 -8.59131211e-01]\n",
            " [ 3.99140315e-01 -1.14729633e+00]\n",
            " [ 8.79685836e-01 -1.07629913e+00]\n",
            " [-7.27730535e-01 -7.25489417e-01]\n",
            " [ 7.58050000e-01 -1.22246984e+00]\n",
            " [ 5.57242910e-01 -1.30181966e+00]\n",
            " [ 9.36545192e-01  2.46103213e+00]\n",
            " [ 1.06177972e+00 -9.76067782e-01]\n",
            " [ 8.53055505e-01 -1.10553327e+00]\n",
            " [-1.02642208e+00 -1.27258551e+00]\n",
            " [ 1.48258693e+00  1.66753397e+00]\n",
            " [ 9.11834164e-01 -2.41037910e-01]\n",
            " [-1.63888124e-02  8.48977980e-01]\n",
            " [-7.93466667e-01 -1.86745931e-01]\n",
            " [-1.41004280e+00 -1.28277646e-01]\n",
            " [ 5.03742336e-01 -1.08047543e+00]\n",
            " [ 9.84287857e-01  1.07032220e+00]\n",
            " [-9.01187555e-01  1.44201344e+00]\n",
            " [-2.22234073e-01 -5.12497806e-01]\n",
            " [-3.62103289e-01  8.19743837e-01]\n",
            " [-6.78308479e-01  1.01603022e+00]\n",
            " [ 3.72270071e-01 -1.96936872e-02]\n",
            " [-3.26836094e-01 -1.32270119e+00]\n",
            " [-1.40980288e+00 -2.91153583e-01]\n",
            " [-1.56790548e+00 -1.18070678e+00]\n",
            " [ 1.42212888e+00 -2.86977277e-01]\n",
            " [ 1.39309942e+00 -4.95792582e-01]\n",
            " [-5.31961616e-01  1.48795281e+00]\n",
            " [-2.63259178e-01 -2.70272053e-01]\n",
            " [ 1.28489871e+00 -1.33523011e+00]\n",
            " [ 9.32946498e-01  3.60350167e-01]\n",
            " [ 1.65964265e+00  6.40162675e-01]\n",
            " [-5.93619229e-01 -1.00947823e+00]\n",
            " [-1.28576792e+00  1.68240087e-01]\n",
            " [ 1.07545476e+00 -1.28277646e-01]\n",
            " [ 1.88976622e-01  4.06289534e-01]\n",
            " [ 1.03874808e+00 -1.07396115e-01]\n",
            " [-1.30112235e+00  2.20693737e-02]\n",
            " [ 4.58398799e-01  1.14967202e+00]\n",
            " [-1.19124224e+00 -1.33105380e+00]\n",
            " [ 1.15558566e+00 -8.54954905e-01]\n",
            " [-1.68733498e-01  3.68702779e-01]\n",
            " [-2.69736826e-01 -9.51009945e-01]\n",
            " [-3.40751041e-01 -9.71891476e-01]\n",
            " [-8.34011946e-01 -5.45908255e-01]\n",
            " [-1.73152607e+00  5.73341778e-01]\n",
            " [ 6.70961621e-01  1.05361698e+00]\n",
            " [ 1.25639619e-01  2.51114780e+00]\n",
            " [-6.52397887e-01 -1.09300435e+00]\n",
            " [ 3.83785890e-01 -4.37324296e-01]\n",
            " [-1.49041362e+00 -2.41037910e-01]\n",
            " [-1.39540811e+00 -6.92078968e-01]\n",
            " [-1.21331423e+00 -9.90435029e-02]\n",
            " [-1.06168928e+00  3.93760616e-01]\n",
            " [ 1.60062407e+00 -3.99737541e-01]\n",
            " [ 1.59227424e-01 -5.75142397e-01]\n",
            " [ 4.89347562e-01  9.70090856e-01]\n",
            " [-1.77850188e-01  1.09120373e+00]\n",
            " [-1.47721841e+00 -6.16905458e-01]\n",
            " [ 3.77068329e-01 -1.16400156e+00]\n",
            " [ 1.23523674e+00 -1.11572421e-01]\n",
            " [ 6.65923450e-01 -8.25720763e-01]\n",
            " [ 8.98638955e-01  1.07032220e+00]\n",
            " [-3.23477313e-01 -7.04607886e-01]\n",
            " [ 6.52728241e-01  2.41926907e+00]\n",
            " [-1.34190754e+00  2.47589903e-01]\n",
            " [-1.07440466e+00 -1.25170398e+00]\n",
            " [ 4.38006204e-01 -8.29897069e-01]\n",
            " [ 3.89543800e-01 -5.66789785e-01]\n",
            " [-9.75800464e-01 -1.20994092e+00]\n",
            " [ 1.42404819e+00 -9.67715170e-01]\n",
            " [ 2.07210002e-01 -1.36630258e-01]\n",
            " [ 9.07035906e-01  9.72428834e-02]\n",
            " [ 4.89347562e-01 -1.53335482e-01]\n",
            " [ 5.74756552e-01 -3.49621868e-01]\n",
            " [ 1.26834472e+00  6.56867900e-01]\n",
            " [-1.27929027e+00 -5.12497806e-01]\n",
            " [-1.03697825e+00 -2.78624665e-01]\n",
            " [ 1.65124569e+00 -2.82800971e-01]\n",
            " [-7.87948671e-01  1.37519255e+00]\n",
            " [-1.08616039e+00 -3.66327093e-01]\n",
            " [ 3.21648451e-01 -1.78393319e-01]\n",
            " [-7.69235465e-01 -9.38481027e-01]\n",
            " [-1.09503717e+00 -1.08047543e+00]\n",
            " [ 3.27886186e-01  4.71272103e-02]\n",
            " [ 1.59702538e+00 -2.86977277e-01]\n",
            " [ 1.63661101e+00 -1.06794652e+00]\n",
            " [-1.30927938e+00 -3.22226055e-02]\n",
            " [-1.34022815e+00  2.00163846e+00]\n",
            " [ 1.09608726e+00  8.78212122e-01]\n",
            " [ 1.95454271e-01 -1.07629913e+00]\n",
            " [ 1.52577125e+00 -8.04839232e-01]\n",
            " [-5.29322574e-01 -9.25952109e-01]\n",
            " [-1.32703294e+00 -1.19741200e+00]\n",
            " [ 1.59654556e+00  6.56867900e-01]\n",
            " [ 3.29325664e-01 -6.58668519e-01]\n",
            " [-8.01143880e-01 -1.18905939e+00]\n",
            " [ 3.53796779e-01 -3.53798174e-01]\n",
            " [ 1.23499683e+00 -1.15147264e+00]\n",
            " [ 6.03546099e-01  3.64526473e-01]\n",
            " [-3.32594003e-01 -3.07858807e-01]\n",
            " [ 9.97243153e-01  6.40162675e-01]\n",
            " [ 5.74516639e-01 -1.03035976e+00]\n",
            " [ 2.60710577e-01  1.07867481e+00]\n",
            " [-1.25841785e+00  1.23319814e+00]\n",
            " [ 7.81368667e-02 -1.20994092e+00]\n",
            " [ 3.97940751e-01 -5.58437173e-01]\n",
            " [-1.34166762e+00 -7.81619725e-02]\n",
            " [ 1.10184517e+00  6.56867900e-01]\n",
            " [ 1.24867186e+00 -5.25026724e-01]\n",
            " [-1.46421599e-01  6.94454654e-01]\n",
            " [ 1.10448422e+00 -4.03913848e-01]\n",
            " [ 1.66971899e+00 -5.33379336e-01]\n",
            " [-1.67850532e+00 -1.09300435e+00]\n",
            " [-6.92703253e-01  7.44570327e-01]\n",
            " [ 1.47471692e-01  1.73017856e+00]\n",
            " [-1.61037006e+00  2.75754986e+00]\n",
            " [ 1.10088552e+00 -9.59362558e-01]\n",
            " [-5.33641006e-01 -5.58437173e-01]\n",
            " [-4.87770528e-02  2.50697150e+00]\n",
            " [ 1.36143092e+00  1.02855914e+00]\n",
            " [ 7.77243032e-01  9.99324999e-01]\n",
            " [ 1.22348101e+00  3.10234494e-01]\n",
            " [ 5.13338851e-01 -9.13423191e-01]\n",
            " [-3.16999665e-01 -8.75836436e-01]\n",
            " [ 9.09435035e-01  1.24155075e+00]\n",
            " [-1.44291086e+00 -1.05124129e+00]\n",
            " [-9.36694663e-01 -1.33940641e+00]\n",
            " [-5.82583236e-01  5.77518084e-01]\n",
            " [ 1.60662190e+00  1.36683993e+00]\n",
            " [-1.29800348e+00 -3.91384929e-01]\n",
            " [ 1.53229602e-01 -1.55173811e-02]\n",
            " [ 1.25682890e+00  3.01881882e-01]\n",
            " [ 7.76523293e-01  2.30884678e-01]\n",
            " [ 9.50220226e-01  1.26243228e+00]\n",
            " [-1.34862510e+00  4.27171065e-01]\n",
            " [ 3.15170803e-01  9.30665773e-02]\n",
            " [ 3.61521107e-02  3.92691557e+00]\n",
            " [-4.63586442e-01  9.72428834e-02]\n",
            " [ 1.20740685e+00 -1.20994092e+00]\n",
            " [-2.55055023e-02  1.09120373e+00]\n",
            " [-1.32463381e+00  3.77055391e-01]\n",
            " [ 1.54472437e+00 -1.33940641e+00]\n",
            " [ 9.03917038e-01 -1.08047543e+00]\n",
            " [-4.73182957e-01 -2.41037910e-01]\n",
            " [ 8.50943405e-02 -8.29897069e-01]\n",
            " [ 3.03894897e-01 -1.49159176e-01]\n",
            " [ 2.19925385e-01  3.18587106e-01]\n",
            " [-1.58709851e+00  1.22300720e-01]\n",
            " [ 1.68584027e-01 -1.90922237e-01]\n",
            " [-1.07296519e+00 -1.13410750e-02]\n",
            " [-1.75839632e+00 -1.11572421e-01]\n",
            " [ 1.37798491e+00 -8.42425987e-01]\n",
            " [ 1.58598939e+00 -1.13476741e+00]\n",
            " [ 1.19493138e+00 -3.16211420e-01]\n",
            " [-1.50048996e+00  8.57330592e-01]\n",
            " [ 3.23087929e-01  1.01603022e+00]\n",
            " [-9.08145029e-01  5.35755023e-01]\n",
            " [-1.04105677e+00 -1.28929074e+00]]\n"
          ]
        }
      ]
    },
    {
      "cell_type": "code",
      "source": [
        "df_num.describe()"
      ],
      "metadata": {
        "colab": {
          "base_uri": "https://localhost:8080/",
          "height": 300
        },
        "id": "SW3xp99ngXb4",
        "outputId": "f1ea5b9f-e9f4-4a66-aa21-dc077449c030"
      },
      "execution_count": null,
      "outputs": [
        {
          "output_type": "execute_result",
          "data": {
            "text/plain": [
              "        loan_amount        rate\n",
              "count    443.000000  443.000000\n",
              "mean    7982.311512    3.217156\n",
              "std     4172.891992    2.397168\n",
              "min      559.000000    0.010000\n",
              "25%     4232.500000    1.220000\n",
              "50%     8320.000000    2.780000\n",
              "75%    11739.000000    4.750000\n",
              "max    14971.000000   12.620000"
            ],
            "text/html": [
              "\n",
              "  <div id=\"df-17aef360-c807-42a6-b09c-52244431635d\" class=\"colab-df-container\">\n",
              "    <div>\n",
              "<style scoped>\n",
              "    .dataframe tbody tr th:only-of-type {\n",
              "        vertical-align: middle;\n",
              "    }\n",
              "\n",
              "    .dataframe tbody tr th {\n",
              "        vertical-align: top;\n",
              "    }\n",
              "\n",
              "    .dataframe thead th {\n",
              "        text-align: right;\n",
              "    }\n",
              "</style>\n",
              "<table border=\"1\" class=\"dataframe\">\n",
              "  <thead>\n",
              "    <tr style=\"text-align: right;\">\n",
              "      <th></th>\n",
              "      <th>loan_amount</th>\n",
              "      <th>rate</th>\n",
              "    </tr>\n",
              "  </thead>\n",
              "  <tbody>\n",
              "    <tr>\n",
              "      <th>count</th>\n",
              "      <td>443.000000</td>\n",
              "      <td>443.000000</td>\n",
              "    </tr>\n",
              "    <tr>\n",
              "      <th>mean</th>\n",
              "      <td>7982.311512</td>\n",
              "      <td>3.217156</td>\n",
              "    </tr>\n",
              "    <tr>\n",
              "      <th>std</th>\n",
              "      <td>4172.891992</td>\n",
              "      <td>2.397168</td>\n",
              "    </tr>\n",
              "    <tr>\n",
              "      <th>min</th>\n",
              "      <td>559.000000</td>\n",
              "      <td>0.010000</td>\n",
              "    </tr>\n",
              "    <tr>\n",
              "      <th>25%</th>\n",
              "      <td>4232.500000</td>\n",
              "      <td>1.220000</td>\n",
              "    </tr>\n",
              "    <tr>\n",
              "      <th>50%</th>\n",
              "      <td>8320.000000</td>\n",
              "      <td>2.780000</td>\n",
              "    </tr>\n",
              "    <tr>\n",
              "      <th>75%</th>\n",
              "      <td>11739.000000</td>\n",
              "      <td>4.750000</td>\n",
              "    </tr>\n",
              "    <tr>\n",
              "      <th>max</th>\n",
              "      <td>14971.000000</td>\n",
              "      <td>12.620000</td>\n",
              "    </tr>\n",
              "  </tbody>\n",
              "</table>\n",
              "</div>\n",
              "    <div class=\"colab-df-buttons\">\n",
              "\n",
              "  <div class=\"colab-df-container\">\n",
              "    <button class=\"colab-df-convert\" onclick=\"convertToInteractive('df-17aef360-c807-42a6-b09c-52244431635d')\"\n",
              "            title=\"Convert this dataframe to an interactive table.\"\n",
              "            style=\"display:none;\">\n",
              "\n",
              "  <svg xmlns=\"http://www.w3.org/2000/svg\" height=\"24px\" viewBox=\"0 -960 960 960\">\n",
              "    <path d=\"M120-120v-720h720v720H120Zm60-500h600v-160H180v160Zm220 220h160v-160H400v160Zm0 220h160v-160H400v160ZM180-400h160v-160H180v160Zm440 0h160v-160H620v160ZM180-180h160v-160H180v160Zm440 0h160v-160H620v160Z\"/>\n",
              "  </svg>\n",
              "    </button>\n",
              "\n",
              "  <style>\n",
              "    .colab-df-container {\n",
              "      display:flex;\n",
              "      gap: 12px;\n",
              "    }\n",
              "\n",
              "    .colab-df-convert {\n",
              "      background-color: #E8F0FE;\n",
              "      border: none;\n",
              "      border-radius: 50%;\n",
              "      cursor: pointer;\n",
              "      display: none;\n",
              "      fill: #1967D2;\n",
              "      height: 32px;\n",
              "      padding: 0 0 0 0;\n",
              "      width: 32px;\n",
              "    }\n",
              "\n",
              "    .colab-df-convert:hover {\n",
              "      background-color: #E2EBFA;\n",
              "      box-shadow: 0px 1px 2px rgba(60, 64, 67, 0.3), 0px 1px 3px 1px rgba(60, 64, 67, 0.15);\n",
              "      fill: #174EA6;\n",
              "    }\n",
              "\n",
              "    .colab-df-buttons div {\n",
              "      margin-bottom: 4px;\n",
              "    }\n",
              "\n",
              "    [theme=dark] .colab-df-convert {\n",
              "      background-color: #3B4455;\n",
              "      fill: #D2E3FC;\n",
              "    }\n",
              "\n",
              "    [theme=dark] .colab-df-convert:hover {\n",
              "      background-color: #434B5C;\n",
              "      box-shadow: 0px 1px 3px 1px rgba(0, 0, 0, 0.15);\n",
              "      filter: drop-shadow(0px 1px 2px rgba(0, 0, 0, 0.3));\n",
              "      fill: #FFFFFF;\n",
              "    }\n",
              "  </style>\n",
              "\n",
              "    <script>\n",
              "      const buttonEl =\n",
              "        document.querySelector('#df-17aef360-c807-42a6-b09c-52244431635d button.colab-df-convert');\n",
              "      buttonEl.style.display =\n",
              "        google.colab.kernel.accessAllowed ? 'block' : 'none';\n",
              "\n",
              "      async function convertToInteractive(key) {\n",
              "        const element = document.querySelector('#df-17aef360-c807-42a6-b09c-52244431635d');\n",
              "        const dataTable =\n",
              "          await google.colab.kernel.invokeFunction('convertToInteractive',\n",
              "                                                    [key], {});\n",
              "        if (!dataTable) return;\n",
              "\n",
              "        const docLinkHtml = 'Like what you see? Visit the ' +\n",
              "          '<a target=\"_blank\" href=https://colab.research.google.com/notebooks/data_table.ipynb>data table notebook</a>'\n",
              "          + ' to learn more about interactive tables.';\n",
              "        element.innerHTML = '';\n",
              "        dataTable['output_type'] = 'display_data';\n",
              "        await google.colab.output.renderOutput(dataTable, element);\n",
              "        const docLink = document.createElement('div');\n",
              "        docLink.innerHTML = docLinkHtml;\n",
              "        element.appendChild(docLink);\n",
              "      }\n",
              "    </script>\n",
              "  </div>\n",
              "\n",
              "\n",
              "<div id=\"df-8a81839a-be24-4a16-b3fe-99a38359b8b1\">\n",
              "  <button class=\"colab-df-quickchart\" onclick=\"quickchart('df-8a81839a-be24-4a16-b3fe-99a38359b8b1')\"\n",
              "            title=\"Suggest charts\"\n",
              "            style=\"display:none;\">\n",
              "\n",
              "<svg xmlns=\"http://www.w3.org/2000/svg\" height=\"24px\"viewBox=\"0 0 24 24\"\n",
              "     width=\"24px\">\n",
              "    <g>\n",
              "        <path d=\"M19 3H5c-1.1 0-2 .9-2 2v14c0 1.1.9 2 2 2h14c1.1 0 2-.9 2-2V5c0-1.1-.9-2-2-2zM9 17H7v-7h2v7zm4 0h-2V7h2v10zm4 0h-2v-4h2v4z\"/>\n",
              "    </g>\n",
              "</svg>\n",
              "  </button>\n",
              "\n",
              "<style>\n",
              "  .colab-df-quickchart {\n",
              "      --bg-color: #E8F0FE;\n",
              "      --fill-color: #1967D2;\n",
              "      --hover-bg-color: #E2EBFA;\n",
              "      --hover-fill-color: #174EA6;\n",
              "      --disabled-fill-color: #AAA;\n",
              "      --disabled-bg-color: #DDD;\n",
              "  }\n",
              "\n",
              "  [theme=dark] .colab-df-quickchart {\n",
              "      --bg-color: #3B4455;\n",
              "      --fill-color: #D2E3FC;\n",
              "      --hover-bg-color: #434B5C;\n",
              "      --hover-fill-color: #FFFFFF;\n",
              "      --disabled-bg-color: #3B4455;\n",
              "      --disabled-fill-color: #666;\n",
              "  }\n",
              "\n",
              "  .colab-df-quickchart {\n",
              "    background-color: var(--bg-color);\n",
              "    border: none;\n",
              "    border-radius: 50%;\n",
              "    cursor: pointer;\n",
              "    display: none;\n",
              "    fill: var(--fill-color);\n",
              "    height: 32px;\n",
              "    padding: 0;\n",
              "    width: 32px;\n",
              "  }\n",
              "\n",
              "  .colab-df-quickchart:hover {\n",
              "    background-color: var(--hover-bg-color);\n",
              "    box-shadow: 0 1px 2px rgba(60, 64, 67, 0.3), 0 1px 3px 1px rgba(60, 64, 67, 0.15);\n",
              "    fill: var(--button-hover-fill-color);\n",
              "  }\n",
              "\n",
              "  .colab-df-quickchart-complete:disabled,\n",
              "  .colab-df-quickchart-complete:disabled:hover {\n",
              "    background-color: var(--disabled-bg-color);\n",
              "    fill: var(--disabled-fill-color);\n",
              "    box-shadow: none;\n",
              "  }\n",
              "\n",
              "  .colab-df-spinner {\n",
              "    border: 2px solid var(--fill-color);\n",
              "    border-color: transparent;\n",
              "    border-bottom-color: var(--fill-color);\n",
              "    animation:\n",
              "      spin 1s steps(1) infinite;\n",
              "  }\n",
              "\n",
              "  @keyframes spin {\n",
              "    0% {\n",
              "      border-color: transparent;\n",
              "      border-bottom-color: var(--fill-color);\n",
              "      border-left-color: var(--fill-color);\n",
              "    }\n",
              "    20% {\n",
              "      border-color: transparent;\n",
              "      border-left-color: var(--fill-color);\n",
              "      border-top-color: var(--fill-color);\n",
              "    }\n",
              "    30% {\n",
              "      border-color: transparent;\n",
              "      border-left-color: var(--fill-color);\n",
              "      border-top-color: var(--fill-color);\n",
              "      border-right-color: var(--fill-color);\n",
              "    }\n",
              "    40% {\n",
              "      border-color: transparent;\n",
              "      border-right-color: var(--fill-color);\n",
              "      border-top-color: var(--fill-color);\n",
              "    }\n",
              "    60% {\n",
              "      border-color: transparent;\n",
              "      border-right-color: var(--fill-color);\n",
              "    }\n",
              "    80% {\n",
              "      border-color: transparent;\n",
              "      border-right-color: var(--fill-color);\n",
              "      border-bottom-color: var(--fill-color);\n",
              "    }\n",
              "    90% {\n",
              "      border-color: transparent;\n",
              "      border-bottom-color: var(--fill-color);\n",
              "    }\n",
              "  }\n",
              "</style>\n",
              "\n",
              "  <script>\n",
              "    async function quickchart(key) {\n",
              "      const quickchartButtonEl =\n",
              "        document.querySelector('#' + key + ' button');\n",
              "      quickchartButtonEl.disabled = true;  // To prevent multiple clicks.\n",
              "      quickchartButtonEl.classList.add('colab-df-spinner');\n",
              "      try {\n",
              "        const charts = await google.colab.kernel.invokeFunction(\n",
              "            'suggestCharts', [key], {});\n",
              "      } catch (error) {\n",
              "        console.error('Error during call to suggestCharts:', error);\n",
              "      }\n",
              "      quickchartButtonEl.classList.remove('colab-df-spinner');\n",
              "      quickchartButtonEl.classList.add('colab-df-quickchart-complete');\n",
              "    }\n",
              "    (() => {\n",
              "      let quickchartButtonEl =\n",
              "        document.querySelector('#df-8a81839a-be24-4a16-b3fe-99a38359b8b1 button');\n",
              "      quickchartButtonEl.style.display =\n",
              "        google.colab.kernel.accessAllowed ? 'block' : 'none';\n",
              "    })();\n",
              "  </script>\n",
              "</div>\n",
              "\n",
              "    </div>\n",
              "  </div>\n"
            ],
            "application/vnd.google.colaboratory.intrinsic+json": {
              "type": "dataframe",
              "summary": "{\n  \"name\": \"df_num\",\n  \"rows\": 8,\n  \"fields\": [\n    {\n      \"column\": \"loan_amount\",\n      \"properties\": {\n        \"dtype\": \"number\",\n        \"std\": 5171.795881395767,\n        \"min\": 443.0,\n        \"max\": 14971.0,\n        \"num_unique_values\": 8,\n        \"samples\": [\n          7982.31151241535,\n          8320.0,\n          443.0\n        ],\n        \"semantic_type\": \"\",\n        \"description\": \"\"\n      }\n    },\n    {\n      \"column\": \"rate\",\n      \"properties\": {\n        \"dtype\": \"number\",\n        \"std\": 155.30813027218088,\n        \"min\": 0.01,\n        \"max\": 443.0,\n        \"num_unique_values\": 8,\n        \"samples\": [\n          3.2171557562076747,\n          2.78,\n          443.0\n        ],\n        \"semantic_type\": \"\",\n        \"description\": \"\"\n      }\n    }\n  ]\n}"
            }
          },
          "metadata": {},
          "execution_count": 61
        }
      ]
    },
    {
      "cell_type": "code",
      "source": [
        "mean = 7982.311512\n",
        "std = 4172.891992\n",
        "z=(13672-mean)/std\n",
        "print(z)"
      ],
      "metadata": {
        "colab": {
          "base_uri": "https://localhost:8080/"
        },
        "id": "wMR4cSDGg7gw",
        "outputId": "527fe5c3-b494-4119-8957-1ec7f6171588"
      },
      "execution_count": null,
      "outputs": [
        {
          "output_type": "stream",
          "name": "stdout",
          "text": [
            "1.3634880794681254\n"
          ]
        }
      ]
    },
    {
      "cell_type": "code",
      "source": [
        "from sklearn.preprocessing import MinMaxScaler\n",
        "scaler=MinMaxScaler()\n",
        "df_num_scaled=scaler.fit_transform(df_num)\n",
        "print(df_num_scaled)"
      ],
      "metadata": {
        "colab": {
          "base_uri": "https://localhost:8080/"
        },
        "id": "I4qd638XiN7Z",
        "outputId": "163c6a60-b042-411e-dd66-6a4e27a04ef8"
      },
      "execution_count": null,
      "outputs": [
        {
          "output_type": "stream",
          "name": "stdout",
          "text": [
            "[[9.09866778e-01 1.69706582e-01]\n",
            " [6.40785457e-01 9.83346550e-02]\n",
            " [8.44782126e-01 5.31324346e-02]\n",
            " [8.29794616e-01 9.75416336e-02]\n",
            " [9.36025534e-01 2.47422680e-01]\n",
            " [4.42409104e-01 1.53053132e-01]\n",
            " [3.89814044e-01 7.50991277e-01]\n",
            " [8.39369969e-01 3.27517843e-01]\n",
            " [7.28767694e-01 4.33782712e-01]\n",
            " [2.42228698e-01 3.37034100e-01]\n",
            " [7.34804330e-02 5.13877875e-01]\n",
            " [5.44476825e-01 3.88580492e-02]\n",
            " [5.89647516e-01 6.74068200e-02]\n",
            " [2.05731335e-01 4.73433783e-01]\n",
            " [7.14265890e-01 2.22839017e-01]\n",
            " [4.70441299e-01 1.01506741e-01]\n",
            " [7.90591174e-01 2.60904044e-01]\n",
            " [6.59728004e-01 2.46629659e-01]\n",
            " [7.94476825e-01 6.18556701e-02]\n",
            " [0.00000000e+00 3.28310864e-01]\n",
            " [8.63932834e-01 1.53053132e-01]\n",
            " [2.28420760e-01 6.34417129e-02]\n",
            " [5.45378851e-01 6.50277557e-02]\n",
            " [7.79905634e-01 5.16256939e-01]\n",
            " [6.84360255e-01 3.17208565e-03]\n",
            " [1.00000000e+00 1.11022998e-02]\n",
            " [2.47849015e-01 3.21966693e-01]\n",
            " [2.70538440e-01 2.84694687e-01]\n",
            " [5.28240355e-01 1.11022998e-01]\n",
            " [9.98265334e-01 4.72640761e-01]\n",
            " [9.06119900e-01 2.07771610e-01]\n",
            " [4.51151818e-01 3.34655036e-01]\n",
            " [6.25936719e-01 1.29262490e-01]\n",
            " [7.54579517e-01 2.59318002e-01]\n",
            " [7.23216764e-01 4.30610626e-01]\n",
            " [7.65889536e-01 3.46550357e-01]\n",
            " [9.37760200e-01 9.59555908e-02]\n",
            " [6.91090758e-01 8.96114195e-02]\n",
            " [9.59547599e-01 3.10071372e-01]\n",
            " [5.40868721e-01 3.48929421e-02]\n",
            " [2.25714682e-01 7.93021412e-02]\n",
            " [1.65695254e-01 8.31086439e-01]\n",
            " [1.92409104e-01 6.89928628e-02]\n",
            " [2.35428809e-01 2.77557494e-02]\n",
            " [9.52747710e-01 2.97383029e-01]\n",
            " [8.34165973e-01 1.53053132e-01]\n",
            " [7.22175964e-01 1.99048374e-01]\n",
            " [5.59603109e-01 9.27835052e-02]\n",
            " [9.60310852e-01 9.51625694e-02]\n",
            " [3.02733833e-01 4.58366376e-01]\n",
            " [4.40188732e-01 7.05789056e-02]\n",
            " [2.72828199e-01 2.22839017e-01]\n",
            " [6.38842631e-01 7.19270420e-01]\n",
            " [6.06647238e-01 1.34020619e-01]\n",
            " [2.51179573e-02 2.03806503e-01]\n",
            " [7.35151263e-01 5.13084853e-01]\n",
            " [8.58659450e-01 1.18160190e-01]\n",
            " [7.25575909e-01 8.40602696e-02]\n",
            " [7.08714960e-01 5.15463918e-01]\n",
            " [1.74854288e-02 3.33068993e-02]\n",
            " [1.70899251e-01 6.64551943e-01]\n",
            " [6.05259506e-01 2.49801745e-01]\n",
            " [9.33111296e-01 3.12450436e-01]\n",
            " [3.73577574e-01 5.43219667e-01]\n",
            " [2.27241188e-01 1.08643933e-01]\n",
            " [4.48306966e-01 3.53687550e-01]\n",
            " [6.00679989e-01 2.52973830e-01]\n",
            " [4.45878435e-01 4.44091990e-02]\n",
            " [9.38245906e-01 2.41078509e-01]\n",
            " [5.60921454e-01 1.01506741e-01]\n",
            " [8.16402998e-01 4.85329104e-01]\n",
            " [7.71579240e-01 1.84773989e-01]\n",
            " [1.43560921e-01 2.48215702e-01]\n",
            " [7.77268943e-01 6.97858842e-02]\n",
            " [4.13058562e-01 7.33544806e-01]\n",
            " [5.38509575e-01 4.36161776e-01]\n",
            " [7.27171801e-02 1.76050753e-01]\n",
            " [3.33263947e-01 1.95876289e-01]\n",
            " [1.39467111e-01 6.81998414e-02]\n",
            " [6.01026922e-01 6.89928628e-02]\n",
            " [7.97182903e-01 2.53766852e-02]\n",
            " [7.52428532e-01 4.32989691e-01]\n",
            " [1.33083541e-01 1.43536875e-01]\n",
            " [1.14071607e-01 5.86042823e-01]\n",
            " [6.84360255e-01 7.47819191e-01]\n",
            " [3.22023314e-01 4.52815226e-01]\n",
            " [6.51054677e-01 1.88739096e-01]\n",
            " [5.34832084e-01 2.51387787e-01]\n",
            " [9.26588954e-01 4.44091990e-02]\n",
            " [4.53094643e-02 1.32434576e-01]\n",
            " [2.40494033e-01 6.66137986e-02]\n",
            " [1.50985290e-01 1.07850912e-01]\n",
            " [8.37080211e-01 3.23552736e-01]\n",
            " [6.48487372e-01 7.05789056e-02]\n",
            " [3.26533444e-01 3.45757335e-01]\n",
            " [6.99208993e-01 3.63203807e-01]\n",
            " [7.56869276e-01 3.60824742e-01]\n",
            " [3.40549542e-01 1.24504362e-01]\n",
            " [9.11670830e-01 2.53766852e-01]\n",
            " [4.03275049e-01 4.76605868e-01]\n",
            " [8.63655287e-01 3.95717684e-01]\n",
            " [6.27324452e-01 1.90325139e-02]\n",
            " [2.46253122e-01 6.60586836e-01]\n",
            " [7.69358868e-01 7.85091197e-01]\n",
            " [9.72522898e-01 5.47184774e-02]\n",
            " [8.35206772e-01 4.67882633e-02]\n",
            " [1.18998057e-01 7.85091197e-02]\n",
            " [4.11115737e-01 8.96114195e-02]\n",
            " [9.42964197e-02 2.41078509e-01]\n",
            " [1.60005551e-01 2.82315623e-01]\n",
            " [2.70885373e-01 1.92704203e-01]\n",
            " [1.93727449e-01 5.07533703e-02]\n",
            " [6.85331668e-01 1.05471848e-01]\n",
            " [2.30086039e-01 3.36241079e-01]\n",
            " [1.53968915e-01 1.76050753e-01]\n",
            " [8.71218429e-01 3.91752577e-01]\n",
            " [6.78184846e-01 1.42743854e-02]\n",
            " [2.39383847e-02 1.27676447e-01]\n",
            " [8.62614488e-01 3.14829500e-01]\n",
            " [4.58159867e-01 6.81205393e-01]\n",
            " [6.24687760e-01 3.52101507e-01]\n",
            " [2.09339439e-01 2.26804124e-01]\n",
            " [7.83166805e-01 2.19666931e-01]\n",
            " [2.06841521e-01 7.20856463e-01]\n",
            " [5.95475992e-01 1.62569389e-01]\n",
            " [1.57577019e-01 2.45836638e-02]\n",
            " [7.87676936e-01 3.32275971e-01]\n",
            " [3.30696642e-01 2.23632038e-01]\n",
            " [3.10643908e-01 2.13322760e-01]\n",
            " [7.01637524e-01 2.95796987e-01]\n",
            " [1.28989731e-01 7.61300555e-02]\n",
            " [9.68845407e-01 2.95796987e-01]\n",
            " [2.02608937e-02 5.15463918e-02]\n",
            " [3.63932834e-01 3.27517843e-01]\n",
            " [7.98640022e-02 2.37906423e-02]\n",
            " [2.21690258e-01 2.61697066e-01]\n",
            " [4.68359700e-02 3.62410785e-01]\n",
            " [4.81543158e-01 2.14908803e-01]\n",
            " [9.88273661e-01 2.08564631e-01]\n",
            " [1.48487372e-02 6.04282316e-01]\n",
            " [5.97835137e-01 4.24266455e-01]\n",
            " [8.76699972e-01 3.40206186e-01]\n",
            " [6.82764363e-02 2.36320381e-01]\n",
            " [6.56258673e-01 1.49088025e-01]\n",
            " [5.56272551e-01 4.71847740e-01]\n",
            " [3.22300860e-01 2.10150674e-01]\n",
            " [3.95781293e-01 5.15463918e-02]\n",
            " [2.18151540e-01 5.64631245e-01]\n",
            " [1.64654455e-01 2.84694687e-01]\n",
            " [3.80863170e-01 2.24425059e-01]\n",
            " [7.20788232e-01 5.23394132e-02]\n",
            " [2.72689425e-01 1.79222839e-01]\n",
            " [7.83721898e-01 4.55987312e-01]\n",
            " [8.55467666e-01 9.11974623e-02]\n",
            " [1.39397724e-01 1.38778747e-01]\n",
            " [4.00846517e-01 3.94924663e-01]\n",
            " [4.09589231e-01 7.85091197e-02]\n",
            " [6.60630031e-01 4.66296590e-01]\n",
            " [3.58936997e-01 1.37985726e-01]\n",
            " [7.85040244e-01 2.61697066e-01]\n",
            " [9.85845129e-01 1.24504362e-01]\n",
            " [8.84679434e-01 2.10150674e-01]\n",
            " [7.49167361e-01 7.05789056e-02]\n",
            " [3.24521232e-01 6.74068200e-02]\n",
            " [2.20927005e-01 5.93973037e-01]\n",
            " [4.01956703e-01 1.52260111e-01]\n",
            " [6.12683875e-01 1.10229976e-01]\n",
            " [7.49375520e-03 4.04440920e-01]\n",
            " [2.28490147e-01 1.65741475e-01]\n",
            " [9.21454344e-02 2.18080888e-01]\n",
            " [4.98126561e-01 3.39413164e-01]\n",
            " [4.86261449e-01 3.68754956e-01]\n",
            " [4.13127949e-01 6.68517050e-01]\n",
            " [3.25492645e-01 4.36161776e-01]\n",
            " [7.10588399e-01 1.74464711e-01]\n",
            " [3.04884818e-01 1.18953212e-02]\n",
            " [2.29877880e-01 4.44091990e-02]\n",
            " [1.73466556e-02 5.63045202e-01]\n",
            " [8.08839856e-01 4.63124504e-01]\n",
            " [4.63363863e-01 4.75019826e-01]\n",
            " [4.13683042e-01 4.88501190e-01]\n",
            " [8.34929226e-01 9.67486122e-02]\n",
            " [5.71745767e-02 4.50436162e-01]\n",
            " [9.83971690e-01 9.83346550e-02]\n",
            " [3.64904246e-01 9.59555908e-02]\n",
            " [6.93866223e-03 1.19746233e-01]\n",
            " [5.03330558e-01 1.68913561e-01]\n",
            " [5.09852900e-01 3.85408406e-01]\n",
            " [1.55287261e-01 4.06026963e-01]\n",
            " [5.65084652e-01 4.75812847e-02]\n",
            " [2.46530669e-01 4.30610626e-01]\n",
            " [7.29045240e-01 1.11022998e-01]\n",
            " [7.12669997e-01 3.94131642e-01]\n",
            " [9.33041910e-01 2.22045995e-01]\n",
            " [3.45337219e-01 4.04440920e-02]\n",
            " [3.99597558e-01 8.62807296e-01]\n",
            " [7.17665834e-01 5.32910389e-01]\n",
            " [4.19789065e-02 3.88580492e-02]\n",
            " [8.81557036e-01 6.10626487e-02]\n",
            " [5.71398834e-01 1.28469469e-01]\n",
            " [3.27227311e-01 1.14195083e-01]\n",
            " [8.20011102e-01 3.96510706e-02]\n",
            " [2.98154316e-01 8.96114195e-02]\n",
            " [6.73189009e-01 5.78905630e-02]\n",
            " [8.95434360e-01 1.68120539e-01]\n",
            " [8.46586178e-01 4.29817605e-01]\n",
            " [1.75131835e-01 5.23394132e-01]\n",
            " [3.87732445e-01 2.56145916e-01]\n",
            " [1.58756592e-01 1.03885805e-01]\n",
            " [5.91174022e-02 2.35527359e-01]\n",
            " [2.10796558e-01 2.16494845e-01]\n",
            " [3.85789620e-01 1.85567010e-01]\n",
            " [5.22550652e-01 2.51387787e-01]\n",
            " [9.07854566e-01 1.02299762e-01]\n",
            " [3.62545101e-01 1.55432197e-01]\n",
            " [3.75728560e-01 1.98255353e-01]\n",
            " [5.52178740e-01 4.99603489e-02]\n",
            " [1.86094921e-01 5.39254560e-02]\n",
            " [5.41770747e-01 5.33703410e-01]\n",
            " [5.09783514e-01 2.91038858e-01]\n",
            " [8.00097141e-01 1.00713719e-01]\n",
            " [6.20247016e-01 1.78429818e-01]\n",
            " [1.60838190e-01 5.94766059e-02]\n",
            " [4.00360810e-02 4.40919905e-01]\n",
            " [9.24784901e-01 3.91752577e-01]\n",
            " [2.28420760e-01 2.93417922e-02]\n",
            " [3.54565640e-02 7.45440127e-02]\n",
            " [1.19067444e-01 7.24028549e-01]\n",
            " [9.50457952e-01 2.61697066e-02]\n",
            " [6.02137108e-01 0.00000000e+00]\n",
            " [1.43699695e-01 3.14829500e-01]\n",
            " [3.05648071e-01 3.29896907e-01]\n",
            " [8.13905079e-02 1.45122918e-01]\n",
            " [9.17568693e-01 4.59952419e-02]\n",
            " [3.77532612e-01 5.05154639e-01]\n",
            " [8.32223147e-01 2.35527359e-01]\n",
            " [1.26353039e-01 5.47977795e-01]\n",
            " [9.87024702e-01 3.96510706e-01]\n",
            " [9.10005551e-01 1.69706582e-01]\n",
            " [7.86983070e-01 6.92307692e-01]\n",
            " [2.55342770e-01 3.10864393e-01]\n",
            " [7.86844296e-02 1.14988105e-01]\n",
            " [4.67318901e-01 3.75099128e-01]\n",
            " [6.96849847e-01 3.51308485e-01]\n",
            " [1.53968915e-01 1.98255353e-02]\n",
            " [5.31779073e-01 1.72878668e-01]\n",
            " [9.23050236e-01 4.83743061e-01]\n",
            " [9.10630031e-01 3.21966693e-01]\n",
            " [2.55481543e-01 2.05392546e-01]\n",
            " [9.75853455e-01 5.08326725e-01]\n",
            " [3.78365251e-01 3.66375892e-01]\n",
            " [6.89703025e-01 1.02299762e-01]\n",
            " [9.81404385e-01 9.35765266e-02]\n",
            " [5.93671940e-01 3.13243458e-01]\n",
            " [2.88578962e-01 2.16494845e-01]\n",
            " [9.90702193e-01 2.45836638e-02]\n",
            " [8.74618374e-01 8.96114195e-02]\n",
            " [4.62392451e-01 4.02854877e-01]\n",
            " [9.82653344e-01 5.35289453e-01]\n",
            " [6.92339717e-01 2.71213323e-01]\n",
            " [2.59644740e-01 2.91038858e-01]\n",
            " [6.13030808e-01 4.84536082e-01]\n",
            " [2.71718013e-01 5.21015067e-01]\n",
            " [4.47266167e-01 7.30372720e-01]\n",
            " [4.21662503e-01 2.23632038e-01]\n",
            " [5.60366361e-01 3.93338620e-01]\n",
            " [3.41312795e-01 2.85487708e-01]\n",
            " [9.39841799e-01 2.99762094e-01]\n",
            " [6.63405495e-01 1.91118160e-01]\n",
            " [1.00194283e-01 9.83346550e-02]\n",
            " [6.22606162e-01 4.75812847e-03]\n",
            " [3.14043852e-01 2.34734338e-01]\n",
            " [3.86483486e-01 2.18080888e-01]\n",
            " [4.63016930e-01 2.83901665e-01]\n",
            " [4.34499029e-01 3.20380650e-01]\n",
            " [3.03288926e-01 2.59318002e-01]\n",
            " [4.59339439e-02 4.36954798e-01]\n",
            " [8.33472107e-01 5.20222046e-01]\n",
            " [1.95462115e-01 2.22045995e-02]\n",
            " [7.36608382e-01 5.65424266e-01]\n",
            " [2.82126006e-01 4.17922284e-01]\n",
            " [3.93630308e-01 5.40840603e-01]\n",
            " [2.65056897e-01 2.43457573e-01]\n",
            " [7.27935054e-01 2.75971451e-01]\n",
            " [8.14043852e-01 9.11974623e-02]\n",
            " [6.30516236e-01 3.64789849e-02]\n",
            " [7.69497641e-01 4.99603489e-02]\n",
            " [3.04607272e-01 1.16574148e-01]\n",
            " [7.34318623e-01 2.22045995e-02]\n",
            " [6.76242021e-01 7.13719270e-03]\n",
            " [7.85942270e-01 7.21649485e-01]\n",
            " [8.22162087e-01 6.89928628e-02]\n",
            " [7.61795726e-01 4.44091990e-02]\n",
            " [2.18220927e-01 1.26883426e-02]\n",
            " [9.43866223e-01 5.70975416e-01]\n",
            " [7.78795448e-01 2.08564631e-01]\n",
            " [5.10338607e-01 4.15543220e-01]\n",
            " [2.85595337e-01 2.18873910e-01]\n",
            " [1.07271718e-01 2.29976209e-01]\n",
            " [6.60768804e-01 4.91673275e-02]\n",
            " [7.99750208e-01 4.57573354e-01]\n",
            " [2.54440744e-01 5.28152260e-01]\n",
            " [4.50804885e-01 1.57018239e-01]\n",
            " [4.10352484e-01 4.09992070e-01]\n",
            " [3.18900916e-01 4.47264076e-01]\n",
            " [6.22744935e-01 2.50594766e-01]\n",
            " [4.20552318e-01 3.17208565e-03]\n",
            " [1.07341105e-01 1.99048374e-01]\n",
            " [6.16153206e-02 3.01348136e-02]\n",
            " [9.26380794e-01 1.99841396e-01]\n",
            " [9.17985012e-01 1.60190325e-01]\n",
            " [3.61226755e-01 5.36875496e-01]\n",
            " [4.38939772e-01 2.03013481e-01]\n",
            " [8.86691646e-01 7.93021412e-04]\n",
            " [7.84901471e-01 3.22759715e-01]\n",
            " [9.95073550e-01 3.75892149e-01]\n",
            " [3.43394394e-01 6.26486915e-02]\n",
            " [1.43213988e-01 2.86280730e-01]\n",
            " [8.26117125e-01 2.29976209e-01]\n",
            " [5.69733555e-01 3.31482950e-01]\n",
            " [8.15500971e-01 2.33941316e-01]\n",
            " [1.38773245e-01 2.58524980e-01]\n",
            " [6.47654732e-01 4.72640761e-01]\n",
            " [1.70552318e-01 1.58604282e-03]\n",
            " [8.49292256e-01 9.19904837e-02]\n",
            " [4.66278102e-01 3.24345757e-01]\n",
            " [4.37066334e-01 7.37509913e-02]\n",
            " [4.16527893e-01 6.97858842e-02]\n",
            " [2.73868998e-01 1.50674068e-01]\n",
            " [1.42936442e-02 3.63203807e-01]\n",
            " [7.09131279e-01 4.54401269e-01]\n",
            " [5.51415487e-01 7.31165741e-01]\n",
            " [3.26394671e-01 4.67882633e-02]\n",
            " [6.26075493e-01 1.71292625e-01]\n",
            " [8.40271996e-02 2.08564631e-01]\n",
            " [1.11504302e-01 1.22918319e-01]\n",
            " [1.64168748e-01 2.35527359e-01]\n",
            " [2.08021094e-01 3.29103886e-01]\n",
            " [9.78004441e-01 1.78429818e-01]\n",
            " [5.61129614e-01 1.45122918e-01]\n",
            " [6.56605606e-01 4.38540841e-01]\n",
            " [4.63641410e-01 4.61538462e-01]\n",
            " [8.78434638e-02 1.37192704e-01]\n",
            " [6.24132667e-01 3.33068993e-02]\n",
            " [8.72328615e-01 2.33148295e-01]\n",
            " [7.07674160e-01 9.75416336e-02]\n",
            " [7.74979184e-01 4.57573354e-01]\n",
            " [4.21523730e-01 1.20539255e-01]\n",
            " [7.03857896e-01 7.13719270e-01]\n",
            " [1.26977519e-01 3.01348136e-01]\n",
            " [2.04343603e-01 1.66534496e-02]\n",
            " [6.41756869e-01 9.67486122e-02]\n",
            " [6.27740772e-01 1.46708961e-01]\n",
            " [2.32861504e-01 2.45836638e-02]\n",
            " [9.26935887e-01 7.05789056e-02]\n",
            " [5.75006939e-01 2.28390167e-01]\n",
            " [7.77407716e-01 2.72799366e-01]\n",
            " [6.56605606e-01 2.25218081e-01]\n",
            " [6.81307244e-01 1.87946075e-01]\n",
            " [8.81903969e-01 3.79064235e-01]\n",
            " [1.45087427e-01 1.57018239e-01]\n",
            " [2.15167916e-01 2.01427439e-01]\n",
            " [9.92645018e-01 2.00634417e-01]\n",
            " [2.87191230e-01 5.15463918e-01]\n",
            " [2.00943658e-01 1.84773989e-01]\n",
            " [6.08104357e-01 2.20459952e-01]\n",
            " [2.92603386e-01 7.61300555e-02]\n",
            " [1.98376353e-01 4.91673275e-02]\n",
            " [6.09908410e-01 2.63283109e-01]\n",
            " [9.76963641e-01 1.99841396e-01]\n",
            " [9.88412434e-01 5.15463918e-02]\n",
            " [1.36414099e-01 2.48215702e-01]\n",
            " [1.27463225e-01 6.34417129e-01]\n",
            " [8.32084374e-01 4.21094370e-01]\n",
            " [5.71606994e-01 4.99603489e-02]\n",
            " [9.56355815e-01 1.01506741e-01]\n",
            " [3.61990008e-01 7.85091197e-02]\n",
            " [1.31279489e-01 2.69627280e-02]\n",
            " [9.76824868e-01 3.79064235e-01]\n",
            " [6.10324729e-01 1.29262490e-01]\n",
            " [2.83374965e-01 2.85487708e-02]\n",
            " [6.17402165e-01 1.87153053e-01]\n",
            " [8.72259228e-01 3.56859635e-02]\n",
            " [6.89633639e-01 3.23552736e-01]\n",
            " [4.18887039e-01 1.95876289e-01]\n",
            " [8.03497086e-01 3.75892149e-01]\n",
            " [6.81237857e-01 5.86835845e-02]\n",
            " [5.90480155e-01 4.59159397e-01]\n",
            " [1.51124063e-01 4.88501190e-01]\n",
            " [5.37676936e-01 2.45836638e-02]\n",
            " [6.30169303e-01 1.48295004e-01]\n",
            " [1.27046905e-01 2.39492466e-01]\n",
            " [8.33749653e-01 3.79064235e-01]\n",
            " [8.76214266e-01 1.54639175e-01]\n",
            " [4.72731057e-01 3.86201427e-01]\n",
            " [8.34512906e-01 1.77636796e-01]\n",
            " [9.97987788e-01 1.53053132e-01]\n",
            " [2.96280877e-02 4.67882633e-02]\n",
            " [3.14737719e-01 3.95717684e-01]\n",
            " [5.57729670e-01 5.82870738e-01]\n",
            " [4.93338884e-02 7.77954005e-01]\n",
            " [8.33472107e-01 7.21649485e-02]\n",
            " [3.60741049e-01 1.48295004e-01]\n",
            " [5.00971413e-01 7.30372720e-01]\n",
            " [9.08825978e-01 4.49643140e-01]\n",
            " [7.39869553e-01 4.44091990e-01]\n",
            " [8.68928671e-01 3.13243458e-01]\n",
            " [6.63544269e-01 8.08881840e-02]\n",
            " [4.23397169e-01 8.80253767e-02]\n",
            " [7.78101582e-01 4.90087232e-01]\n",
            " [9.77657508e-02 5.47184774e-02]\n",
            " [2.44171524e-01 0.00000000e+00]\n",
            " [3.46586178e-01 3.63996828e-01]\n",
            " [9.79739106e-01 5.13877875e-01]\n",
            " [1.39675271e-01 1.80015860e-01]\n",
            " [5.59394949e-01 2.51387787e-01]\n",
            " [8.78573411e-01 3.11657415e-01]\n",
            " [7.39661393e-01 2.98176051e-01]\n",
            " [7.89897308e-01 4.94052339e-01]\n",
            " [1.25034693e-01 3.35448057e-01]\n",
            " [6.06230919e-01 2.72006344e-01]\n",
            " [5.25534277e-01 1.00000000e+00]\n",
            " [3.81001943e-01 2.72799366e-01]\n",
            " [8.64279767e-01 2.45836638e-02]\n",
            " [5.07701915e-01 4.61538462e-01]\n",
            " [1.31973356e-01 3.25931800e-01]\n",
            " [9.61837358e-01 0.00000000e+00]\n",
            " [7.76505690e-01 4.91673275e-02]\n",
            " [3.78226478e-01 2.08564631e-01]\n",
            " [5.39689148e-01 9.67486122e-02]\n",
            " [6.02969747e-01 2.26011102e-01]\n",
            " [5.78684430e-01 3.14829500e-01]\n",
            " [5.60643908e-02 2.77557494e-01]\n",
            " [5.63835692e-01 2.18080888e-01]\n",
            " [2.04759922e-01 2.52180809e-01]\n",
            " [6.52234249e-03 2.33148295e-01]\n",
            " [9.13613655e-01 9.43695480e-02]\n",
            " [9.73771857e-01 3.88580492e-02]\n",
            " [8.60671663e-01 1.94290246e-01]\n",
            " [8.11129614e-02 4.17129262e-01]\n",
            " [6.08520677e-01 4.47264076e-01]\n",
            " [2.52428532e-01 3.56066614e-01]\n",
            " [2.13988343e-01 9.51625694e-03]]\n"
          ]
        }
      ]
    },
    {
      "cell_type": "code",
      "source": [
        "print(round(6.83197178e-01,3))\n",
        "print(round(9.09866778e+01,3))"
      ],
      "metadata": {
        "colab": {
          "base_uri": "https://localhost:8080/"
        },
        "id": "bJfcBn-TiZ3h",
        "outputId": "848156ee-b71b-446d-baf9-18f76832d5ee"
      },
      "execution_count": null,
      "outputs": [
        {
          "output_type": "stream",
          "name": "stdout",
          "text": [
            "0.683\n",
            "90.987\n"
          ]
        }
      ]
    },
    {
      "cell_type": "markdown",
      "source": [
        "Encoding the Categorical Features: get_dummies() and LabelEncoder()"
      ],
      "metadata": {
        "id": "kTC8pMooj6BG"
      }
    },
    {
      "cell_type": "code",
      "source": [
        "loan_df.info()"
      ],
      "metadata": {
        "colab": {
          "base_uri": "https://localhost:8080/"
        },
        "id": "1Li556DOi-e-",
        "outputId": "9d881cdb-3971-4974-daff-019f590b39ae"
      },
      "execution_count": null,
      "outputs": [
        {
          "output_type": "stream",
          "name": "stdout",
          "text": [
            "<class 'pandas.core.frame.DataFrame'>\n",
            "RangeIndex: 443 entries, 0 to 442\n",
            "Data columns (total 8 columns):\n",
            " #   Column       Non-Null Count  Dtype  \n",
            "---  ------       --------------  -----  \n",
            " 0   client_id    443 non-null    int64  \n",
            " 1   loan_type    443 non-null    object \n",
            " 2   loan_amount  443 non-null    int64  \n",
            " 3   repaid       443 non-null    int64  \n",
            " 4   loan_id      443 non-null    int64  \n",
            " 5   loan_start   443 non-null    object \n",
            " 6   loan_end     443 non-null    object \n",
            " 7   rate         443 non-null    float64\n",
            "dtypes: float64(1), int64(4), object(3)\n",
            "memory usage: 27.8+ KB\n"
          ]
        }
      ]
    },
    {
      "cell_type": "code",
      "source": [
        "print(loan_df['loan_type'].value_counts())"
      ],
      "metadata": {
        "colab": {
          "base_uri": "https://localhost:8080/"
        },
        "id": "l192bUq7lojw",
        "outputId": "bb393813-8603-4b1f-d1b1-53e937280ad5"
      },
      "execution_count": null,
      "outputs": [
        {
          "output_type": "stream",
          "name": "stdout",
          "text": [
            "loan_type\n",
            "home      121\n",
            "cash      108\n",
            "credit    107\n",
            "other     107\n",
            "Name: count, dtype: int64\n"
          ]
        }
      ]
    },
    {
      "cell_type": "code",
      "source": [
        "loan_df_cat=pd.get_dummies(loan_df['loan_type'])\n",
        "print(loan_df_cat)"
      ],
      "metadata": {
        "colab": {
          "base_uri": "https://localhost:8080/"
        },
        "id": "S1ocZxewkcvV",
        "outputId": "8e6fb214-6afa-4cce-96ac-6f69ae37586d"
      },
      "execution_count": null,
      "outputs": [
        {
          "output_type": "stream",
          "name": "stdout",
          "text": [
            "      cash  credit   home  other\n",
            "0    False   False   True  False\n",
            "1    False    True  False  False\n",
            "2    False   False   True  False\n",
            "3     True   False  False  False\n",
            "4    False    True  False  False\n",
            "..     ...     ...    ...    ...\n",
            "438  False   False  False   True\n",
            "439  False    True  False  False\n",
            "440  False   False  False   True\n",
            "441  False   False   True  False\n",
            "442  False   False   True  False\n",
            "\n",
            "[443 rows x 4 columns]\n"
          ]
        }
      ]
    },
    {
      "cell_type": "code",
      "source": [
        "print(loan_df)"
      ],
      "metadata": {
        "colab": {
          "base_uri": "https://localhost:8080/"
        },
        "id": "OkEelfoAk0_5",
        "outputId": "0718ba9e-d93f-46a0-b03f-dfc8ccaa8c91"
      },
      "execution_count": null,
      "outputs": [
        {
          "output_type": "stream",
          "name": "stdout",
          "text": [
            "     client_id loan_type  loan_amount  repaid  loan_id  loan_start  \\\n",
            "0        46109      home        13672       0    10243  16-04-2002   \n",
            "1        46109    credit         9794       0    10984  21-10-2003   \n",
            "2        46109      home        12734       1    10990  01-02-2006   \n",
            "3        46109      cash        12518       1    10596  08-12-2010   \n",
            "4        46109    credit        14049       1    11415  07-07-2010   \n",
            "..         ...       ...          ...     ...      ...         ...   \n",
            "438      26945     other        12963       0    10330  26-11-2001   \n",
            "439      26945    credit         1728       1    10248  27-01-2004   \n",
            "440      26945     other         9329       0    10154  17-12-2001   \n",
            "441      26945      home         4197       0    10333  16-10-2003   \n",
            "442      26945      home         3643       0    11434  24-03-2010   \n",
            "\n",
            "       loan_end  rate  \n",
            "0    20-12-2003  2.15  \n",
            "1    17-07-2005  1.25  \n",
            "2    05-07-2007  0.68  \n",
            "3    05-05-2013  1.24  \n",
            "4    21-05-2012  3.13  \n",
            "..          ...   ...  \n",
            "438  11-06-2004  2.46  \n",
            "439  21-06-2005  5.27  \n",
            "440  22-07-2004  5.65  \n",
            "441  10-07-2005  4.50  \n",
            "442  22-12-2011  0.13  \n",
            "\n",
            "[443 rows x 8 columns]\n"
          ]
        }
      ]
    },
    {
      "cell_type": "code",
      "source": [
        "from sklearn.preprocessing import LabelEncoder\n",
        "le=LabelEncoder()\n",
        "loan_df['loan_type']=le.fit_transform(loan_df['loan_type'])\n",
        "print(loan_df)"
      ],
      "metadata": {
        "colab": {
          "base_uri": "https://localhost:8080/"
        },
        "id": "HfyfmvE5mOMS",
        "outputId": "7637f66b-1a64-4e69-b0fa-4c8a78b46f48"
      },
      "execution_count": null,
      "outputs": [
        {
          "output_type": "stream",
          "name": "stdout",
          "text": [
            "     client_id  loan_type  loan_amount  repaid  loan_id  loan_start  \\\n",
            "0        46109          2        13672       0    10243  16-04-2002   \n",
            "1        46109          1         9794       0    10984  21-10-2003   \n",
            "2        46109          2        12734       1    10990  01-02-2006   \n",
            "3        46109          0        12518       1    10596  08-12-2010   \n",
            "4        46109          1        14049       1    11415  07-07-2010   \n",
            "..         ...        ...          ...     ...      ...         ...   \n",
            "438      26945          3        12963       0    10330  26-11-2001   \n",
            "439      26945          1         1728       1    10248  27-01-2004   \n",
            "440      26945          3         9329       0    10154  17-12-2001   \n",
            "441      26945          2         4197       0    10333  16-10-2003   \n",
            "442      26945          2         3643       0    11434  24-03-2010   \n",
            "\n",
            "       loan_end  rate  \n",
            "0    20-12-2003  2.15  \n",
            "1    17-07-2005  1.25  \n",
            "2    05-07-2007  0.68  \n",
            "3    05-05-2013  1.24  \n",
            "4    21-05-2012  3.13  \n",
            "..          ...   ...  \n",
            "438  11-06-2004  2.46  \n",
            "439  21-06-2005  5.27  \n",
            "440  22-07-2004  5.65  \n",
            "441  10-07-2005  4.50  \n",
            "442  22-12-2011  0.13  \n",
            "\n",
            "[443 rows x 8 columns]\n"
          ]
        }
      ]
    },
    {
      "cell_type": "code",
      "source": [
        "print(loan_df['loan_type'].value_counts())"
      ],
      "metadata": {
        "colab": {
          "base_uri": "https://localhost:8080/"
        },
        "id": "gWrins3Bmota",
        "outputId": "dc89fb4c-7755-4279-d0f0-039d69a222e8"
      },
      "execution_count": null,
      "outputs": [
        {
          "output_type": "stream",
          "name": "stdout",
          "text": [
            "loan_type\n",
            "2    121\n",
            "0    108\n",
            "1    107\n",
            "3    107\n",
            "Name: count, dtype: int64\n"
          ]
        }
      ]
    },
    {
      "cell_type": "markdown",
      "source": [
        "LabelEncoder is vectorization in GenAI"
      ],
      "metadata": {
        "id": "iWy95tV3nKDl"
      }
    }
  ]
}