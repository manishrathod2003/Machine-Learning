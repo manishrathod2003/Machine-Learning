{
  "nbformat": 4,
  "nbformat_minor": 0,
  "metadata": {
    "colab": {
      "provenance": [],
      "authorship_tag": "ABX9TyPYYoLd82MIKfwL5tGjTI2Y",
      "include_colab_link": true
    },
    "kernelspec": {
      "name": "python3",
      "display_name": "Python 3"
    },
    "language_info": {
      "name": "python"
    }
  },
  "cells": [
    {
      "cell_type": "markdown",
      "metadata": {
        "id": "view-in-github",
        "colab_type": "text"
      },
      "source": [
        "<a href=\"https://colab.research.google.com/github/manishrathod2003/Machine-Learning/blob/main/Day1_24feb.ipynb\" target=\"_parent\"><img src=\"https://colab.research.google.com/assets/colab-badge.svg\" alt=\"Open In Colab\"/></a>"
      ]
    },
    {
      "cell_type": "markdown",
      "source": [
        "Python Resource - https://automatetheboringstuff.com/"
      ],
      "metadata": {
        "id": "Crsia0jROdYE"
      }
    },
    {
      "cell_type": "markdown",
      "source": [
        "## NumPy"
      ],
      "metadata": {
        "id": "Uxuwe65GDv4y"
      }
    },
    {
      "cell_type": "code",
      "execution_count": null,
      "metadata": {
        "id": "7B5SonNJ9gI2",
        "colab": {
          "base_uri": "https://localhost:8080/"
        },
        "outputId": "eb44eb3d-7d46-4dbf-9621-f8045fcd8c52"
      },
      "outputs": [
        {
          "output_type": "stream",
          "name": "stdout",
          "text": [
            "[1 2 3 4 5]\n",
            "<class 'numpy.ndarray'>\n",
            "int64\n"
          ]
        }
      ],
      "source": [
        "import numpy as np\n",
        "\n",
        "#Create NumPy Array\n",
        "\n",
        "arr = np.array([1,2,3,4,5])\n",
        "print(arr)\n",
        "print(type(arr))\n",
        "print(arr.dtype)"
      ]
    },
    {
      "cell_type": "code",
      "source": [
        "arr = np.array([1,2,3,'abc',4,5])\n",
        "print(arr)\n",
        "print(type(arr))\n",
        "print(arr.dtype)"
      ],
      "metadata": {
        "colab": {
          "base_uri": "https://localhost:8080/"
        },
        "id": "FWenb2K9E6IS",
        "outputId": "39a38321-d56a-4f55-91a5-d4bd59f4704d"
      },
      "execution_count": null,
      "outputs": [
        {
          "output_type": "stream",
          "name": "stdout",
          "text": [
            "['1' '2' '3' 'abc' '4' '5']\n",
            "<class 'numpy.ndarray'>\n",
            "<U21\n"
          ]
        }
      ]
    },
    {
      "cell_type": "code",
      "source": [
        "#Lists\n",
        "\n",
        "#range(start,stop)\n",
        "lst = list(range(1,10))\n",
        "print(lst)\n",
        "\n",
        "#range(start,stop,step)\n",
        "lst = list(range(1,10,2))\n",
        "print(lst)\n",
        "\n",
        "#range(0,n-1)\n",
        "lst = list(range(10))      # n=10\n",
        "print(lst)"
      ],
      "metadata": {
        "colab": {
          "base_uri": "https://localhost:8080/"
        },
        "id": "SaQLPl3ZFYG2",
        "outputId": "e3229c0f-1dbd-42dd-d9a4-10ba84fc4bfe"
      },
      "execution_count": null,
      "outputs": [
        {
          "output_type": "stream",
          "name": "stdout",
          "text": [
            "[1, 2, 3, 4, 5, 6, 7, 8, 9]\n",
            "[1, 3, 5, 7, 9]\n",
            "[0, 1, 2, 3, 4, 5, 6, 7, 8, 9]\n"
          ]
        }
      ]
    },
    {
      "cell_type": "code",
      "source": [
        "#arange()\n",
        "\n",
        "arr = np.arange(1,10)\n",
        "print(arr)\n",
        "\n",
        "arr = np.arange(1,10,2)\n",
        "print(arr)\n",
        "\n",
        "arr = np.arange(10)\n",
        "print(arr)"
      ],
      "metadata": {
        "colab": {
          "base_uri": "https://localhost:8080/"
        },
        "id": "L1v0HKX7FPRV",
        "outputId": "b070f146-b8a0-42b4-ae59-4b7b86e09658"
      },
      "execution_count": null,
      "outputs": [
        {
          "output_type": "stream",
          "name": "stdout",
          "text": [
            "[1 2 3 4 5 6 7 8 9]\n",
            "[1 3 5 7 9]\n",
            "[0 1 2 3 4 5 6 7 8 9]\n"
          ]
        }
      ]
    },
    {
      "cell_type": "code",
      "source": [
        "print(arr[0])"
      ],
      "metadata": {
        "colab": {
          "base_uri": "https://localhost:8080/"
        },
        "id": "gaUO80swFWzh",
        "outputId": "db576218-9817-4195-dfdf-c48d9d32f5ae"
      },
      "execution_count": null,
      "outputs": [
        {
          "output_type": "stream",
          "name": "stdout",
          "text": [
            "0\n"
          ]
        }
      ]
    },
    {
      "cell_type": "code",
      "source": [
        "#Create 2D Array\n",
        "arr=np.array([[1,2,3],[4,5,6],[7,8,9]])\n",
        "print(arr)\n",
        "print(\"No. of dimensions:\",arr.ndim)\n",
        "print(\"Shape(rows,columns):\",arr.shape)\n",
        "print(\"No. of elements:\",arr.size)\n",
        "print(\"Data Type:\",arr.dtype)\n",
        "print(arr[2][1])                   #row index, column index"
      ],
      "metadata": {
        "colab": {
          "base_uri": "https://localhost:8080/"
        },
        "id": "qnAhkSaxG3CH",
        "outputId": "0fb9fba3-1a0f-44a8-9826-ebfda5f2e74c"
      },
      "execution_count": null,
      "outputs": [
        {
          "output_type": "stream",
          "name": "stdout",
          "text": [
            "[[1 2 3]\n",
            " [4 5 6]\n",
            " [7 8 9]]\n",
            "No. of dimensions: 2\n",
            "Shape(rows,columns): (3, 3)\n",
            "No. of elements: 9\n",
            "Data Type: int64\n",
            "8\n"
          ]
        }
      ]
    },
    {
      "cell_type": "code",
      "source": [
        "arr1 = np.array([1,2,3])\n",
        "print(arr1.ndim)"
      ],
      "metadata": {
        "colab": {
          "base_uri": "https://localhost:8080/"
        },
        "id": "4gMlJs9IHP1z",
        "outputId": "3e2dd38e-d776-40ac-a406-148d14302b15"
      },
      "execution_count": null,
      "outputs": [
        {
          "output_type": "stream",
          "name": "stdout",
          "text": [
            "1\n"
          ]
        }
      ]
    },
    {
      "cell_type": "code",
      "source": [
        "arr2 = np.ones(5)\n",
        "print(arr2)\n",
        "print(arr2.dtype)\n"
      ],
      "metadata": {
        "colab": {
          "base_uri": "https://localhost:8080/"
        },
        "id": "4Jtal-kJIZUq",
        "outputId": "536f16c5-8a53-48b5-c018-ceeb3f6e6261"
      },
      "execution_count": null,
      "outputs": [
        {
          "output_type": "stream",
          "name": "stdout",
          "text": [
            "[1. 1. 1. 1. 1.]\n",
            "float64\n"
          ]
        }
      ]
    },
    {
      "cell_type": "code",
      "source": [
        "arr=np.array([[1,2,3,10],[4,5,6,11],[7,8,9,12]])\n",
        "print(arr)\n",
        "\n",
        "for i in arr:\n",
        "    print(i)"
      ],
      "metadata": {
        "colab": {
          "base_uri": "https://localhost:8080/"
        },
        "id": "6dbXmGAzJUHO",
        "outputId": "1a259d89-7f6e-42d1-e9cc-2cd28b27fb02"
      },
      "execution_count": null,
      "outputs": [
        {
          "output_type": "stream",
          "name": "stdout",
          "text": [
            "[[ 1  2  3 10]\n",
            " [ 4  5  6 11]\n",
            " [ 7  8  9 12]]\n",
            "[ 1  2  3 10]\n",
            "[ 4  5  6 11]\n",
            "[ 7  8  9 12]\n"
          ]
        }
      ]
    },
    {
      "cell_type": "code",
      "source": [
        "for i in np.nditer(arr):\n",
        "    print(i)"
      ],
      "metadata": {
        "colab": {
          "base_uri": "https://localhost:8080/"
        },
        "id": "7_-NDty7Jjts",
        "outputId": "ec07c137-3d6e-43be-f96c-99f0a3c1b047"
      },
      "execution_count": null,
      "outputs": [
        {
          "output_type": "stream",
          "name": "stdout",
          "text": [
            "1\n",
            "2\n",
            "3\n",
            "10\n",
            "4\n",
            "5\n",
            "6\n",
            "11\n",
            "7\n",
            "8\n",
            "9\n",
            "12\n"
          ]
        }
      ]
    },
    {
      "cell_type": "code",
      "source": [
        "arr1 = np.array([[1,2,3],[4,5,6]])\n",
        "arr2 = np.array([[10,11],[20,21],[30,31]])\n",
        "print(arr1)\n",
        "print(arr2)"
      ],
      "metadata": {
        "colab": {
          "base_uri": "https://localhost:8080/"
        },
        "id": "5A7gpZ7LKEzH",
        "outputId": "19bf3560-8cb9-46c4-c7ea-5b48b120b9aa"
      },
      "execution_count": null,
      "outputs": [
        {
          "output_type": "stream",
          "name": "stdout",
          "text": [
            "[[1 2 3]\n",
            " [4 5 6]]\n",
            "[[10 11]\n",
            " [20 21]\n",
            " [30 31]]\n"
          ]
        }
      ]
    },
    {
      "cell_type": "code",
      "source": [
        "arr3 = np.dot(arr1,arr2)\n",
        "print(arr3)"
      ],
      "metadata": {
        "colab": {
          "base_uri": "https://localhost:8080/"
        },
        "id": "83iGh2chKFti",
        "outputId": "c1b5fde7-edaf-42ba-b89a-298d131c89a3"
      },
      "execution_count": null,
      "outputs": [
        {
          "output_type": "stream",
          "name": "stdout",
          "text": [
            "[[140 146]\n",
            " [320 335]]\n"
          ]
        }
      ]
    },
    {
      "cell_type": "code",
      "source": [
        "#Shape Change operations\n",
        "arr=np.array([1,2,3,4,5,6])\n",
        "print(arr.ndim)\n",
        "\n",
        "arr_new = arr.reshape(2,3)\n",
        "print(arr_new)\n",
        "print(arr_new.ndim)\n",
        "\n",
        "arr_new = arr.reshape(3,2)\n",
        "print(arr_new)\n",
        "print(arr_new.ndim)\n",
        "\n",
        "arr_new = arr.reshape(6,1)\n",
        "print(arr_new)\n",
        "print(arr_new.ndim)"
      ],
      "metadata": {
        "colab": {
          "base_uri": "https://localhost:8080/"
        },
        "id": "ybC8QkhwLj86",
        "outputId": "74ff1172-d1dd-4331-ccda-3298295f64e1"
      },
      "execution_count": null,
      "outputs": [
        {
          "output_type": "stream",
          "name": "stdout",
          "text": [
            "1\n",
            "[[1 2 3]\n",
            " [4 5 6]]\n",
            "2\n",
            "[[1 2]\n",
            " [3 4]\n",
            " [5 6]]\n",
            "2\n",
            "[[1]\n",
            " [2]\n",
            " [3]\n",
            " [4]\n",
            " [5]\n",
            " [6]]\n",
            "2\n"
          ]
        }
      ]
    },
    {
      "cell_type": "code",
      "source": [
        "arr = np.array([[1,2,3],[4,5,6],[7,8,9]])\n",
        "print(\"Original Array:\\n\",arr)\n",
        "print(\"Transpose of Array:\\n\",arr.T)\n",
        "print(\"Transpose of Array:\\n\",np.transpose(arr))\n",
        "print(\"Transpose of Array:\\n\",arr.transpose())"
      ],
      "metadata": {
        "colab": {
          "base_uri": "https://localhost:8080/"
        },
        "id": "lCUb7RBPMxDc",
        "outputId": "a5f342ef-3b5d-4c9d-eb21-dd69ca4c9e70"
      },
      "execution_count": null,
      "outputs": [
        {
          "output_type": "stream",
          "name": "stdout",
          "text": [
            "Original Array:\n",
            " [[1 2 3]\n",
            " [4 5 6]\n",
            " [7 8 9]]\n",
            "Transpose of Array:\n",
            " [[1 4 7]\n",
            " [2 5 8]\n",
            " [3 6 9]]\n",
            "Transpose of Array:\n",
            " [[1 4 7]\n",
            " [2 5 8]\n",
            " [3 6 9]]\n",
            "Transpose of Array:\n",
            " [[1 4 7]\n",
            " [2 5 8]\n",
            " [3 6 9]]\n"
          ]
        }
      ]
    },
    {
      "cell_type": "code",
      "source": [
        "#Useful functions in numpy\n",
        "\n",
        "sales = np.array([2345,6547,8965,8965,5690,2356])\n",
        "print(\"Total Sales:\",sales.sum())\n",
        "print(\"Maximum Sales:\",sales.max())\n",
        "print(\"Minimum Sales:\",sales.min())\n",
        "#print(f\"High:{sales.max()} Low:{sales.min()}\")\n",
        "print(\"Mean Sales:\",sales.mean())\n",
        "print(\"Standard Deviation:\",sales.std())\n",
        "print(\"Variance:\",sales.var())"
      ],
      "metadata": {
        "colab": {
          "base_uri": "https://localhost:8080/"
        },
        "id": "FeLB8qmhNa_q",
        "outputId": "ad390e4d-c6cd-4123-c397-fb17134f6c88"
      },
      "execution_count": null,
      "outputs": [
        {
          "output_type": "stream",
          "name": "stdout",
          "text": [
            "Total Sales: 34868\n",
            "Maximum Sales: 8965\n",
            "Minimum Sales: 2345\n",
            "Mean Sales: 5811.333333333333\n",
            "Standard Deviation: 2720.353816857081\n",
            "Variance: 7400324.888888888\n"
          ]
        }
      ]
    },
    {
      "cell_type": "code",
      "source": [
        "#Broadcasting of Operations\n",
        "lst=[10,20,30]                    #operations not performed on all elements in a list\n",
        "print(lst*3)"
      ],
      "metadata": {
        "colab": {
          "base_uri": "https://localhost:8080/"
        },
        "id": "PK8GkSX8OqXW",
        "outputId": "e202e634-8774-4297-dd7b-e06b77741637"
      },
      "execution_count": null,
      "outputs": [
        {
          "output_type": "stream",
          "name": "stdout",
          "text": [
            "[10, 20, 30, 10, 20, 30, 10, 20, 30]\n"
          ]
        }
      ]
    },
    {
      "cell_type": "code",
      "source": [
        "arr = np.array([10,20,30])         #operations performed on all elements in a array\n",
        "print(arr*3)"
      ],
      "metadata": {
        "colab": {
          "base_uri": "https://localhost:8080/"
        },
        "id": "g4ED1s9rPZjH",
        "outputId": "05d43a6b-1d35-47a8-f737-620ff14a6c4a"
      },
      "execution_count": null,
      "outputs": [
        {
          "output_type": "stream",
          "name": "stdout",
          "text": [
            "[30 60 90]\n"
          ]
        }
      ]
    },
    {
      "cell_type": "code",
      "source": [
        "#Membership Opeartions - in and not in\n",
        "print(10 in arr)\n",
        "\n",
        "print(10 not in arr)\n",
        "print(12 not in arr)"
      ],
      "metadata": {
        "colab": {
          "base_uri": "https://localhost:8080/"
        },
        "id": "QkUknf2PPxeX",
        "outputId": "427091f6-362a-43ac-cc10-014bbd6e2d43"
      },
      "execution_count": null,
      "outputs": [
        {
          "output_type": "stream",
          "name": "stdout",
          "text": [
            "True\n",
            "False\n",
            "True\n"
          ]
        }
      ]
    }
  ]
}