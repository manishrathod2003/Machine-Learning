{
  "nbformat": 4,
  "nbformat_minor": 0,
  "metadata": {
    "colab": {
      "provenance": [],
      "authorship_tag": "ABX9TyMlZ2I7g9d31nhSPPKkHID1",
      "include_colab_link": true
    },
    "kernelspec": {
      "name": "python3",
      "display_name": "Python 3"
    },
    "language_info": {
      "name": "python"
    }
  },
  "cells": [
    {
      "cell_type": "markdown",
      "metadata": {
        "id": "view-in-github",
        "colab_type": "text"
      },
      "source": [
        "<a href=\"https://colab.research.google.com/github/manishrathod2003/Machine-Learning/blob/main/Day2_25feb.ipynb\" target=\"_parent\"><img src=\"https://colab.research.google.com/assets/colab-badge.svg\" alt=\"Open In Colab\"/></a>"
      ]
    },
    {
      "cell_type": "markdown",
      "source": [
        "# Pandas"
      ],
      "metadata": {
        "id": "_X8y3-Jijg3N"
      }
    },
    {
      "cell_type": "markdown",
      "source": [
        "Data Manipulation:\n",
        "1. Data Preparation: load, combine, filter data\n",
        "2. Data Cleaning: Remove inconsistencies from data\n",
        "3. Data Transformation: group, aggregate, bin data"
      ],
      "metadata": {
        "id": "Mp4Y1Xruivnr"
      }
    },
    {
      "cell_type": "markdown",
      "source": [
        "Data Manipulation Tasks performed using Pandas:\n",
        "1. Sampling\n",
        "2. Data Cleaning\n",
        "3. Data Transformation\n",
        "4. Data Wrangling\n",
        "5. Data Analysis\n"
      ],
      "metadata": {
        "id": "84lRXZKkkw2V"
      }
    },
    {
      "cell_type": "markdown",
      "source": [
        "Data Structures in Pandas:\n",
        "1. Series: 1-D labeled array\n",
        "2. DataFrame: 2-D labeled structure of rows & columns\n",
        "\n",
        "\n",
        "\n"
      ],
      "metadata": {
        "id": "-0IrgnPfla3S"
      }
    },
    {
      "cell_type": "code",
      "source": [
        "#Creating DataFrame\n",
        "import pandas as pd\n",
        "\n",
        "employee = {\n",
        "    'emp_id':[1,2,3,4,5],\n",
        "    'emp_name':['A','B','C','D','E'],\n",
        "    'emp_salary':[1000,2000,3000,4000,5000]\n",
        "}\n",
        "print(employee,'\\n')\n",
        "\n",
        "df=pd.DataFrame(employee)\n",
        "print(df)"
      ],
      "metadata": {
        "colab": {
          "base_uri": "https://localhost:8080/"
        },
        "id": "iSb_Jm3AoRh3",
        "outputId": "d40cdadb-c9ce-40de-88bf-c4e16c5960ca"
      },
      "execution_count": null,
      "outputs": [
        {
          "output_type": "stream",
          "name": "stdout",
          "text": [
            "{'emp_id': [1, 2, 3, 4, 5], 'emp_name': ['A', 'B', 'C', 'D', 'E'], 'emp_salary': [1000, 2000, 3000, 4000, 5000]} \n",
            "\n",
            "   emp_id emp_name  emp_salary\n",
            "0       1        A        1000\n",
            "1       2        B        2000\n",
            "2       3        C        3000\n",
            "3       4        D        4000\n",
            "4       5        E        5000\n"
          ]
        }
      ]
    },
    {
      "cell_type": "code",
      "source": [
        "df"
      ],
      "metadata": {
        "colab": {
          "base_uri": "https://localhost:8080/",
          "height": 206
        },
        "id": "oeQBjVtsplAV",
        "outputId": "ca10e661-3f6e-41f1-b7df-3fc0b119c3dd"
      },
      "execution_count": null,
      "outputs": [
        {
          "output_type": "execute_result",
          "data": {
            "text/plain": [
              "   emp_id emp_name  emp_salary\n",
              "0       1        A        1000\n",
              "1       2        B        2000\n",
              "2       3        C        3000\n",
              "3       4        D        4000\n",
              "4       5        E        5000"
            ],
            "text/html": [
              "\n",
              "  <div id=\"df-93efaf97-259b-499c-8832-f5e1c4101770\" class=\"colab-df-container\">\n",
              "    <div>\n",
              "<style scoped>\n",
              "    .dataframe tbody tr th:only-of-type {\n",
              "        vertical-align: middle;\n",
              "    }\n",
              "\n",
              "    .dataframe tbody tr th {\n",
              "        vertical-align: top;\n",
              "    }\n",
              "\n",
              "    .dataframe thead th {\n",
              "        text-align: right;\n",
              "    }\n",
              "</style>\n",
              "<table border=\"1\" class=\"dataframe\">\n",
              "  <thead>\n",
              "    <tr style=\"text-align: right;\">\n",
              "      <th></th>\n",
              "      <th>emp_id</th>\n",
              "      <th>emp_name</th>\n",
              "      <th>emp_salary</th>\n",
              "    </tr>\n",
              "  </thead>\n",
              "  <tbody>\n",
              "    <tr>\n",
              "      <th>0</th>\n",
              "      <td>1</td>\n",
              "      <td>A</td>\n",
              "      <td>1000</td>\n",
              "    </tr>\n",
              "    <tr>\n",
              "      <th>1</th>\n",
              "      <td>2</td>\n",
              "      <td>B</td>\n",
              "      <td>2000</td>\n",
              "    </tr>\n",
              "    <tr>\n",
              "      <th>2</th>\n",
              "      <td>3</td>\n",
              "      <td>C</td>\n",
              "      <td>3000</td>\n",
              "    </tr>\n",
              "    <tr>\n",
              "      <th>3</th>\n",
              "      <td>4</td>\n",
              "      <td>D</td>\n",
              "      <td>4000</td>\n",
              "    </tr>\n",
              "    <tr>\n",
              "      <th>4</th>\n",
              "      <td>5</td>\n",
              "      <td>E</td>\n",
              "      <td>5000</td>\n",
              "    </tr>\n",
              "  </tbody>\n",
              "</table>\n",
              "</div>\n",
              "    <div class=\"colab-df-buttons\">\n",
              "\n",
              "  <div class=\"colab-df-container\">\n",
              "    <button class=\"colab-df-convert\" onclick=\"convertToInteractive('df-93efaf97-259b-499c-8832-f5e1c4101770')\"\n",
              "            title=\"Convert this dataframe to an interactive table.\"\n",
              "            style=\"display:none;\">\n",
              "\n",
              "  <svg xmlns=\"http://www.w3.org/2000/svg\" height=\"24px\" viewBox=\"0 -960 960 960\">\n",
              "    <path d=\"M120-120v-720h720v720H120Zm60-500h600v-160H180v160Zm220 220h160v-160H400v160Zm0 220h160v-160H400v160ZM180-400h160v-160H180v160Zm440 0h160v-160H620v160ZM180-180h160v-160H180v160Zm440 0h160v-160H620v160Z\"/>\n",
              "  </svg>\n",
              "    </button>\n",
              "\n",
              "  <style>\n",
              "    .colab-df-container {\n",
              "      display:flex;\n",
              "      gap: 12px;\n",
              "    }\n",
              "\n",
              "    .colab-df-convert {\n",
              "      background-color: #E8F0FE;\n",
              "      border: none;\n",
              "      border-radius: 50%;\n",
              "      cursor: pointer;\n",
              "      display: none;\n",
              "      fill: #1967D2;\n",
              "      height: 32px;\n",
              "      padding: 0 0 0 0;\n",
              "      width: 32px;\n",
              "    }\n",
              "\n",
              "    .colab-df-convert:hover {\n",
              "      background-color: #E2EBFA;\n",
              "      box-shadow: 0px 1px 2px rgba(60, 64, 67, 0.3), 0px 1px 3px 1px rgba(60, 64, 67, 0.15);\n",
              "      fill: #174EA6;\n",
              "    }\n",
              "\n",
              "    .colab-df-buttons div {\n",
              "      margin-bottom: 4px;\n",
              "    }\n",
              "\n",
              "    [theme=dark] .colab-df-convert {\n",
              "      background-color: #3B4455;\n",
              "      fill: #D2E3FC;\n",
              "    }\n",
              "\n",
              "    [theme=dark] .colab-df-convert:hover {\n",
              "      background-color: #434B5C;\n",
              "      box-shadow: 0px 1px 3px 1px rgba(0, 0, 0, 0.15);\n",
              "      filter: drop-shadow(0px 1px 2px rgba(0, 0, 0, 0.3));\n",
              "      fill: #FFFFFF;\n",
              "    }\n",
              "  </style>\n",
              "\n",
              "    <script>\n",
              "      const buttonEl =\n",
              "        document.querySelector('#df-93efaf97-259b-499c-8832-f5e1c4101770 button.colab-df-convert');\n",
              "      buttonEl.style.display =\n",
              "        google.colab.kernel.accessAllowed ? 'block' : 'none';\n",
              "\n",
              "      async function convertToInteractive(key) {\n",
              "        const element = document.querySelector('#df-93efaf97-259b-499c-8832-f5e1c4101770');\n",
              "        const dataTable =\n",
              "          await google.colab.kernel.invokeFunction('convertToInteractive',\n",
              "                                                    [key], {});\n",
              "        if (!dataTable) return;\n",
              "\n",
              "        const docLinkHtml = 'Like what you see? Visit the ' +\n",
              "          '<a target=\"_blank\" href=https://colab.research.google.com/notebooks/data_table.ipynb>data table notebook</a>'\n",
              "          + ' to learn more about interactive tables.';\n",
              "        element.innerHTML = '';\n",
              "        dataTable['output_type'] = 'display_data';\n",
              "        await google.colab.output.renderOutput(dataTable, element);\n",
              "        const docLink = document.createElement('div');\n",
              "        docLink.innerHTML = docLinkHtml;\n",
              "        element.appendChild(docLink);\n",
              "      }\n",
              "    </script>\n",
              "  </div>\n",
              "\n",
              "\n",
              "<div id=\"df-9c0fbdf0-d653-4a5a-b608-cd102492aa29\">\n",
              "  <button class=\"colab-df-quickchart\" onclick=\"quickchart('df-9c0fbdf0-d653-4a5a-b608-cd102492aa29')\"\n",
              "            title=\"Suggest charts\"\n",
              "            style=\"display:none;\">\n",
              "\n",
              "<svg xmlns=\"http://www.w3.org/2000/svg\" height=\"24px\"viewBox=\"0 0 24 24\"\n",
              "     width=\"24px\">\n",
              "    <g>\n",
              "        <path d=\"M19 3H5c-1.1 0-2 .9-2 2v14c0 1.1.9 2 2 2h14c1.1 0 2-.9 2-2V5c0-1.1-.9-2-2-2zM9 17H7v-7h2v7zm4 0h-2V7h2v10zm4 0h-2v-4h2v4z\"/>\n",
              "    </g>\n",
              "</svg>\n",
              "  </button>\n",
              "\n",
              "<style>\n",
              "  .colab-df-quickchart {\n",
              "      --bg-color: #E8F0FE;\n",
              "      --fill-color: #1967D2;\n",
              "      --hover-bg-color: #E2EBFA;\n",
              "      --hover-fill-color: #174EA6;\n",
              "      --disabled-fill-color: #AAA;\n",
              "      --disabled-bg-color: #DDD;\n",
              "  }\n",
              "\n",
              "  [theme=dark] .colab-df-quickchart {\n",
              "      --bg-color: #3B4455;\n",
              "      --fill-color: #D2E3FC;\n",
              "      --hover-bg-color: #434B5C;\n",
              "      --hover-fill-color: #FFFFFF;\n",
              "      --disabled-bg-color: #3B4455;\n",
              "      --disabled-fill-color: #666;\n",
              "  }\n",
              "\n",
              "  .colab-df-quickchart {\n",
              "    background-color: var(--bg-color);\n",
              "    border: none;\n",
              "    border-radius: 50%;\n",
              "    cursor: pointer;\n",
              "    display: none;\n",
              "    fill: var(--fill-color);\n",
              "    height: 32px;\n",
              "    padding: 0;\n",
              "    width: 32px;\n",
              "  }\n",
              "\n",
              "  .colab-df-quickchart:hover {\n",
              "    background-color: var(--hover-bg-color);\n",
              "    box-shadow: 0 1px 2px rgba(60, 64, 67, 0.3), 0 1px 3px 1px rgba(60, 64, 67, 0.15);\n",
              "    fill: var(--button-hover-fill-color);\n",
              "  }\n",
              "\n",
              "  .colab-df-quickchart-complete:disabled,\n",
              "  .colab-df-quickchart-complete:disabled:hover {\n",
              "    background-color: var(--disabled-bg-color);\n",
              "    fill: var(--disabled-fill-color);\n",
              "    box-shadow: none;\n",
              "  }\n",
              "\n",
              "  .colab-df-spinner {\n",
              "    border: 2px solid var(--fill-color);\n",
              "    border-color: transparent;\n",
              "    border-bottom-color: var(--fill-color);\n",
              "    animation:\n",
              "      spin 1s steps(1) infinite;\n",
              "  }\n",
              "\n",
              "  @keyframes spin {\n",
              "    0% {\n",
              "      border-color: transparent;\n",
              "      border-bottom-color: var(--fill-color);\n",
              "      border-left-color: var(--fill-color);\n",
              "    }\n",
              "    20% {\n",
              "      border-color: transparent;\n",
              "      border-left-color: var(--fill-color);\n",
              "      border-top-color: var(--fill-color);\n",
              "    }\n",
              "    30% {\n",
              "      border-color: transparent;\n",
              "      border-left-color: var(--fill-color);\n",
              "      border-top-color: var(--fill-color);\n",
              "      border-right-color: var(--fill-color);\n",
              "    }\n",
              "    40% {\n",
              "      border-color: transparent;\n",
              "      border-right-color: var(--fill-color);\n",
              "      border-top-color: var(--fill-color);\n",
              "    }\n",
              "    60% {\n",
              "      border-color: transparent;\n",
              "      border-right-color: var(--fill-color);\n",
              "    }\n",
              "    80% {\n",
              "      border-color: transparent;\n",
              "      border-right-color: var(--fill-color);\n",
              "      border-bottom-color: var(--fill-color);\n",
              "    }\n",
              "    90% {\n",
              "      border-color: transparent;\n",
              "      border-bottom-color: var(--fill-color);\n",
              "    }\n",
              "  }\n",
              "</style>\n",
              "\n",
              "  <script>\n",
              "    async function quickchart(key) {\n",
              "      const quickchartButtonEl =\n",
              "        document.querySelector('#' + key + ' button');\n",
              "      quickchartButtonEl.disabled = true;  // To prevent multiple clicks.\n",
              "      quickchartButtonEl.classList.add('colab-df-spinner');\n",
              "      try {\n",
              "        const charts = await google.colab.kernel.invokeFunction(\n",
              "            'suggestCharts', [key], {});\n",
              "      } catch (error) {\n",
              "        console.error('Error during call to suggestCharts:', error);\n",
              "      }\n",
              "      quickchartButtonEl.classList.remove('colab-df-spinner');\n",
              "      quickchartButtonEl.classList.add('colab-df-quickchart-complete');\n",
              "    }\n",
              "    (() => {\n",
              "      let quickchartButtonEl =\n",
              "        document.querySelector('#df-9c0fbdf0-d653-4a5a-b608-cd102492aa29 button');\n",
              "      quickchartButtonEl.style.display =\n",
              "        google.colab.kernel.accessAllowed ? 'block' : 'none';\n",
              "    })();\n",
              "  </script>\n",
              "</div>\n",
              "\n",
              "  <div id=\"id_29b26bb7-b636-409a-a9ff-c9993e8501ac\">\n",
              "    <style>\n",
              "      .colab-df-generate {\n",
              "        background-color: #E8F0FE;\n",
              "        border: none;\n",
              "        border-radius: 50%;\n",
              "        cursor: pointer;\n",
              "        display: none;\n",
              "        fill: #1967D2;\n",
              "        height: 32px;\n",
              "        padding: 0 0 0 0;\n",
              "        width: 32px;\n",
              "      }\n",
              "\n",
              "      .colab-df-generate:hover {\n",
              "        background-color: #E2EBFA;\n",
              "        box-shadow: 0px 1px 2px rgba(60, 64, 67, 0.3), 0px 1px 3px 1px rgba(60, 64, 67, 0.15);\n",
              "        fill: #174EA6;\n",
              "      }\n",
              "\n",
              "      [theme=dark] .colab-df-generate {\n",
              "        background-color: #3B4455;\n",
              "        fill: #D2E3FC;\n",
              "      }\n",
              "\n",
              "      [theme=dark] .colab-df-generate:hover {\n",
              "        background-color: #434B5C;\n",
              "        box-shadow: 0px 1px 3px 1px rgba(0, 0, 0, 0.15);\n",
              "        filter: drop-shadow(0px 1px 2px rgba(0, 0, 0, 0.3));\n",
              "        fill: #FFFFFF;\n",
              "      }\n",
              "    </style>\n",
              "    <button class=\"colab-df-generate\" onclick=\"generateWithVariable('df')\"\n",
              "            title=\"Generate code using this dataframe.\"\n",
              "            style=\"display:none;\">\n",
              "\n",
              "  <svg xmlns=\"http://www.w3.org/2000/svg\" height=\"24px\"viewBox=\"0 0 24 24\"\n",
              "       width=\"24px\">\n",
              "    <path d=\"M7,19H8.4L18.45,9,17,7.55,7,17.6ZM5,21V16.75L18.45,3.32a2,2,0,0,1,2.83,0l1.4,1.43a1.91,1.91,0,0,1,.58,1.4,1.91,1.91,0,0,1-.58,1.4L9.25,21ZM18.45,9,17,7.55Zm-12,3A5.31,5.31,0,0,0,4.9,8.1,5.31,5.31,0,0,0,1,6.5,5.31,5.31,0,0,0,4.9,4.9,5.31,5.31,0,0,0,6.5,1,5.31,5.31,0,0,0,8.1,4.9,5.31,5.31,0,0,0,12,6.5,5.46,5.46,0,0,0,6.5,12Z\"/>\n",
              "  </svg>\n",
              "    </button>\n",
              "    <script>\n",
              "      (() => {\n",
              "      const buttonEl =\n",
              "        document.querySelector('#id_29b26bb7-b636-409a-a9ff-c9993e8501ac button.colab-df-generate');\n",
              "      buttonEl.style.display =\n",
              "        google.colab.kernel.accessAllowed ? 'block' : 'none';\n",
              "\n",
              "      buttonEl.onclick = () => {\n",
              "        google.colab.notebook.generateWithVariable('df');\n",
              "      }\n",
              "      })();\n",
              "    </script>\n",
              "  </div>\n",
              "\n",
              "    </div>\n",
              "  </div>\n"
            ],
            "application/vnd.google.colaboratory.intrinsic+json": {
              "type": "dataframe",
              "variable_name": "df",
              "summary": "{\n  \"name\": \"df\",\n  \"rows\": 5,\n  \"fields\": [\n    {\n      \"column\": \"emp_id\",\n      \"properties\": {\n        \"dtype\": \"number\",\n        \"std\": 1,\n        \"min\": 1,\n        \"max\": 5,\n        \"num_unique_values\": 5,\n        \"samples\": [\n          2,\n          5,\n          3\n        ],\n        \"semantic_type\": \"\",\n        \"description\": \"\"\n      }\n    },\n    {\n      \"column\": \"emp_name\",\n      \"properties\": {\n        \"dtype\": \"string\",\n        \"num_unique_values\": 5,\n        \"samples\": [\n          \"B\",\n          \"E\",\n          \"C\"\n        ],\n        \"semantic_type\": \"\",\n        \"description\": \"\"\n      }\n    },\n    {\n      \"column\": \"emp_salary\",\n      \"properties\": {\n        \"dtype\": \"number\",\n        \"std\": 1581,\n        \"min\": 1000,\n        \"max\": 5000,\n        \"num_unique_values\": 5,\n        \"samples\": [\n          2000,\n          5000,\n          3000\n        ],\n        \"semantic_type\": \"\",\n        \"description\": \"\"\n      }\n    }\n  ]\n}"
            }
          },
          "metadata": {},
          "execution_count": 13
        }
      ]
    },
    {
      "cell_type": "markdown",
      "source": [
        "Import Export\n",
        "\n",
        "File Types: CSV,excel,JSON,Paraquet,ORC,HTML,SQL\n",
        "\n",
        "Import: File--->DF  read_csv(),read_xlsx(),read_excel(),read_json()\n",
        "\n",
        "Export: DF--->File  to_csv(),to_excel(),to_json()"
      ],
      "metadata": {
        "id": "N2bwEUN0qsMD"
      }
    },
    {
      "cell_type": "markdown",
      "source": [
        "Export"
      ],
      "metadata": {
        "id": "8KVRyNLStkES"
      }
    },
    {
      "cell_type": "code",
      "source": [
        "df.to_csv('employee.csv',index=False)"
      ],
      "metadata": {
        "id": "Ea0inUVXpulK"
      },
      "execution_count": null,
      "outputs": []
    },
    {
      "cell_type": "code",
      "source": [
        "df.to_excel('employee.xlsx',index=False)"
      ],
      "metadata": {
        "id": "KH1uvl0rrOKx"
      },
      "execution_count": null,
      "outputs": []
    },
    {
      "cell_type": "code",
      "source": [
        "df.to_json('employee.json')"
      ],
      "metadata": {
        "id": "UjKURCKMrUUL"
      },
      "execution_count": null,
      "outputs": []
    },
    {
      "cell_type": "markdown",
      "source": [
        "Import"
      ],
      "metadata": {
        "id": "AaaOddEKtlQL"
      }
    },
    {
      "cell_type": "code",
      "source": [
        "df = pd.read_csv('/content/diabetes.csv',index_col=['Pid'])\n",
        "print(df)"
      ],
      "metadata": {
        "colab": {
          "base_uri": "https://localhost:8080/"
        },
        "id": "-Mx0T0qDtmR_",
        "outputId": "2eeb9755-50cf-47c6-ac04-a554b0bace4b"
      },
      "execution_count": null,
      "outputs": [
        {
          "output_type": "stream",
          "name": "stdout",
          "text": [
            "      Pregnancies  Glucose  BloodPressure  SkinThickness  Insulin   BMI  \\\n",
            "Pid                                                                       \n",
            "1001            6      148             72             35    250.0  33.6   \n",
            "1002            1       85             66             29    300.0  26.6   \n",
            "1003            8      183             64              0      NaN  23.3   \n",
            "1004            1       89             66             23     94.0  28.1   \n",
            "1005            0      137             40             35    168.0  43.1   \n",
            "...           ...      ...            ...            ...      ...   ...   \n",
            "1764           10      101             76             48    180.0  32.9   \n",
            "1765            2      122             70             27      0.0  36.8   \n",
            "1766            5      121             72             23    112.0  26.2   \n",
            "1767            1      126             60              0      0.0  30.1   \n",
            "1768            1       93             70             31      0.0  30.4   \n",
            "\n",
            "      DiabetesPedigreeFunction  Age  Outcome  \n",
            "Pid                                           \n",
            "1001                     0.627   50        1  \n",
            "1002                     0.351   31        0  \n",
            "1003                     0.672   32        1  \n",
            "1004                     0.167   21        0  \n",
            "1005                     2.288   33        1  \n",
            "...                        ...  ...      ...  \n",
            "1764                     0.171   63        0  \n",
            "1765                     0.340   27        0  \n",
            "1766                     0.245   30        0  \n",
            "1767                     0.349   47        1  \n",
            "1768                     0.315   23        0  \n",
            "\n",
            "[768 rows x 9 columns]\n"
          ]
        }
      ]
    },
    {
      "cell_type": "code",
      "source": [
        "#Selections: label based,index based,conditional"
      ],
      "metadata": {
        "id": "QhC-ImaxuwRU"
      },
      "execution_count": null,
      "outputs": []
    },
    {
      "cell_type": "code",
      "source": [
        "print(df['Glucose'])"
      ],
      "metadata": {
        "colab": {
          "base_uri": "https://localhost:8080/"
        },
        "id": "2C8jozguvJDP",
        "outputId": "b83331a0-08e2-4676-e591-640b82cd2026"
      },
      "execution_count": null,
      "outputs": [
        {
          "output_type": "stream",
          "name": "stdout",
          "text": [
            "Pid\n",
            "1001    148\n",
            "1002     85\n",
            "1003    183\n",
            "1004     89\n",
            "1005    137\n",
            "       ... \n",
            "1764    101\n",
            "1765    122\n",
            "1766    121\n",
            "1767    126\n",
            "1768     93\n",
            "Name: Glucose, Length: 768, dtype: int64\n"
          ]
        }
      ]
    },
    {
      "cell_type": "code",
      "source": [
        "#Label based: at[],loc[]\n",
        "print(df.at[1001,'Glucose'])    #[row_index,col label]\n",
        "#one label at a time\n",
        "\n",
        "df.at[1004,'Glucose'] = 100\n",
        "print(df.at[1004,'Glucose'])"
      ],
      "metadata": {
        "colab": {
          "base_uri": "https://localhost:8080/"
        },
        "id": "iB8npgtyv9z2",
        "outputId": "c7b6283d-2bff-4c39-c304-f05abac32161"
      },
      "execution_count": null,
      "outputs": [
        {
          "output_type": "stream",
          "name": "stdout",
          "text": [
            "148\n",
            "100\n"
          ]
        }
      ]
    },
    {
      "cell_type": "code",
      "source": [
        "#loc[row_index rande,column labels]\n",
        "print(df.loc[1001:1004,['Glucose','BloodPressure','Age']])"
      ],
      "metadata": {
        "colab": {
          "base_uri": "https://localhost:8080/"
        },
        "id": "aQBiLdiDxC4R",
        "outputId": "7f2d597f-85cb-4fdb-8cf2-3e01fcfd28bc"
      },
      "execution_count": null,
      "outputs": [
        {
          "output_type": "stream",
          "name": "stdout",
          "text": [
            "      Glucose  BloodPressure  Age\n",
            "Pid                              \n",
            "1001      148             72   50\n",
            "1002       85             66   31\n",
            "1003      183             64   32\n",
            "1004      100             66   21\n"
          ]
        }
      ]
    },
    {
      "cell_type": "code",
      "source": [
        "print(df.loc[[1002,1045,1157],['Glucose','BloodPressure','Age']])"
      ],
      "metadata": {
        "colab": {
          "base_uri": "https://localhost:8080/"
        },
        "id": "oWzNiTvhxpOW",
        "outputId": "d2ab4aba-f1ea-45e5-80b7-fa248ff6ca7b"
      },
      "execution_count": null,
      "outputs": [
        {
          "output_type": "stream",
          "name": "stdout",
          "text": [
            "      Glucose  BloodPressure  Age\n",
            "Pid                              \n",
            "1002       85             66   31\n",
            "1045      159             64   40\n",
            "1157       99             52   21\n"
          ]
        }
      ]
    },
    {
      "cell_type": "code",
      "source": [
        "df.loc[:,['City']]='Indore'\n",
        "print(df)"
      ],
      "metadata": {
        "colab": {
          "base_uri": "https://localhost:8080/"
        },
        "id": "OzOeOygWyF_9",
        "outputId": "7c5a512e-e794-4606-c133-4acb1f7a8937"
      },
      "execution_count": null,
      "outputs": [
        {
          "output_type": "stream",
          "name": "stdout",
          "text": [
            "      Pregnancies  Glucose  BloodPressure  SkinThickness  Insulin   BMI  \\\n",
            "Pid                                                                       \n",
            "1001            6      148             72             35    250.0  33.6   \n",
            "1002            1       85             66             29    300.0  26.6   \n",
            "1003            8      183             64              0      NaN  23.3   \n",
            "1004            1      100             66             23     94.0  28.1   \n",
            "1005            0      137             40             35    168.0  43.1   \n",
            "...           ...      ...            ...            ...      ...   ...   \n",
            "1764           10      101             76             48    180.0  32.9   \n",
            "1765            2      122             70             27      0.0  36.8   \n",
            "1766            5      121             72             23    112.0  26.2   \n",
            "1767            1      126             60              0      0.0  30.1   \n",
            "1768            1       93             70             31      0.0  30.4   \n",
            "\n",
            "      DiabetesPedigreeFunction  Age  Outcome    City  \n",
            "Pid                                                   \n",
            "1001                     0.627   50        1  Indore  \n",
            "1002                     0.351   31        0  Indore  \n",
            "1003                     0.672   32        1  Indore  \n",
            "1004                     0.167   21        0  Indore  \n",
            "1005                     2.288   33        1  Indore  \n",
            "...                        ...  ...      ...     ...  \n",
            "1764                     0.171   63        0  Indore  \n",
            "1765                     0.340   27        0  Indore  \n",
            "1766                     0.245   30        0  Indore  \n",
            "1767                     0.349   47        1  Indore  \n",
            "1768                     0.315   23        0  Indore  \n",
            "\n",
            "[768 rows x 10 columns]\n"
          ]
        }
      ]
    },
    {
      "cell_type": "code",
      "source": [
        "print(df.iloc[0:5,0:3])    #[row index,col index]"
      ],
      "metadata": {
        "colab": {
          "base_uri": "https://localhost:8080/"
        },
        "id": "QulvHqmByo13",
        "outputId": "d038f0b0-85b1-4359-9afa-0e5baecd6178"
      },
      "execution_count": null,
      "outputs": [
        {
          "output_type": "stream",
          "name": "stdout",
          "text": [
            "      Pregnancies  Glucose  BloodPressure\n",
            "Pid                                      \n",
            "1001            6      148             72\n",
            "1002            1       85             66\n",
            "1003            8      183             64\n",
            "1004            1      100             66\n",
            "1005            0      137             40\n"
          ]
        }
      ]
    },
    {
      "cell_type": "code",
      "source": [
        "print(df.iloc[1000:1005,0:3])"
      ],
      "metadata": {
        "colab": {
          "base_uri": "https://localhost:8080/"
        },
        "id": "J9nzJNXPzZ5a",
        "outputId": "63a6cc98-f089-4ee4-dd7a-d1215784ff98"
      },
      "execution_count": null,
      "outputs": [
        {
          "output_type": "stream",
          "name": "stdout",
          "text": [
            "Empty DataFrame\n",
            "Columns: [Pregnancies, Glucose, BloodPressure]\n",
            "Index: []\n"
          ]
        }
      ]
    },
    {
      "cell_type": "code",
      "source": [
        "print(df.info())"
      ],
      "metadata": {
        "colab": {
          "base_uri": "https://localhost:8080/"
        },
        "id": "fCYNxWQTzdF8",
        "outputId": "e921a78a-2bd6-467c-c9f5-5fb79465035e"
      },
      "execution_count": null,
      "outputs": [
        {
          "output_type": "stream",
          "name": "stdout",
          "text": [
            "<class 'pandas.core.frame.DataFrame'>\n",
            "Index: 768 entries, 1001 to 1768\n",
            "Data columns (total 10 columns):\n",
            " #   Column                    Non-Null Count  Dtype  \n",
            "---  ------                    --------------  -----  \n",
            " 0   Pregnancies               768 non-null    int64  \n",
            " 1   Glucose                   768 non-null    int64  \n",
            " 2   BloodPressure             768 non-null    int64  \n",
            " 3   SkinThickness             768 non-null    int64  \n",
            " 4   Insulin                   766 non-null    float64\n",
            " 5   BMI                       768 non-null    float64\n",
            " 6   DiabetesPedigreeFunction  768 non-null    float64\n",
            " 7   Age                       768 non-null    int64  \n",
            " 8   Outcome                   768 non-null    int64  \n",
            " 9   City                      768 non-null    object \n",
            "dtypes: float64(3), int64(6), object(1)\n",
            "memory usage: 82.2+ KB\n",
            "None\n"
          ]
        }
      ]
    },
    {
      "cell_type": "code",
      "source": [
        "#Condition\n",
        "print(df[(df['Glucose']>100) & (df['Age']>30)])"
      ],
      "metadata": {
        "colab": {
          "base_uri": "https://localhost:8080/"
        },
        "id": "CSCjalcfzg4Z",
        "outputId": "4ae8842d-47b4-4da4-cf0b-e05366f09a83"
      },
      "execution_count": null,
      "outputs": [
        {
          "output_type": "stream",
          "name": "stdout",
          "text": [
            "      Pregnancies  Glucose  BloodPressure  SkinThickness  Insulin   BMI  \\\n",
            "Pid                                                                       \n",
            "1001            6      148             72             35    250.0  33.6   \n",
            "1003            8      183             64              0      NaN  23.3   \n",
            "1005            0      137             40             35    168.0  43.1   \n",
            "1009            2      197             70             45    543.0  30.5   \n",
            "1010            8      125             96              0      0.0   0.0   \n",
            "...           ...      ...            ...            ...      ...   ...   \n",
            "1758            0      123             72              0      0.0  36.3   \n",
            "1760            6      190             92              0      0.0  35.5   \n",
            "1762            9      170             74             31      0.0  44.0   \n",
            "1764           10      101             76             48    180.0  32.9   \n",
            "1767            1      126             60              0      0.0  30.1   \n",
            "\n",
            "      DiabetesPedigreeFunction  Age  Outcome    City  \n",
            "Pid                                                   \n",
            "1001                     0.627   50        1  Indore  \n",
            "1003                     0.672   32        1  Indore  \n",
            "1005                     2.288   33        1  Indore  \n",
            "1009                     0.158   53        1  Indore  \n",
            "1010                     0.232   54        1  Indore  \n",
            "...                        ...  ...      ...     ...  \n",
            "1758                     0.258   52        1  Indore  \n",
            "1760                     0.278   66        1  Indore  \n",
            "1762                     0.403   43        1  Indore  \n",
            "1764                     0.171   63        0  Indore  \n",
            "1767                     0.349   47        1  Indore  \n",
            "\n",
            "[283 rows x 10 columns]\n"
          ]
        }
      ]
    },
    {
      "cell_type": "code",
      "source": [
        "df_new=df[df['Age']>30]\n",
        "print(df_new)"
      ],
      "metadata": {
        "colab": {
          "base_uri": "https://localhost:8080/"
        },
        "id": "owpcV5mY0qmW",
        "outputId": "0f4ca802-7df7-4c78-fbc0-abbb3c123376"
      },
      "execution_count": null,
      "outputs": [
        {
          "output_type": "stream",
          "name": "stdout",
          "text": [
            "      Pregnancies  Glucose  BloodPressure  SkinThickness  Insulin   BMI  \\\n",
            "Pid                                                                       \n",
            "1001            6      148             72             35    250.0  33.6   \n",
            "1002            1       85             66             29    300.0  26.6   \n",
            "1003            8      183             64              0      NaN  23.3   \n",
            "1005            0      137             40             35    168.0  43.1   \n",
            "1009            2      197             70             45    543.0  30.5   \n",
            "...           ...      ...            ...            ...      ...   ...   \n",
            "1760            6      190             92              0      0.0  35.5   \n",
            "1762            9      170             74             31      0.0  44.0   \n",
            "1763            9       89             62              0      0.0  22.5   \n",
            "1764           10      101             76             48    180.0  32.9   \n",
            "1767            1      126             60              0      0.0  30.1   \n",
            "\n",
            "      DiabetesPedigreeFunction  Age  Outcome    City  \n",
            "Pid                                                   \n",
            "1001                     0.627   50        1  Indore  \n",
            "1002                     0.351   31        0  Indore  \n",
            "1003                     0.672   32        1  Indore  \n",
            "1005                     2.288   33        1  Indore  \n",
            "1009                     0.158   53        1  Indore  \n",
            "...                        ...  ...      ...     ...  \n",
            "1760                     0.278   66        1  Indore  \n",
            "1762                     0.403   43        1  Indore  \n",
            "1763                     0.142   33        0  Indore  \n",
            "1764                     0.171   63        0  Indore  \n",
            "1767                     0.349   47        1  Indore  \n",
            "\n",
            "[351 rows x 10 columns]\n"
          ]
        }
      ]
    },
    {
      "cell_type": "code",
      "source": [
        "print(df[(df['Glucose']>100) | (df['Age']>30)])"
      ],
      "metadata": {
        "colab": {
          "base_uri": "https://localhost:8080/"
        },
        "id": "GsX30SBD0SCq",
        "outputId": "4bdd5ce1-0872-4bb3-a40c-e86809f84874"
      },
      "execution_count": null,
      "outputs": [
        {
          "output_type": "stream",
          "name": "stdout",
          "text": [
            "      Pregnancies  Glucose  BloodPressure  SkinThickness  Insulin   BMI  \\\n",
            "Pid                                                                       \n",
            "1001            6      148             72             35    250.0  33.6   \n",
            "1002            1       85             66             29    300.0  26.6   \n",
            "1003            8      183             64              0      NaN  23.3   \n",
            "1005            0      137             40             35    168.0  43.1   \n",
            "1006            5      116             74              0      NaN  25.6   \n",
            "...           ...      ...            ...            ...      ...   ...   \n",
            "1763            9       89             62              0      0.0  22.5   \n",
            "1764           10      101             76             48    180.0  32.9   \n",
            "1765            2      122             70             27      0.0  36.8   \n",
            "1766            5      121             72             23    112.0  26.2   \n",
            "1767            1      126             60              0      0.0  30.1   \n",
            "\n",
            "      DiabetesPedigreeFunction  Age  Outcome    City  \n",
            "Pid                                                   \n",
            "1001                     0.627   50        1  Indore  \n",
            "1002                     0.351   31        0  Indore  \n",
            "1003                     0.672   32        1  Indore  \n",
            "1005                     2.288   33        1  Indore  \n",
            "1006                     0.201   30        0  Indore  \n",
            "...                        ...  ...      ...     ...  \n",
            "1763                     0.142   33        0  Indore  \n",
            "1764                     0.171   63        0  Indore  \n",
            "1765                     0.340   27        0  Indore  \n",
            "1766                     0.245   30        0  Indore  \n",
            "1767                     0.349   47        1  Indore  \n",
            "\n",
            "[622 rows x 10 columns]\n"
          ]
        }
      ]
    },
    {
      "cell_type": "code",
      "source": [
        "print(df.Age.info())\n",
        "print(df['Age'].info())"
      ],
      "metadata": {
        "colab": {
          "base_uri": "https://localhost:8080/"
        },
        "id": "TXbMoeJ00VbD",
        "outputId": "49c915f7-72bb-4588-97c9-f6a771bb5e9c"
      },
      "execution_count": null,
      "outputs": [
        {
          "output_type": "stream",
          "name": "stdout",
          "text": [
            "<class 'pandas.core.series.Series'>\n",
            "Index: 768 entries, 1001 to 1768\n",
            "Series name: Age\n",
            "Non-Null Count  Dtype\n",
            "--------------  -----\n",
            "768 non-null    int64\n",
            "dtypes: int64(1)\n",
            "memory usage: 28.2 KB\n",
            "None\n",
            "<class 'pandas.core.series.Series'>\n",
            "Index: 768 entries, 1001 to 1768\n",
            "Series name: Age\n",
            "Non-Null Count  Dtype\n",
            "--------------  -----\n",
            "768 non-null    int64\n",
            "dtypes: int64(1)\n",
            "memory usage: 28.2 KB\n",
            "None\n"
          ]
        }
      ]
    },
    {
      "cell_type": "code",
      "source": [
        "print(df['Age'].info)"
      ],
      "metadata": {
        "colab": {
          "base_uri": "https://localhost:8080/"
        },
        "id": "utWiC_xJ1CgL",
        "outputId": "f95caf2b-efb5-4450-894b-a38d75ac8570"
      },
      "execution_count": null,
      "outputs": [
        {
          "output_type": "stream",
          "name": "stdout",
          "text": [
            "<bound method Series.info of Pid\n",
            "1001    50\n",
            "1002    31\n",
            "1003    32\n",
            "1004    21\n",
            "1005    33\n",
            "        ..\n",
            "1764    63\n",
            "1765    27\n",
            "1766    30\n",
            "1767    47\n",
            "1768    23\n",
            "Name: Age, Length: 768, dtype: int64>\n"
          ]
        }
      ]
    },
    {
      "cell_type": "code",
      "source": [
        "#Drop: rows(axis=0),columns(axis=1)\n",
        "df.drop(['City'],axis=1)\n",
        "print(df)"
      ],
      "metadata": {
        "colab": {
          "base_uri": "https://localhost:8080/"
        },
        "id": "TnQGvW0G1Qoj",
        "outputId": "dcd05576-29e5-425d-b28b-1f8348be4f18"
      },
      "execution_count": null,
      "outputs": [
        {
          "output_type": "stream",
          "name": "stdout",
          "text": [
            "      Pregnancies  Glucose  BloodPressure  SkinThickness  Insulin   BMI  \\\n",
            "Pid                                                                       \n",
            "1001            6      148             72             35    250.0  33.6   \n",
            "1002            1       85             66             29    300.0  26.6   \n",
            "1003            8      183             64              0      NaN  23.3   \n",
            "1004            1      100             66             23     94.0  28.1   \n",
            "1005            0      137             40             35    168.0  43.1   \n",
            "...           ...      ...            ...            ...      ...   ...   \n",
            "1764           10      101             76             48    180.0  32.9   \n",
            "1765            2      122             70             27      0.0  36.8   \n",
            "1766            5      121             72             23    112.0  26.2   \n",
            "1767            1      126             60              0      0.0  30.1   \n",
            "1768            1       93             70             31      0.0  30.4   \n",
            "\n",
            "      DiabetesPedigreeFunction  Age  Outcome    City  \n",
            "Pid                                                   \n",
            "1001                     0.627   50        1  Indore  \n",
            "1002                     0.351   31        0  Indore  \n",
            "1003                     0.672   32        1  Indore  \n",
            "1004                     0.167   21        0  Indore  \n",
            "1005                     2.288   33        1  Indore  \n",
            "...                        ...  ...      ...     ...  \n",
            "1764                     0.171   63        0  Indore  \n",
            "1765                     0.340   27        0  Indore  \n",
            "1766                     0.245   30        0  Indore  \n",
            "1767                     0.349   47        1  Indore  \n",
            "1768                     0.315   23        0  Indore  \n",
            "\n",
            "[768 rows x 10 columns]\n"
          ]
        }
      ]
    },
    {
      "cell_type": "code",
      "source": [
        "df_update =df.drop(['City'],axis=1)\n",
        "print(df_update)"
      ],
      "metadata": {
        "colab": {
          "base_uri": "https://localhost:8080/",
          "height": 313
        },
        "id": "xQ4TJD0R20sD",
        "outputId": "c8c35be5-0dba-4f86-9cf8-ae404c93f657"
      },
      "execution_count": null,
      "outputs": [
        {
          "output_type": "error",
          "ename": "KeyError",
          "evalue": "\"['City'] not found in axis\"",
          "traceback": [
            "\u001b[0;31m---------------------------------------------------------------------------\u001b[0m",
            "\u001b[0;31mKeyError\u001b[0m                                  Traceback (most recent call last)",
            "\u001b[0;32m<ipython-input-74-725960815cba>\u001b[0m in \u001b[0;36m<cell line: 0>\u001b[0;34m()\u001b[0m\n\u001b[0;32m----> 1\u001b[0;31m \u001b[0mdf_update1\u001b[0m \u001b[0;34m=\u001b[0m\u001b[0mdf\u001b[0m\u001b[0;34m.\u001b[0m\u001b[0mdrop\u001b[0m\u001b[0;34m(\u001b[0m\u001b[0;34m[\u001b[0m\u001b[0;34m'City'\u001b[0m\u001b[0;34m]\u001b[0m\u001b[0;34m,\u001b[0m\u001b[0maxis\u001b[0m\u001b[0;34m=\u001b[0m\u001b[0;36m1\u001b[0m\u001b[0;34m)\u001b[0m\u001b[0;34m\u001b[0m\u001b[0;34m\u001b[0m\u001b[0m\n\u001b[0m\u001b[1;32m      2\u001b[0m \u001b[0mprint\u001b[0m\u001b[0;34m(\u001b[0m\u001b[0mdf_update1\u001b[0m\u001b[0;34m)\u001b[0m\u001b[0;34m\u001b[0m\u001b[0;34m\u001b[0m\u001b[0m\n",
            "\u001b[0;32m/usr/local/lib/python3.11/dist-packages/pandas/core/frame.py\u001b[0m in \u001b[0;36mdrop\u001b[0;34m(self, labels, axis, index, columns, level, inplace, errors)\u001b[0m\n\u001b[1;32m   5579\u001b[0m                 \u001b[0mweight\u001b[0m  \u001b[0;36m1.0\u001b[0m     \u001b[0;36m0.8\u001b[0m\u001b[0;34m\u001b[0m\u001b[0;34m\u001b[0m\u001b[0m\n\u001b[1;32m   5580\u001b[0m         \"\"\"\n\u001b[0;32m-> 5581\u001b[0;31m         return super().drop(\n\u001b[0m\u001b[1;32m   5582\u001b[0m             \u001b[0mlabels\u001b[0m\u001b[0;34m=\u001b[0m\u001b[0mlabels\u001b[0m\u001b[0;34m,\u001b[0m\u001b[0;34m\u001b[0m\u001b[0;34m\u001b[0m\u001b[0m\n\u001b[1;32m   5583\u001b[0m             \u001b[0maxis\u001b[0m\u001b[0;34m=\u001b[0m\u001b[0maxis\u001b[0m\u001b[0;34m,\u001b[0m\u001b[0;34m\u001b[0m\u001b[0;34m\u001b[0m\u001b[0m\n",
            "\u001b[0;32m/usr/local/lib/python3.11/dist-packages/pandas/core/generic.py\u001b[0m in \u001b[0;36mdrop\u001b[0;34m(self, labels, axis, index, columns, level, inplace, errors)\u001b[0m\n\u001b[1;32m   4786\u001b[0m         \u001b[0;32mfor\u001b[0m \u001b[0maxis\u001b[0m\u001b[0;34m,\u001b[0m \u001b[0mlabels\u001b[0m \u001b[0;32min\u001b[0m \u001b[0maxes\u001b[0m\u001b[0;34m.\u001b[0m\u001b[0mitems\u001b[0m\u001b[0;34m(\u001b[0m\u001b[0;34m)\u001b[0m\u001b[0;34m:\u001b[0m\u001b[0;34m\u001b[0m\u001b[0;34m\u001b[0m\u001b[0m\n\u001b[1;32m   4787\u001b[0m             \u001b[0;32mif\u001b[0m \u001b[0mlabels\u001b[0m \u001b[0;32mis\u001b[0m \u001b[0;32mnot\u001b[0m \u001b[0;32mNone\u001b[0m\u001b[0;34m:\u001b[0m\u001b[0;34m\u001b[0m\u001b[0;34m\u001b[0m\u001b[0m\n\u001b[0;32m-> 4788\u001b[0;31m                 \u001b[0mobj\u001b[0m \u001b[0;34m=\u001b[0m \u001b[0mobj\u001b[0m\u001b[0;34m.\u001b[0m\u001b[0m_drop_axis\u001b[0m\u001b[0;34m(\u001b[0m\u001b[0mlabels\u001b[0m\u001b[0;34m,\u001b[0m \u001b[0maxis\u001b[0m\u001b[0;34m,\u001b[0m \u001b[0mlevel\u001b[0m\u001b[0;34m=\u001b[0m\u001b[0mlevel\u001b[0m\u001b[0;34m,\u001b[0m \u001b[0merrors\u001b[0m\u001b[0;34m=\u001b[0m\u001b[0merrors\u001b[0m\u001b[0;34m)\u001b[0m\u001b[0;34m\u001b[0m\u001b[0;34m\u001b[0m\u001b[0m\n\u001b[0m\u001b[1;32m   4789\u001b[0m \u001b[0;34m\u001b[0m\u001b[0m\n\u001b[1;32m   4790\u001b[0m         \u001b[0;32mif\u001b[0m \u001b[0minplace\u001b[0m\u001b[0;34m:\u001b[0m\u001b[0;34m\u001b[0m\u001b[0;34m\u001b[0m\u001b[0m\n",
            "\u001b[0;32m/usr/local/lib/python3.11/dist-packages/pandas/core/generic.py\u001b[0m in \u001b[0;36m_drop_axis\u001b[0;34m(self, labels, axis, level, errors, only_slice)\u001b[0m\n\u001b[1;32m   4828\u001b[0m                 \u001b[0mnew_axis\u001b[0m \u001b[0;34m=\u001b[0m \u001b[0maxis\u001b[0m\u001b[0;34m.\u001b[0m\u001b[0mdrop\u001b[0m\u001b[0;34m(\u001b[0m\u001b[0mlabels\u001b[0m\u001b[0;34m,\u001b[0m \u001b[0mlevel\u001b[0m\u001b[0;34m=\u001b[0m\u001b[0mlevel\u001b[0m\u001b[0;34m,\u001b[0m \u001b[0merrors\u001b[0m\u001b[0;34m=\u001b[0m\u001b[0merrors\u001b[0m\u001b[0;34m)\u001b[0m\u001b[0;34m\u001b[0m\u001b[0;34m\u001b[0m\u001b[0m\n\u001b[1;32m   4829\u001b[0m             \u001b[0;32melse\u001b[0m\u001b[0;34m:\u001b[0m\u001b[0;34m\u001b[0m\u001b[0;34m\u001b[0m\u001b[0m\n\u001b[0;32m-> 4830\u001b[0;31m                 \u001b[0mnew_axis\u001b[0m \u001b[0;34m=\u001b[0m \u001b[0maxis\u001b[0m\u001b[0;34m.\u001b[0m\u001b[0mdrop\u001b[0m\u001b[0;34m(\u001b[0m\u001b[0mlabels\u001b[0m\u001b[0;34m,\u001b[0m \u001b[0merrors\u001b[0m\u001b[0;34m=\u001b[0m\u001b[0merrors\u001b[0m\u001b[0;34m)\u001b[0m\u001b[0;34m\u001b[0m\u001b[0;34m\u001b[0m\u001b[0m\n\u001b[0m\u001b[1;32m   4831\u001b[0m             \u001b[0mindexer\u001b[0m \u001b[0;34m=\u001b[0m \u001b[0maxis\u001b[0m\u001b[0;34m.\u001b[0m\u001b[0mget_indexer\u001b[0m\u001b[0;34m(\u001b[0m\u001b[0mnew_axis\u001b[0m\u001b[0;34m)\u001b[0m\u001b[0;34m\u001b[0m\u001b[0;34m\u001b[0m\u001b[0m\n\u001b[1;32m   4832\u001b[0m \u001b[0;34m\u001b[0m\u001b[0m\n",
            "\u001b[0;32m/usr/local/lib/python3.11/dist-packages/pandas/core/indexes/base.py\u001b[0m in \u001b[0;36mdrop\u001b[0;34m(self, labels, errors)\u001b[0m\n\u001b[1;32m   7068\u001b[0m         \u001b[0;32mif\u001b[0m \u001b[0mmask\u001b[0m\u001b[0;34m.\u001b[0m\u001b[0many\u001b[0m\u001b[0;34m(\u001b[0m\u001b[0;34m)\u001b[0m\u001b[0;34m:\u001b[0m\u001b[0;34m\u001b[0m\u001b[0;34m\u001b[0m\u001b[0m\n\u001b[1;32m   7069\u001b[0m             \u001b[0;32mif\u001b[0m \u001b[0merrors\u001b[0m \u001b[0;34m!=\u001b[0m \u001b[0;34m\"ignore\"\u001b[0m\u001b[0;34m:\u001b[0m\u001b[0;34m\u001b[0m\u001b[0;34m\u001b[0m\u001b[0m\n\u001b[0;32m-> 7070\u001b[0;31m                 \u001b[0;32mraise\u001b[0m \u001b[0mKeyError\u001b[0m\u001b[0;34m(\u001b[0m\u001b[0;34mf\"{labels[mask].tolist()} not found in axis\"\u001b[0m\u001b[0;34m)\u001b[0m\u001b[0;34m\u001b[0m\u001b[0;34m\u001b[0m\u001b[0m\n\u001b[0m\u001b[1;32m   7071\u001b[0m             \u001b[0mindexer\u001b[0m \u001b[0;34m=\u001b[0m \u001b[0mindexer\u001b[0m\u001b[0;34m[\u001b[0m\u001b[0;34m~\u001b[0m\u001b[0mmask\u001b[0m\u001b[0;34m]\u001b[0m\u001b[0;34m\u001b[0m\u001b[0;34m\u001b[0m\u001b[0m\n\u001b[1;32m   7072\u001b[0m         \u001b[0;32mreturn\u001b[0m \u001b[0mself\u001b[0m\u001b[0;34m.\u001b[0m\u001b[0mdelete\u001b[0m\u001b[0;34m(\u001b[0m\u001b[0mindexer\u001b[0m\u001b[0;34m)\u001b[0m\u001b[0;34m\u001b[0m\u001b[0;34m\u001b[0m\u001b[0m\n",
            "\u001b[0;31mKeyError\u001b[0m: \"['City'] not found in axis\""
          ]
        }
      ]
    },
    {
      "cell_type": "code",
      "source": [
        "print(df)"
      ],
      "metadata": {
        "colab": {
          "base_uri": "https://localhost:8080/"
        },
        "id": "I6fvTiVD28e0",
        "outputId": "315febaf-9040-4e3c-a3e7-835821413157"
      },
      "execution_count": null,
      "outputs": [
        {
          "output_type": "stream",
          "name": "stdout",
          "text": [
            "      Pregnancies  Glucose  BloodPressure  SkinThickness  Insulin   BMI  \\\n",
            "Pid                                                                       \n",
            "1001            6      148             72             35    250.0  33.6   \n",
            "1002            1       85             66             29    300.0  26.6   \n",
            "1003            8      183             64              0      NaN  23.3   \n",
            "1004            1      100             66             23     94.0  28.1   \n",
            "1005            0      137             40             35    168.0  43.1   \n",
            "...           ...      ...            ...            ...      ...   ...   \n",
            "1764           10      101             76             48    180.0  32.9   \n",
            "1765            2      122             70             27      0.0  36.8   \n",
            "1766            5      121             72             23    112.0  26.2   \n",
            "1767            1      126             60              0      0.0  30.1   \n",
            "1768            1       93             70             31      0.0  30.4   \n",
            "\n",
            "      DiabetesPedigreeFunction  Age  Outcome  \n",
            "Pid                                           \n",
            "1001                     0.627   50        1  \n",
            "1002                     0.351   31        0  \n",
            "1003                     0.672   32        1  \n",
            "1004                     0.167   21        0  \n",
            "1005                     2.288   33        1  \n",
            "...                        ...  ...      ...  \n",
            "1764                     0.171   63        0  \n",
            "1765                     0.340   27        0  \n",
            "1766                     0.245   30        0  \n",
            "1767                     0.349   47        1  \n",
            "1768                     0.315   23        0  \n",
            "\n",
            "[768 rows x 9 columns]\n"
          ]
        }
      ]
    },
    {
      "cell_type": "code",
      "source": [
        "df.drop(1009,axis=0,inplace=True)\n",
        "#df.drop(1009:1012,axis=0,inplace=True)\n",
        "print(df)"
      ],
      "metadata": {
        "colab": {
          "base_uri": "https://localhost:8080/"
        },
        "id": "mJnxqLes3kON",
        "outputId": "832becbc-097f-4721-feb7-ad267364f212"
      },
      "execution_count": null,
      "outputs": [
        {
          "output_type": "stream",
          "name": "stdout",
          "text": [
            "      Pregnancies  Glucose  BloodPressure  SkinThickness  Insulin   BMI  \\\n",
            "Pid                                                                       \n",
            "1001            6      148             72             35    250.0  33.6   \n",
            "1002            1       85             66             29    300.0  26.6   \n",
            "1003            8      183             64              0      NaN  23.3   \n",
            "1005            0      137             40             35    168.0  43.1   \n",
            "1007            3       78             50             32     88.0  31.0   \n",
            "...           ...      ...            ...            ...      ...   ...   \n",
            "1764           10      101             76             48    180.0  32.9   \n",
            "1765            2      122             70             27      0.0  36.8   \n",
            "1766            5      121             72             23    112.0  26.2   \n",
            "1767            1      126             60              0      0.0  30.1   \n",
            "1768            1       93             70             31      0.0  30.4   \n",
            "\n",
            "      DiabetesPedigreeFunction  Age  Outcome  \n",
            "Pid                                           \n",
            "1001                     0.627   50        1  \n",
            "1002                     0.351   31        0  \n",
            "1003                     0.672   32        1  \n",
            "1005                     2.288   33        1  \n",
            "1007                     0.248   26        1  \n",
            "...                        ...  ...      ...  \n",
            "1764                     0.171   63        0  \n",
            "1765                     0.340   27        0  \n",
            "1766                     0.245   30        0  \n",
            "1767                     0.349   47        1  \n",
            "1768                     0.315   23        0  \n",
            "\n",
            "[765 rows x 9 columns]\n"
          ]
        }
      ]
    },
    {
      "cell_type": "code",
      "source": [
        "print(df.sort_values(by='Age'))"
      ],
      "metadata": {
        "colab": {
          "base_uri": "https://localhost:8080/"
        },
        "id": "PTOtnv2tFTBQ",
        "outputId": "f680cea5-4dbe-42fb-eaca-173f2b9b4989"
      },
      "execution_count": null,
      "outputs": [
        {
          "output_type": "stream",
          "name": "stdout",
          "text": [
            "      Pregnancies  Glucose  BloodPressure  SkinThickness  Insulin   BMI  \\\n",
            "Pid                                                                       \n",
            "1164            2      100             64             23      0.0  29.7   \n",
            "1512            0      139             62             17    210.0  22.1   \n",
            "1095            2      142             82             18     64.0  24.7   \n",
            "1274            1       71             78             50     45.0  33.2   \n",
            "1526            3       87             60             18      0.0  21.8   \n",
            "...           ...      ...            ...            ...      ...   ...   \n",
            "1124            5      132             80              0      0.0  26.8   \n",
            "1685            5      136             82              0      0.0   0.0   \n",
            "1667            4      145             82             18      0.0  32.5   \n",
            "1454            2      119              0              0      0.0  19.6   \n",
            "1460            9      134             74             33     60.0  25.9   \n",
            "\n",
            "      DiabetesPedigreeFunction  Age  Outcome  \n",
            "Pid                                           \n",
            "1164                     0.368   21        0  \n",
            "1512                     0.207   21        0  \n",
            "1095                     0.761   21        0  \n",
            "1274                     0.422   21        0  \n",
            "1526                     0.444   21        0  \n",
            "...                        ...  ...      ...  \n",
            "1124                     0.186   69        0  \n",
            "1685                     0.640   69        0  \n",
            "1667                     0.235   70        1  \n",
            "1454                     0.832   72        0  \n",
            "1460                     0.460   81        0  \n",
            "\n",
            "[765 rows x 9 columns]\n"
          ]
        }
      ]
    },
    {
      "cell_type": "code",
      "source": [
        "print(df.sort_values(by='Age',ascending=False))"
      ],
      "metadata": {
        "id": "JW3Kmn8J39CY",
        "colab": {
          "base_uri": "https://localhost:8080/"
        },
        "outputId": "737c8613-d53d-412b-87b0-201220f0201c"
      },
      "execution_count": null,
      "outputs": [
        {
          "output_type": "stream",
          "name": "stdout",
          "text": [
            "      Pregnancies  Glucose  BloodPressure  SkinThickness  Insulin   BMI  \\\n",
            "Pid                                                                       \n",
            "1460            9      134             74             33     60.0  25.9   \n",
            "1454            2      119              0              0      0.0  19.6   \n",
            "1667            4      145             82             18      0.0  32.5   \n",
            "1685            5      136             82              0      0.0   0.0   \n",
            "1124            5      132             80              0      0.0  26.8   \n",
            "...           ...      ...            ...            ...      ...   ...   \n",
            "1598            1       89             24             19     25.0  27.8   \n",
            "1466            0      124             56             13    105.0  21.8   \n",
            "1241            1       91             64             24      0.0  29.2   \n",
            "1606            1      124             60             32      0.0  35.8   \n",
            "1274            1       71             78             50     45.0  33.2   \n",
            "\n",
            "      DiabetesPedigreeFunction  Age  Outcome  \n",
            "Pid                                           \n",
            "1460                     0.460   81        0  \n",
            "1454                     0.832   72        0  \n",
            "1667                     0.235   70        1  \n",
            "1685                     0.640   69        0  \n",
            "1124                     0.186   69        0  \n",
            "...                        ...  ...      ...  \n",
            "1598                     0.559   21        0  \n",
            "1466                     0.452   21        0  \n",
            "1241                     0.192   21        0  \n",
            "1606                     0.514   21        0  \n",
            "1274                     0.422   21        0  \n",
            "\n",
            "[765 rows x 9 columns]\n"
          ]
        }
      ]
    },
    {
      "cell_type": "code",
      "source": [
        "print(df.sort_values(by=['Age','BloodPressure']))"
      ],
      "metadata": {
        "colab": {
          "base_uri": "https://localhost:8080/"
        },
        "id": "y1tdH_RkE8Ja",
        "outputId": "02e22973-3873-40ab-e129-50809ef1d824"
      },
      "execution_count": null,
      "outputs": [
        {
          "output_type": "stream",
          "name": "stdout",
          "text": [
            "      Pregnancies  Glucose  BloodPressure  SkinThickness  Insulin   BMI  \\\n",
            "Pid                                                                       \n",
            "1061            2       84              0              0      0.0   0.0   \n",
            "1598            1       89             24             19     25.0  27.8   \n",
            "1056            1       73             50             10      0.0  23.0   \n",
            "1509            2       84             50             23     76.0  30.4   \n",
            "1157            2       99             52             15     94.0  24.6   \n",
            "...           ...      ...            ...            ...      ...   ...   \n",
            "1124            5      132             80              0      0.0  26.8   \n",
            "1685            5      136             82              0      0.0   0.0   \n",
            "1667            4      145             82             18      0.0  32.5   \n",
            "1454            2      119              0              0      0.0  19.6   \n",
            "1460            9      134             74             33     60.0  25.9   \n",
            "\n",
            "      DiabetesPedigreeFunction  Age  Outcome  \n",
            "Pid                                           \n",
            "1061                     0.304   21        0  \n",
            "1598                     0.559   21        0  \n",
            "1056                     0.248   21        0  \n",
            "1509                     0.968   21        0  \n",
            "1157                     0.637   21        0  \n",
            "...                        ...  ...      ...  \n",
            "1124                     0.186   69        0  \n",
            "1685                     0.640   69        0  \n",
            "1667                     0.235   70        1  \n",
            "1454                     0.832   72        0  \n",
            "1460                     0.460   81        0  \n",
            "\n",
            "[765 rows x 9 columns]\n"
          ]
        }
      ]
    },
    {
      "cell_type": "code",
      "source": [
        "#EDA Functions\n",
        "print(df.head())"
      ],
      "metadata": {
        "colab": {
          "base_uri": "https://localhost:8080/"
        },
        "id": "Q6Z3uuN0FXJA",
        "outputId": "cde35a4a-134d-4cf0-8c0f-aaada88a8211"
      },
      "execution_count": null,
      "outputs": [
        {
          "output_type": "stream",
          "name": "stdout",
          "text": [
            "      Pregnancies  Glucose  BloodPressure  SkinThickness  Insulin   BMI  \\\n",
            "Pid                                                                       \n",
            "1001            6      148             72             35    250.0  33.6   \n",
            "1002            1       85             66             29    300.0  26.6   \n",
            "1003            8      183             64              0      NaN  23.3   \n",
            "1005            0      137             40             35    168.0  43.1   \n",
            "1007            3       78             50             32     88.0  31.0   \n",
            "\n",
            "      DiabetesPedigreeFunction  Age  Outcome  \n",
            "Pid                                           \n",
            "1001                     0.627   50        1  \n",
            "1002                     0.351   31        0  \n",
            "1003                     0.672   32        1  \n",
            "1005                     2.288   33        1  \n",
            "1007                     0.248   26        1  \n"
          ]
        }
      ]
    },
    {
      "cell_type": "code",
      "source": [
        "print(df.tail())"
      ],
      "metadata": {
        "colab": {
          "base_uri": "https://localhost:8080/"
        },
        "id": "LbqYtMsiFtqU",
        "outputId": "56bdd3ae-c6bc-4695-e379-8d00eda7ff77"
      },
      "execution_count": null,
      "outputs": [
        {
          "output_type": "stream",
          "name": "stdout",
          "text": [
            "      Pregnancies  Glucose  BloodPressure  SkinThickness  Insulin   BMI  \\\n",
            "Pid                                                                       \n",
            "1764           10      101             76             48    180.0  32.9   \n",
            "1765            2      122             70             27      0.0  36.8   \n",
            "1766            5      121             72             23    112.0  26.2   \n",
            "1767            1      126             60              0      0.0  30.1   \n",
            "1768            1       93             70             31      0.0  30.4   \n",
            "\n",
            "      DiabetesPedigreeFunction  Age  Outcome  \n",
            "Pid                                           \n",
            "1764                     0.171   63        0  \n",
            "1765                     0.340   27        0  \n",
            "1766                     0.245   30        0  \n",
            "1767                     0.349   47        1  \n",
            "1768                     0.315   23        0  \n"
          ]
        }
      ]
    },
    {
      "cell_type": "code",
      "source": [
        "print(df.sample(5))"
      ],
      "metadata": {
        "colab": {
          "base_uri": "https://localhost:8080/"
        },
        "id": "ZArANpSZF3aN",
        "outputId": "b0ed5253-b281-4451-c374-b377d34acb28"
      },
      "execution_count": null,
      "outputs": [
        {
          "output_type": "stream",
          "name": "stdout",
          "text": [
            "      Pregnancies  Glucose  BloodPressure  SkinThickness  Insulin   BMI  \\\n",
            "Pid                                                                       \n",
            "1062            8      133             72              0      0.0  32.9   \n",
            "1520            6      129             90              7    326.0  19.6   \n",
            "1483            4       85             58             22     49.0  27.8   \n",
            "1494            4      125             70             18    122.0  28.9   \n",
            "1549            1      164             82             43     67.0  32.8   \n",
            "\n",
            "      DiabetesPedigreeFunction  Age  Outcome  \n",
            "Pid                                           \n",
            "1062                     0.270   39        1  \n",
            "1520                     0.582   60        0  \n",
            "1483                     0.306   28        0  \n",
            "1494                     1.144   45        1  \n",
            "1549                     0.341   50        0  \n"
          ]
        }
      ]
    },
    {
      "cell_type": "code",
      "source": [
        "print(df.info())"
      ],
      "metadata": {
        "colab": {
          "base_uri": "https://localhost:8080/"
        },
        "id": "P4e7QszoF9nZ",
        "outputId": "0d7eb223-43f5-44b6-b44c-a475a4a44af0"
      },
      "execution_count": null,
      "outputs": [
        {
          "output_type": "stream",
          "name": "stdout",
          "text": [
            "<class 'pandas.core.frame.DataFrame'>\n",
            "Index: 765 entries, 1001 to 1768\n",
            "Data columns (total 9 columns):\n",
            " #   Column                    Non-Null Count  Dtype  \n",
            "---  ------                    --------------  -----  \n",
            " 0   Pregnancies               765 non-null    int64  \n",
            " 1   Glucose                   765 non-null    int64  \n",
            " 2   BloodPressure             765 non-null    int64  \n",
            " 3   SkinThickness             765 non-null    int64  \n",
            " 4   Insulin                   764 non-null    float64\n",
            " 5   BMI                       765 non-null    float64\n",
            " 6   DiabetesPedigreeFunction  765 non-null    float64\n",
            " 7   Age                       765 non-null    int64  \n",
            " 8   Outcome                   765 non-null    int64  \n",
            "dtypes: float64(3), int64(6)\n",
            "memory usage: 59.8 KB\n",
            "None\n"
          ]
        }
      ]
    },
    {
      "cell_type": "code",
      "source": [
        "print(df.describe())\n",
        "print(df.describe().T)"
      ],
      "metadata": {
        "colab": {
          "base_uri": "https://localhost:8080/"
        },
        "id": "fVNm1WGpGN2v",
        "outputId": "0c7d5df8-3971-46b0-a745-fde5f217956f"
      },
      "execution_count": null,
      "outputs": [
        {
          "output_type": "stream",
          "name": "stdout",
          "text": [
            "       Pregnancies     Glucose  BloodPressure  SkinThickness     Insulin  \\\n",
            "count   765.000000  765.000000     765.000000     765.000000  764.000000   \n",
            "mean      3.849673  120.843137      69.101961      20.528105   80.626963   \n",
            "std       3.373696   31.895386      19.392611      15.941428  115.164312   \n",
            "min       0.000000    0.000000       0.000000       0.000000    0.000000   \n",
            "25%       1.000000   99.000000      62.000000       0.000000    0.000000   \n",
            "50%       3.000000  117.000000      72.000000      23.000000   36.000000   \n",
            "75%       6.000000  140.000000      80.000000      32.000000  130.000000   \n",
            "max      17.000000  199.000000     122.000000      99.000000  846.000000   \n",
            "\n",
            "              BMI  DiabetesPedigreeFunction         Age     Outcome  \n",
            "count  765.000000                765.000000  765.000000  765.000000  \n",
            "mean    32.007974                  0.473039   33.235294    0.349020  \n",
            "std      7.894783                  0.331454   11.752667    0.476972  \n",
            "min      0.000000                  0.078000   21.000000    0.000000  \n",
            "25%     27.300000                  0.245000   24.000000    0.000000  \n",
            "50%     32.000000                  0.375000   29.000000    0.000000  \n",
            "75%     36.600000                  0.627000   41.000000    1.000000  \n",
            "max     67.100000                  2.420000   81.000000    1.000000  \n",
            "                          count        mean         std     min     25%  \\\n",
            "Pregnancies               765.0    3.849673    3.373696   0.000   1.000   \n",
            "Glucose                   765.0  120.843137   31.895386   0.000  99.000   \n",
            "BloodPressure             765.0   69.101961   19.392611   0.000  62.000   \n",
            "SkinThickness             765.0   20.528105   15.941428   0.000   0.000   \n",
            "Insulin                   764.0   80.626963  115.164312   0.000   0.000   \n",
            "BMI                       765.0   32.007974    7.894783   0.000  27.300   \n",
            "DiabetesPedigreeFunction  765.0    0.473039    0.331454   0.078   0.245   \n",
            "Age                       765.0   33.235294   11.752667  21.000  24.000   \n",
            "Outcome                   765.0    0.349020    0.476972   0.000   0.000   \n",
            "\n",
            "                              50%      75%     max  \n",
            "Pregnancies                 3.000    6.000   17.00  \n",
            "Glucose                   117.000  140.000  199.00  \n",
            "BloodPressure              72.000   80.000  122.00  \n",
            "SkinThickness              23.000   32.000   99.00  \n",
            "Insulin                    36.000  130.000  846.00  \n",
            "BMI                        32.000   36.600   67.10  \n",
            "DiabetesPedigreeFunction    0.375    0.627    2.42  \n",
            "Age                        29.000   41.000   81.00  \n",
            "Outcome                     0.000    1.000    1.00  \n"
          ]
        }
      ]
    },
    {
      "cell_type": "code",
      "source": [
        "print(df.describe(include='float64'))\n",
        "#print(df.describe(include='object'))"
      ],
      "metadata": {
        "colab": {
          "base_uri": "https://localhost:8080/"
        },
        "id": "UTq5kVF9LXCI",
        "outputId": "2a04b06b-3bcf-4735-c4ad-889b48cd81c5"
      },
      "execution_count": null,
      "outputs": [
        {
          "output_type": "stream",
          "name": "stdout",
          "text": [
            "          Insulin         BMI  DiabetesPedigreeFunction\n",
            "count  764.000000  765.000000                765.000000\n",
            "mean    80.626963   32.007974                  0.473039\n",
            "std    115.164312    7.894783                  0.331454\n",
            "min      0.000000    0.000000                  0.078000\n",
            "25%      0.000000   27.300000                  0.245000\n",
            "50%     36.000000   32.000000                  0.375000\n",
            "75%    130.000000   36.600000                  0.627000\n",
            "max    846.000000   67.100000                  2.420000\n"
          ]
        }
      ]
    },
    {
      "cell_type": "code",
      "source": [
        "print(df['BMI'].value_counts())"
      ],
      "metadata": {
        "colab": {
          "base_uri": "https://localhost:8080/"
        },
        "id": "K_7THsRJLhJP",
        "outputId": "2fd83be3-9752-490e-a5ff-000cfef700ed"
      },
      "execution_count": null,
      "outputs": [
        {
          "output_type": "stream",
          "name": "stdout",
          "text": [
            "BMI\n",
            "32.0    13\n",
            "31.6    12\n",
            "31.2    12\n",
            "0.0     11\n",
            "32.4    10\n",
            "        ..\n",
            "45.2     1\n",
            "36.7     1\n",
            "41.8     1\n",
            "42.6     1\n",
            "46.3     1\n",
            "Name: count, Length: 247, dtype: int64\n"
          ]
        }
      ]
    },
    {
      "cell_type": "code",
      "source": [
        "print(df['BMI'].value_counts().plot(kind='bar'))"
      ],
      "metadata": {
        "colab": {
          "base_uri": "https://localhost:8080/",
          "height": 484
        },
        "id": "JTFf9llAMDJk",
        "outputId": "e1e8d8ca-ce5b-4791-e33b-bb57c3bc5067"
      },
      "execution_count": null,
      "outputs": [
        {
          "output_type": "stream",
          "name": "stdout",
          "text": [
            "Axes(0.125,0.11;0.775x0.77)\n"
          ]
        },
        {
          "output_type": "display_data",
          "data": {
            "text/plain": [
              "<Figure size 640x480 with 1 Axes>"
            ],
            "image/png": "[encoded data removed]"
          },
          "metadata": {}
        }
      ]
    },
    {
      "cell_type": "code",
      "source": [
        "print(df['BMI'].value_counts().plot(kind='pie'))"
      ],
      "metadata": {
        "colab": {
          "base_uri": "https://localhost:8080/",
          "height": 424
        },
        "id": "cSTfuLO8Me-d",
        "outputId": "1815f0c0-4b77-4830-d01c-39f2262622a7"
      },
      "execution_count": null,
      "outputs": [
        {
          "output_type": "stream",
          "name": "stdout",
          "text": [
            "Axes(0.22375,0.11;0.5775x0.77)\n"
          ]
        },
        {
          "output_type": "display_data",
          "data": {
            "text/plain": [
              "<Figure size 640x480 with 1 Axes>"
            ],
            "image/png": "[encoded data removed]"
          },
          "metadata": {}
        }
      ]
    },
    {
      "cell_type": "code",
      "source": [
        "print(df['BMI'].value_counts().plot(kind='box'))"
      ],
      "metadata": {
        "colab": {
          "base_uri": "https://localhost:8080/",
          "height": 448
        },
        "id": "S8XLyxYwNLd4",
        "outputId": "76a0218d-c663-4c8a-8034-91c64cc45184"
      },
      "execution_count": null,
      "outputs": [
        {
          "output_type": "stream",
          "name": "stdout",
          "text": [
            "Axes(0.125,0.11;0.775x0.77)\n"
          ]
        },
        {
          "output_type": "display_data",
          "data": {
            "text/plain": [
              "<Figure size 640x480 with 1 Axes>"
            ],
            "image/png": "[encoded data removed]"
          },
          "metadata": {}
        }
      ]
    },
    {
      "cell_type": "code",
      "source": [
        "print(df['BMI'].value_counts().plot(kind='line'))"
      ],
      "metadata": {
        "colab": {
          "base_uri": "https://localhost:8080/",
          "height": 467
        },
        "id": "OxWgfZQENRr9",
        "outputId": "6044d0a8-c58a-4666-c5c4-71221264c558"
      },
      "execution_count": null,
      "outputs": [
        {
          "output_type": "stream",
          "name": "stdout",
          "text": [
            "Axes(0.125,0.11;0.775x0.77)\n"
          ]
        },
        {
          "output_type": "display_data",
          "data": {
            "text/plain": [
              "<Figure size 640x480 with 1 Axes>"
            ],
            "image/png": "[encoded data removed]"
          },
          "metadata": {}
        }
      ]
    },
    {
      "cell_type": "code",
      "source": [
        "print(df['BMI'].value_counts().plot(kind='hist'))"
      ],
      "metadata": {
        "colab": {
          "base_uri": "https://localhost:8080/",
          "height": 448
        },
        "id": "jllyEBj6NVtM",
        "outputId": "da59f786-b0a5-4891-d297-a20f469a42d9"
      },
      "execution_count": null,
      "outputs": [
        {
          "output_type": "stream",
          "name": "stdout",
          "text": [
            "Axes(0.125,0.11;0.775x0.77)\n"
          ]
        },
        {
          "output_type": "display_data",
          "data": {
            "text/plain": [
              "<Figure size 640x480 with 1 Axes>"
            ],
            "image/png": "[encoded data removed]"
          },
          "metadata": {}
        }
      ]
    },
    {
      "cell_type": "code",
      "source": [
        "print(df['BMI'].value_counts().plot(kind='area'))"
      ],
      "metadata": {
        "colab": {
          "base_uri": "https://localhost:8080/",
          "height": 467
        },
        "id": "eNO5pIkrNewP",
        "outputId": "55bf52fb-0a53-4674-920e-7b87b69227b5"
      },
      "execution_count": null,
      "outputs": [
        {
          "output_type": "stream",
          "name": "stdout",
          "text": [
            "Axes(0.125,0.11;0.775x0.77)\n"
          ]
        },
        {
          "output_type": "display_data",
          "data": {
            "text/plain": [
              "<Figure size 640x480 with 1 Axes>"
            ],
            "image/png": "[encoded data removed]"
          },
          "metadata": {}
        }
      ]
    },
    {
      "cell_type": "code",
      "source": [
        "print(df['BMI'].unique())"
      ],
      "metadata": {
        "colab": {
          "base_uri": "https://localhost:8080/"
        },
        "id": "S2WBKYZEMsWd",
        "outputId": "468dc0d3-2f3d-4800-fb28-7d37ba9dd6d8"
      },
      "execution_count": null,
      "outputs": [
        {
          "output_type": "stream",
          "name": "stdout",
          "text": [
            "[33.6 26.6 23.3 43.1 31.  35.3  0.  37.6 38.  27.1 30.1 25.8 30.  45.8\n",
            " 29.6 43.3 34.6 39.3 35.4 39.8 29.  36.6 31.1 39.4 23.2 22.2 34.1 36.\n",
            " 31.6 24.8 19.9 27.6 24.  33.2 32.9 38.2 37.1 34.  40.2 22.7 45.4 27.4\n",
            " 42.  29.7 28.  39.1 19.4 24.2 24.4 33.7 34.7 23.  37.7 46.8 40.5 41.5\n",
            " 25.  25.4 32.8 32.5 42.7 19.6 28.9 28.6 43.4 35.1 32.  24.7 32.6 43.2\n",
            " 22.4 29.3 24.6 48.8 32.4 38.5 26.5 19.1 46.7 23.8 33.9 20.4 28.7 49.7\n",
            " 39.  26.1 22.5 39.6 29.5 34.3 37.4 33.3 31.2 30.5 28.2 53.2 34.2 26.8\n",
            " 55.  42.9 34.5 27.9 38.3 21.1 33.8 30.8 36.9 39.5 27.3 21.9 40.6 47.9\n",
            " 50.  25.2 40.9 37.2 44.2 29.9 31.9 28.4 43.5 32.7 67.1 45.  34.9 27.7\n",
            " 35.9 22.6 33.1 30.4 52.3 24.3 22.9 34.8 30.9 40.1 23.9 37.5 35.5 42.8\n",
            " 42.6 41.8 35.8 37.8 28.8 23.6 35.7 36.7 45.2 44.  46.2 35.  43.6 44.1\n",
            " 18.4 29.2 25.6 25.9 32.1 36.3 40.  25.1 27.5 45.6 27.8 24.9 25.3 37.9\n",
            " 27.  26.  38.7 20.8 36.1 30.7 32.3 52.9 21.  39.7 25.5 26.2 19.3 38.1\n",
            " 23.5 45.5 23.1 39.9 36.8 21.8 41.  42.2 34.4 27.2 36.5 29.8 39.2 38.4\n",
            " 36.2 48.3 20.  22.3 45.7 23.7 22.1 42.1 42.4 18.2 26.4 45.3 37.  24.5\n",
            " 32.2 59.4 21.2 26.7 30.2 46.1 41.3 38.8 35.2 42.3 40.7 46.5 33.5 37.3\n",
            " 30.3 26.3 21.7 36.4 28.5 26.9 38.6 31.3 19.5 20.1 40.8 23.4 28.3 38.9\n",
            " 57.3 35.6 49.6 44.6 24.1 44.5 41.2 49.3 46.3]\n"
          ]
        }
      ]
    },
    {
      "cell_type": "code",
      "source": [
        "df.rename(columns={'BMI':'Body_Mass_Index'},inplace=True)\n",
        "print(df)"
      ],
      "metadata": {
        "colab": {
          "base_uri": "https://localhost:8080/"
        },
        "id": "5vuZUHRENiVg",
        "outputId": "af10791e-60ea-4229-862d-7df4ddc52763"
      },
      "execution_count": null,
      "outputs": [
        {
          "output_type": "stream",
          "name": "stdout",
          "text": [
            "      Pregnancies  Glucose  BloodPressure  SkinThickness  Insulin  \\\n",
            "Pid                                                                 \n",
            "1001            6      148             72             35    250.0   \n",
            "1002            1       85             66             29    300.0   \n",
            "1003            8      183             64              0      NaN   \n",
            "1005            0      137             40             35    168.0   \n",
            "1007            3       78             50             32     88.0   \n",
            "...           ...      ...            ...            ...      ...   \n",
            "1764           10      101             76             48    180.0   \n",
            "1765            2      122             70             27      0.0   \n",
            "1766            5      121             72             23    112.0   \n",
            "1767            1      126             60              0      0.0   \n",
            "1768            1       93             70             31      0.0   \n",
            "\n",
            "      Body_Mass_Index  DiabetesPedigreeFunction  Age  Outcome  \n",
            "Pid                                                            \n",
            "1001             33.6                     0.627   50        1  \n",
            "1002             26.6                     0.351   31        0  \n",
            "1003             23.3                     0.672   32        1  \n",
            "1005             43.1                     2.288   33        1  \n",
            "1007             31.0                     0.248   26        1  \n",
            "...               ...                       ...  ...      ...  \n",
            "1764             32.9                     0.171   63        0  \n",
            "1765             36.8                     0.340   27        0  \n",
            "1766             26.2                     0.245   30        0  \n",
            "1767             30.1                     0.349   47        1  \n",
            "1768             30.4                     0.315   23        0  \n",
            "\n",
            "[765 rows x 9 columns]\n"
          ]
        }
      ]
    },
    {
      "cell_type": "code",
      "source": [
        "#df['Gender'].replace({'Male':'M','Female':'F'},inplace=True)"
      ],
      "metadata": {
        "id": "zEFITqOdNzB7"
      },
      "execution_count": null,
      "outputs": []
    },
    {
      "cell_type": "code",
      "source": [
        "#df['Date'] = pd.to_datetime(df['Date'])"
      ],
      "metadata": {
        "id": "064xkh7XOuNt"
      },
      "execution_count": null,
      "outputs": []
    },
    {
      "cell_type": "code",
      "source": [
        "#astype()\n",
        "\n",
        "# Sample DataFrame\n",
        "data = {'col1': [1, 2, 3], 'col2': ['4', '5', '6'], 'col3': [7.0, 8.0, 9.0]}\n",
        "df = pd.DataFrame(data)\n",
        "\n",
        "# Convert 'col1' to float\n",
        "df['col1'] = df['col1'].astype(float)\n",
        "\n",
        "# Convert 'col2' to integer, handling errors by coercing invalid values to NaN\n",
        "df['col2'] = pd.to_numeric(df['col2'], errors='coerce').astype('Int64')\n",
        "\n",
        "# Convert 'col3' to string\n",
        "df['col3'] = df['col3'].astype(str)\n",
        "\n",
        "print(df.dtypes)\n",
        "print(df)"
      ],
      "metadata": {
        "colab": {
          "base_uri": "https://localhost:8080/"
        },
        "id": "n0v32ET9Rygk",
        "outputId": "58e6c99c-d8af-415c-b5f3-025d6dc3642c"
      },
      "execution_count": null,
      "outputs": [
        {
          "output_type": "stream",
          "name": "stdout",
          "text": [
            "col1    float64\n",
            "col2      Int64\n",
            "col3     object\n",
            "dtype: object\n",
            "   col1  col2 col3\n",
            "0   1.0     4  7.0\n",
            "1   2.0     5  8.0\n",
            "2   3.0     6  9.0\n"
          ]
        }
      ]
    },
    {
      "cell_type": "code",
      "source": [
        "print(df.query('Insulin > 30'))"
      ],
      "metadata": {
        "colab": {
          "base_uri": "https://localhost:8080/"
        },
        "id": "LWIozwc7Sp9N",
        "outputId": "0c8253f5-a116-4ad9-bf28-d38ddb260e4d"
      },
      "execution_count": null,
      "outputs": [
        {
          "output_type": "stream",
          "name": "stdout",
          "text": [
            "      Pregnancies  Glucose  BloodPressure  SkinThickness  Insulin   BMI  \\\n",
            "Pid                                                                       \n",
            "1001            6      148             72             35    250.0  33.6   \n",
            "1002            1       85             66             29    300.0  26.6   \n",
            "1004            1       89             66             23     94.0  28.1   \n",
            "1005            0      137             40             35    168.0  43.1   \n",
            "1007            3       78             50             32     88.0  31.0   \n",
            "...           ...      ...            ...            ...      ...   ...   \n",
            "1752            1      121             78             39     74.0  39.0   \n",
            "1754            0      181             88             44    510.0  43.3   \n",
            "1756            1      128             88             39    110.0  36.5   \n",
            "1764           10      101             76             48    180.0  32.9   \n",
            "1766            5      121             72             23    112.0  26.2   \n",
            "\n",
            "      DiabetesPedigreeFunction  Age  Outcome  \n",
            "Pid                                           \n",
            "1001                     0.627   50        1  \n",
            "1002                     0.351   31        0  \n",
            "1004                     0.167   21        0  \n",
            "1005                     2.288   33        1  \n",
            "1007                     0.248   26        1  \n",
            "...                        ...  ...      ...  \n",
            "1752                     0.261   28        0  \n",
            "1754                     0.222   26        1  \n",
            "1756                     1.057   37        1  \n",
            "1764                     0.171   63        0  \n",
            "1766                     0.245   30        0  \n",
            "\n",
            "[387 rows x 9 columns]\n"
          ]
        }
      ]
    },
    {
      "cell_type": "code",
      "source": [
        "df.groupby('Insulin')['Age'].mean()"
      ],
      "metadata": {
        "colab": {
          "base_uri": "https://localhost:8080/",
          "height": 490
        },
        "id": "LZcnnl0JTsud",
        "outputId": "28bd0e1f-5a2f-4ab6-c63a-cc9dff0ad88c"
      },
      "execution_count": null,
      "outputs": [
        {
          "output_type": "execute_result",
          "data": {
            "text/plain": [
              "Insulin\n",
              "0.0      35.815718\n",
              "14.0     25.000000\n",
              "15.0     23.000000\n",
              "16.0     22.000000\n",
              "18.0     23.000000\n",
              "           ...    \n",
              "579.0    28.000000\n",
              "600.0    52.000000\n",
              "680.0    23.000000\n",
              "744.0    31.000000\n",
              "846.0    59.000000\n",
              "Name: Age, Length: 187, dtype: float64"
            ],
            "text/html": [
              "<div>\n",
              "<style scoped>\n",
              "    .dataframe tbody tr th:only-of-type {\n",
              "        vertical-align: middle;\n",
              "    }\n",
              "\n",
              "    .dataframe tbody tr th {\n",
              "        vertical-align: top;\n",
              "    }\n",
              "\n",
              "    .dataframe thead th {\n",
              "        text-align: right;\n",
              "    }\n",
              "</style>\n",
              "<table border=\"1\" class=\"dataframe\">\n",
              "  <thead>\n",
              "    <tr style=\"text-align: right;\">\n",
              "      <th></th>\n",
              "      <th>Age</th>\n",
              "    </tr>\n",
              "    <tr>\n",
              "      <th>Insulin</th>\n",
              "      <th></th>\n",
              "    </tr>\n",
              "  </thead>\n",
              "  <tbody>\n",
              "    <tr>\n",
              "      <th>0.0</th>\n",
              "      <td>35.815718</td>\n",
              "    </tr>\n",
              "    <tr>\n",
              "      <th>14.0</th>\n",
              "      <td>25.000000</td>\n",
              "    </tr>\n",
              "    <tr>\n",
              "      <th>15.0</th>\n",
              "      <td>23.000000</td>\n",
              "    </tr>\n",
              "    <tr>\n",
              "      <th>16.0</th>\n",
              "      <td>22.000000</td>\n",
              "    </tr>\n",
              "    <tr>\n",
              "      <th>18.0</th>\n",
              "      <td>23.000000</td>\n",
              "    </tr>\n",
              "    <tr>\n",
              "      <th>...</th>\n",
              "      <td>...</td>\n",
              "    </tr>\n",
              "    <tr>\n",
              "      <th>579.0</th>\n",
              "      <td>28.000000</td>\n",
              "    </tr>\n",
              "    <tr>\n",
              "      <th>600.0</th>\n",
              "      <td>52.000000</td>\n",
              "    </tr>\n",
              "    <tr>\n",
              "      <th>680.0</th>\n",
              "      <td>23.000000</td>\n",
              "    </tr>\n",
              "    <tr>\n",
              "      <th>744.0</th>\n",
              "      <td>31.000000</td>\n",
              "    </tr>\n",
              "    <tr>\n",
              "      <th>846.0</th>\n",
              "      <td>59.000000</td>\n",
              "    </tr>\n",
              "  </tbody>\n",
              "</table>\n",
              "<p>187 rows × 1 columns</p>\n",
              "</div><br><label><b>dtype:</b> float64</label>"
            ]
          },
          "metadata": {},
          "execution_count": 125
        }
      ]
    },
    {
      "cell_type": "code",
      "source": [
        "df.groupby('Insulin')['Age'].count()"
      ],
      "metadata": {
        "colab": {
          "base_uri": "https://localhost:8080/",
          "height": 490
        },
        "id": "YOuDJRksUenw",
        "outputId": "dc40e67d-981f-43b5-908e-250df3243d77"
      },
      "execution_count": null,
      "outputs": [
        {
          "output_type": "execute_result",
          "data": {
            "text/plain": [
              "Insulin\n",
              "0.0      369\n",
              "14.0       1\n",
              "15.0       1\n",
              "16.0       1\n",
              "18.0       2\n",
              "        ... \n",
              "579.0      1\n",
              "600.0      1\n",
              "680.0      1\n",
              "744.0      1\n",
              "846.0      1\n",
              "Name: Age, Length: 187, dtype: int64"
            ],
            "text/html": [
              "<div>\n",
              "<style scoped>\n",
              "    .dataframe tbody tr th:only-of-type {\n",
              "        vertical-align: middle;\n",
              "    }\n",
              "\n",
              "    .dataframe tbody tr th {\n",
              "        vertical-align: top;\n",
              "    }\n",
              "\n",
              "    .dataframe thead th {\n",
              "        text-align: right;\n",
              "    }\n",
              "</style>\n",
              "<table border=\"1\" class=\"dataframe\">\n",
              "  <thead>\n",
              "    <tr style=\"text-align: right;\">\n",
              "      <th></th>\n",
              "      <th>Age</th>\n",
              "    </tr>\n",
              "    <tr>\n",
              "      <th>Insulin</th>\n",
              "      <th></th>\n",
              "    </tr>\n",
              "  </thead>\n",
              "  <tbody>\n",
              "    <tr>\n",
              "      <th>0.0</th>\n",
              "      <td>369</td>\n",
              "    </tr>\n",
              "    <tr>\n",
              "      <th>14.0</th>\n",
              "      <td>1</td>\n",
              "    </tr>\n",
              "    <tr>\n",
              "      <th>15.0</th>\n",
              "      <td>1</td>\n",
              "    </tr>\n",
              "    <tr>\n",
              "      <th>16.0</th>\n",
              "      <td>1</td>\n",
              "    </tr>\n",
              "    <tr>\n",
              "      <th>18.0</th>\n",
              "      <td>2</td>\n",
              "    </tr>\n",
              "    <tr>\n",
              "      <th>...</th>\n",
              "      <td>...</td>\n",
              "    </tr>\n",
              "    <tr>\n",
              "      <th>579.0</th>\n",
              "      <td>1</td>\n",
              "    </tr>\n",
              "    <tr>\n",
              "      <th>600.0</th>\n",
              "      <td>1</td>\n",
              "    </tr>\n",
              "    <tr>\n",
              "      <th>680.0</th>\n",
              "      <td>1</td>\n",
              "    </tr>\n",
              "    <tr>\n",
              "      <th>744.0</th>\n",
              "      <td>1</td>\n",
              "    </tr>\n",
              "    <tr>\n",
              "      <th>846.0</th>\n",
              "      <td>1</td>\n",
              "    </tr>\n",
              "  </tbody>\n",
              "</table>\n",
              "<p>187 rows × 1 columns</p>\n",
              "</div><br><label><b>dtype:</b> int64</label>"
            ]
          },
          "metadata": {},
          "execution_count": 126
        }
      ]
    },
    {
      "cell_type": "code",
      "source": [
        "df.groupby('Insulin')['Age'].mean().count()"
      ],
      "metadata": {
        "colab": {
          "base_uri": "https://localhost:8080/"
        },
        "id": "qipDNWPVUifH",
        "outputId": "3f6b4088-23cb-4a10-94c4-ceba9bd0ff9b"
      },
      "execution_count": null,
      "outputs": [
        {
          "output_type": "execute_result",
          "data": {
            "text/plain": [
              "187"
            ]
          },
          "metadata": {},
          "execution_count": 127
        }
      ]
    },
    {
      "cell_type": "code",
      "source": [
        "df.groupby('Insulin')['Age'].agg({'max','min','sum','mean'})"
      ],
      "metadata": {
        "colab": {
          "base_uri": "https://localhost:8080/",
          "height": 455
        },
        "id": "2nC3YckTVLfI",
        "outputId": "29e67b56-7347-4a56-e740-c4830411d484"
      },
      "execution_count": null,
      "outputs": [
        {
          "output_type": "execute_result",
          "data": {
            "text/plain": [
              "         max    sum  min       mean\n",
              "Insulin                            \n",
              "0.0       72  13216   21  35.815718\n",
              "14.0      25     25   25  25.000000\n",
              "15.0      23     23   23  23.000000\n",
              "16.0      22     22   22  22.000000\n",
              "18.0      25     46   21  23.000000\n",
              "...      ...    ...  ...        ...\n",
              "579.0     28     28   28  28.000000\n",
              "600.0     52     52   52  52.000000\n",
              "680.0     23     23   23  23.000000\n",
              "744.0     31     31   31  31.000000\n",
              "846.0     59     59   59  59.000000\n",
              "\n",
              "[187 rows x 4 columns]"
            ],
            "text/html": [
              "\n",
              "  <div id=\"df-852236d3-bbf6-4fe5-98fd-3136da3c6744\" class=\"colab-df-container\">\n",
              "    <div>\n",
              "<style scoped>\n",
              "    .dataframe tbody tr th:only-of-type {\n",
              "        vertical-align: middle;\n",
              "    }\n",
              "\n",
              "    .dataframe tbody tr th {\n",
              "        vertical-align: top;\n",
              "    }\n",
              "\n",
              "    .dataframe thead th {\n",
              "        text-align: right;\n",
              "    }\n",
              "</style>\n",
              "<table border=\"1\" class=\"dataframe\">\n",
              "  <thead>\n",
              "    <tr style=\"text-align: right;\">\n",
              "      <th></th>\n",
              "      <th>max</th>\n",
              "      <th>sum</th>\n",
              "      <th>min</th>\n",
              "      <th>mean</th>\n",
              "    </tr>\n",
              "    <tr>\n",
              "      <th>Insulin</th>\n",
              "      <th></th>\n",
              "      <th></th>\n",
              "      <th></th>\n",
              "      <th></th>\n",
              "    </tr>\n",
              "  </thead>\n",
              "  <tbody>\n",
              "    <tr>\n",
              "      <th>0.0</th>\n",
              "      <td>72</td>\n",
              "      <td>13216</td>\n",
              "      <td>21</td>\n",
              "      <td>35.815718</td>\n",
              "    </tr>\n",
              "    <tr>\n",
              "      <th>14.0</th>\n",
              "      <td>25</td>\n",
              "      <td>25</td>\n",
              "      <td>25</td>\n",
              "      <td>25.000000</td>\n",
              "    </tr>\n",
              "    <tr>\n",
              "      <th>15.0</th>\n",
              "      <td>23</td>\n",
              "      <td>23</td>\n",
              "      <td>23</td>\n",
              "      <td>23.000000</td>\n",
              "    </tr>\n",
              "    <tr>\n",
              "      <th>16.0</th>\n",
              "      <td>22</td>\n",
              "      <td>22</td>\n",
              "      <td>22</td>\n",
              "      <td>22.000000</td>\n",
              "    </tr>\n",
              "    <tr>\n",
              "      <th>18.0</th>\n",
              "      <td>25</td>\n",
              "      <td>46</td>\n",
              "      <td>21</td>\n",
              "      <td>23.000000</td>\n",
              "    </tr>\n",
              "    <tr>\n",
              "      <th>...</th>\n",
              "      <td>...</td>\n",
              "      <td>...</td>\n",
              "      <td>...</td>\n",
              "      <td>...</td>\n",
              "    </tr>\n",
              "    <tr>\n",
              "      <th>579.0</th>\n",
              "      <td>28</td>\n",
              "      <td>28</td>\n",
              "      <td>28</td>\n",
              "      <td>28.000000</td>\n",
              "    </tr>\n",
              "    <tr>\n",
              "      <th>600.0</th>\n",
              "      <td>52</td>\n",
              "      <td>52</td>\n",
              "      <td>52</td>\n",
              "      <td>52.000000</td>\n",
              "    </tr>\n",
              "    <tr>\n",
              "      <th>680.0</th>\n",
              "      <td>23</td>\n",
              "      <td>23</td>\n",
              "      <td>23</td>\n",
              "      <td>23.000000</td>\n",
              "    </tr>\n",
              "    <tr>\n",
              "      <th>744.0</th>\n",
              "      <td>31</td>\n",
              "      <td>31</td>\n",
              "      <td>31</td>\n",
              "      <td>31.000000</td>\n",
              "    </tr>\n",
              "    <tr>\n",
              "      <th>846.0</th>\n",
              "      <td>59</td>\n",
              "      <td>59</td>\n",
              "      <td>59</td>\n",
              "      <td>59.000000</td>\n",
              "    </tr>\n",
              "  </tbody>\n",
              "</table>\n",
              "<p>187 rows × 4 columns</p>\n",
              "</div>\n",
              "    <div class=\"colab-df-buttons\">\n",
              "\n",
              "  <div class=\"colab-df-container\">\n",
              "    <button class=\"colab-df-convert\" onclick=\"convertToInteractive('df-852236d3-bbf6-4fe5-98fd-3136da3c6744')\"\n",
              "            title=\"Convert this dataframe to an interactive table.\"\n",
              "            style=\"display:none;\">\n",
              "\n",
              "  <svg xmlns=\"http://www.w3.org/2000/svg\" height=\"24px\" viewBox=\"0 -960 960 960\">\n",
              "    <path d=\"M120-120v-720h720v720H120Zm60-500h600v-160H180v160Zm220 220h160v-160H400v160Zm0 220h160v-160H400v160ZM180-400h160v-160H180v160Zm440 0h160v-160H620v160ZM180-180h160v-160H180v160Zm440 0h160v-160H620v160Z\"/>\n",
              "  </svg>\n",
              "    </button>\n",
              "\n",
              "  <style>\n",
              "    .colab-df-container {\n",
              "      display:flex;\n",
              "      gap: 12px;\n",
              "    }\n",
              "\n",
              "    .colab-df-convert {\n",
              "      background-color: #E8F0FE;\n",
              "      border: none;\n",
              "      border-radius: 50%;\n",
              "      cursor: pointer;\n",
              "      display: none;\n",
              "      fill: #1967D2;\n",
              "      height: 32px;\n",
              "      padding: 0 0 0 0;\n",
              "      width: 32px;\n",
              "    }\n",
              "\n",
              "    .colab-df-convert:hover {\n",
              "      background-color: #E2EBFA;\n",
              "      box-shadow: 0px 1px 2px rgba(60, 64, 67, 0.3), 0px 1px 3px 1px rgba(60, 64, 67, 0.15);\n",
              "      fill: #174EA6;\n",
              "    }\n",
              "\n",
              "    .colab-df-buttons div {\n",
              "      margin-bottom: 4px;\n",
              "    }\n",
              "\n",
              "    [theme=dark] .colab-df-convert {\n",
              "      background-color: #3B4455;\n",
              "      fill: #D2E3FC;\n",
              "    }\n",
              "\n",
              "    [theme=dark] .colab-df-convert:hover {\n",
              "      background-color: #434B5C;\n",
              "      box-shadow: 0px 1px 3px 1px rgba(0, 0, 0, 0.15);\n",
              "      filter: drop-shadow(0px 1px 2px rgba(0, 0, 0, 0.3));\n",
              "      fill: #FFFFFF;\n",
              "    }\n",
              "  </style>\n",
              "\n",
              "    <script>\n",
              "      const buttonEl =\n",
              "        document.querySelector('#df-852236d3-bbf6-4fe5-98fd-3136da3c6744 button.colab-df-convert');\n",
              "      buttonEl.style.display =\n",
              "        google.colab.kernel.accessAllowed ? 'block' : 'none';\n",
              "\n",
              "      async function convertToInteractive(key) {\n",
              "        const element = document.querySelector('#df-852236d3-bbf6-4fe5-98fd-3136da3c6744');\n",
              "        const dataTable =\n",
              "          await google.colab.kernel.invokeFunction('convertToInteractive',\n",
              "                                                    [key], {});\n",
              "        if (!dataTable) return;\n",
              "\n",
              "        const docLinkHtml = 'Like what you see? Visit the ' +\n",
              "          '<a target=\"_blank\" href=https://colab.research.google.com/notebooks/data_table.ipynb>data table notebook</a>'\n",
              "          + ' to learn more about interactive tables.';\n",
              "        element.innerHTML = '';\n",
              "        dataTable['output_type'] = 'display_data';\n",
              "        await google.colab.output.renderOutput(dataTable, element);\n",
              "        const docLink = document.createElement('div');\n",
              "        docLink.innerHTML = docLinkHtml;\n",
              "        element.appendChild(docLink);\n",
              "      }\n",
              "    </script>\n",
              "  </div>\n",
              "\n",
              "\n",
              "<div id=\"df-08166eb0-f2ea-4730-b58d-94a71cc524b2\">\n",
              "  <button class=\"colab-df-quickchart\" onclick=\"quickchart('df-08166eb0-f2ea-4730-b58d-94a71cc524b2')\"\n",
              "            title=\"Suggest charts\"\n",
              "            style=\"display:none;\">\n",
              "\n",
              "<svg xmlns=\"http://www.w3.org/2000/svg\" height=\"24px\"viewBox=\"0 0 24 24\"\n",
              "     width=\"24px\">\n",
              "    <g>\n",
              "        <path d=\"M19 3H5c-1.1 0-2 .9-2 2v14c0 1.1.9 2 2 2h14c1.1 0 2-.9 2-2V5c0-1.1-.9-2-2-2zM9 17H7v-7h2v7zm4 0h-2V7h2v10zm4 0h-2v-4h2v4z\"/>\n",
              "    </g>\n",
              "</svg>\n",
              "  </button>\n",
              "\n",
              "<style>\n",
              "  .colab-df-quickchart {\n",
              "      --bg-color: #E8F0FE;\n",
              "      --fill-color: #1967D2;\n",
              "      --hover-bg-color: #E2EBFA;\n",
              "      --hover-fill-color: #174EA6;\n",
              "      --disabled-fill-color: #AAA;\n",
              "      --disabled-bg-color: #DDD;\n",
              "  }\n",
              "\n",
              "  [theme=dark] .colab-df-quickchart {\n",
              "      --bg-color: #3B4455;\n",
              "      --fill-color: #D2E3FC;\n",
              "      --hover-bg-color: #434B5C;\n",
              "      --hover-fill-color: #FFFFFF;\n",
              "      --disabled-bg-color: #3B4455;\n",
              "      --disabled-fill-color: #666;\n",
              "  }\n",
              "\n",
              "  .colab-df-quickchart {\n",
              "    background-color: var(--bg-color);\n",
              "    border: none;\n",
              "    border-radius: 50%;\n",
              "    cursor: pointer;\n",
              "    display: none;\n",
              "    fill: var(--fill-color);\n",
              "    height: 32px;\n",
              "    padding: 0;\n",
              "    width: 32px;\n",
              "  }\n",
              "\n",
              "  .colab-df-quickchart:hover {\n",
              "    background-color: var(--hover-bg-color);\n",
              "    box-shadow: 0 1px 2px rgba(60, 64, 67, 0.3), 0 1px 3px 1px rgba(60, 64, 67, 0.15);\n",
              "    fill: var(--button-hover-fill-color);\n",
              "  }\n",
              "\n",
              "  .colab-df-quickchart-complete:disabled,\n",
              "  .colab-df-quickchart-complete:disabled:hover {\n",
              "    background-color: var(--disabled-bg-color);\n",
              "    fill: var(--disabled-fill-color);\n",
              "    box-shadow: none;\n",
              "  }\n",
              "\n",
              "  .colab-df-spinner {\n",
              "    border: 2px solid var(--fill-color);\n",
              "    border-color: transparent;\n",
              "    border-bottom-color: var(--fill-color);\n",
              "    animation:\n",
              "      spin 1s steps(1) infinite;\n",
              "  }\n",
              "\n",
              "  @keyframes spin {\n",
              "    0% {\n",
              "      border-color: transparent;\n",
              "      border-bottom-color: var(--fill-color);\n",
              "      border-left-color: var(--fill-color);\n",
              "    }\n",
              "    20% {\n",
              "      border-color: transparent;\n",
              "      border-left-color: var(--fill-color);\n",
              "      border-top-color: var(--fill-color);\n",
              "    }\n",
              "    30% {\n",
              "      border-color: transparent;\n",
              "      border-left-color: var(--fill-color);\n",
              "      border-top-color: var(--fill-color);\n",
              "      border-right-color: var(--fill-color);\n",
              "    }\n",
              "    40% {\n",
              "      border-color: transparent;\n",
              "      border-right-color: var(--fill-color);\n",
              "      border-top-color: var(--fill-color);\n",
              "    }\n",
              "    60% {\n",
              "      border-color: transparent;\n",
              "      border-right-color: var(--fill-color);\n",
              "    }\n",
              "    80% {\n",
              "      border-color: transparent;\n",
              "      border-right-color: var(--fill-color);\n",
              "      border-bottom-color: var(--fill-color);\n",
              "    }\n",
              "    90% {\n",
              "      border-color: transparent;\n",
              "      border-bottom-color: var(--fill-color);\n",
              "    }\n",
              "  }\n",
              "</style>\n",
              "\n",
              "  <script>\n",
              "    async function quickchart(key) {\n",
              "      const quickchartButtonEl =\n",
              "        document.querySelector('#' + key + ' button');\n",
              "      quickchartButtonEl.disabled = true;  // To prevent multiple clicks.\n",
              "      quickchartButtonEl.classList.add('colab-df-spinner');\n",
              "      try {\n",
              "        const charts = await google.colab.kernel.invokeFunction(\n",
              "            'suggestCharts', [key], {});\n",
              "      } catch (error) {\n",
              "        console.error('Error during call to suggestCharts:', error);\n",
              "      }\n",
              "      quickchartButtonEl.classList.remove('colab-df-spinner');\n",
              "      quickchartButtonEl.classList.add('colab-df-quickchart-complete');\n",
              "    }\n",
              "    (() => {\n",
              "      let quickchartButtonEl =\n",
              "        document.querySelector('#df-08166eb0-f2ea-4730-b58d-94a71cc524b2 button');\n",
              "      quickchartButtonEl.style.display =\n",
              "        google.colab.kernel.accessAllowed ? 'block' : 'none';\n",
              "    })();\n",
              "  </script>\n",
              "</div>\n",
              "\n",
              "    </div>\n",
              "  </div>\n"
            ],
            "application/vnd.google.colaboratory.intrinsic+json": {
              "type": "dataframe",
              "summary": "{\n  \"name\": \"df\",\n  \"rows\": 187,\n  \"fields\": [\n    {\n      \"column\": \"Insulin\",\n      \"properties\": {\n        \"dtype\": \"number\",\n        \"std\": 151.52289984787984,\n        \"min\": 0.0,\n        \"max\": 846.0,\n        \"num_unique_values\": 187,\n        \"samples\": [\n          744.0,\n          125.0,\n          86.0\n        ],\n        \"semantic_type\": \"\",\n        \"description\": \"\"\n      }\n    },\n    {\n      \"column\": \"max\",\n      \"properties\": {\n        \"dtype\": \"number\",\n        \"std\": 12,\n        \"min\": 21,\n        \"max\": 81,\n        \"num_unique_values\": 44,\n        \"samples\": [\n          31,\n          41,\n          38\n        ],\n        \"semantic_type\": \"\",\n        \"description\": \"\"\n      }\n    },\n    {\n      \"column\": \"sum\",\n      \"properties\": {\n        \"dtype\": \"number\",\n        \"std\": 963,\n        \"min\": 21,\n        \"max\": 13216,\n        \"num_unique_values\": 92,\n        \"samples\": [\n          58,\n          103,\n          200\n        ],\n        \"semantic_type\": \"\",\n        \"description\": \"\"\n      }\n    },\n    {\n      \"column\": \"min\",\n      \"properties\": {\n        \"dtype\": \"number\",\n        \"std\": 8,\n        \"min\": 21,\n        \"max\": 60,\n        \"num_unique_values\": 33,\n        \"samples\": [\n          52,\n          27,\n          44\n        ],\n        \"semantic_type\": \"\",\n        \"description\": \"\"\n      }\n    },\n    {\n      \"column\": \"mean\",\n      \"properties\": {\n        \"dtype\": \"number\",\n        \"std\": 8.894043172326109,\n        \"min\": 21.0,\n        \"max\": 60.0,\n        \"num_unique_values\": 85,\n        \"samples\": [\n          42.5,\n          35.81571815718157,\n          26.5\n        ],\n        \"semantic_type\": \"\",\n        \"description\": \"\"\n      }\n    }\n  ]\n}"
            }
          },
          "metadata": {},
          "execution_count": 132
        }
      ]
    },
    {
      "cell_type": "code",
      "source": [
        "df.groupby('Insulin')['Age'].agg({'max','min','sum','mean'}).plot(kind='line')"
      ],
      "metadata": {
        "colab": {
          "base_uri": "https://localhost:8080/",
          "height": 467
        },
        "id": "TGaJcQsVVktm",
        "outputId": "bf4e6bee-ced0-4314-9afb-d133ad38db19"
      },
      "execution_count": null,
      "outputs": [
        {
          "output_type": "execute_result",
          "data": {
            "text/plain": [
              "<Axes: xlabel='Insulin'>"
            ]
          },
          "metadata": {},
          "execution_count": 133
        },
        {
          "output_type": "display_data",
          "data": {
            "text/plain": [
              "<Figure size 640x480 with 1 Axes>"
            ],
            "image/png": "[encoded data removed]"
          },
          "metadata": {}
        }
      ]
    },
    {
      "cell_type": "code",
      "source": [
        "df['age_group']=pd.cut(df['Age'],bins=[10,20,30,40,50,60],labels=['10-20','20-30','30-40','40-50','50-60'])\n",
        "print(df['age_group'].value_counts())"
      ],
      "metadata": {
        "colab": {
          "base_uri": "https://localhost:8080/"
        },
        "id": "OI1eGUd_VyRm",
        "outputId": "662fd85c-8417-4aaa-95fb-fc1d847d2284"
      },
      "execution_count": null,
      "outputs": [
        {
          "output_type": "stream",
          "name": "stdout",
          "text": [
            "age_group\n",
            "20-30    417\n",
            "30-40    157\n",
            "40-50    113\n",
            "50-60     54\n",
            "10-20      0\n",
            "Name: count, dtype: int64\n"
          ]
        }
      ]
    },
    {
      "cell_type": "code",
      "source": [],
      "metadata": {
        "id": "j6HWVxAtWtTW"
      },
      "execution_count": null,
      "outputs": []
    }
  ]
}